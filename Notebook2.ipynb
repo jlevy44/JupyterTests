{
 "cells": [
  {
   "cell_type": "code",
   "execution_count": 2,
   "metadata": {},
   "outputs": [
    {
     "ename": "AttributeError",
     "evalue": "'module' object has no attribute 'request'",
     "output_type": "error",
     "traceback": [
      "\u001b[0;31m---------------------------------------------------------------------------\u001b[0m",
      "\u001b[0;31mAttributeError\u001b[0m                            Traceback (most recent call last)",
      "\u001b[0;32m<ipython-input-2-9621884a2c1f>\u001b[0m in \u001b[0;36m<module>\u001b[0;34m()\u001b[0m\n\u001b[1;32m     15\u001b[0m     \u001b[0msavedplayerdata\u001b[0m\u001b[0;34m=\u001b[0m\u001b[0;34m\"\"\u001b[0m\u001b[0;34m\u001b[0m\u001b[0m\n\u001b[1;32m     16\u001b[0m     \u001b[0;31m#playerdata = \"\"\u001b[0m\u001b[0;34m\u001b[0m\u001b[0;34m\u001b[0m\u001b[0m\n\u001b[0;32m---> 17\u001b[0;31m     \u001b[0msoup\u001b[0m \u001b[0;34m=\u001b[0m \u001b[0mmake_soup\u001b[0m\u001b[0;34m(\u001b[0m\u001b[0;34m\"http://www.fftoday.com/rankings/playerwkproj.php?Season=2010&GameWeek={}&PosID=10&LeagueID=189999\"\u001b[0m\u001b[0;34m.\u001b[0m\u001b[0mformat\u001b[0m\u001b[0;34m(\u001b[0m\u001b[0mweek\u001b[0m\u001b[0;34m)\u001b[0m\u001b[0;34m)\u001b[0m\u001b[0;34m\u001b[0m\u001b[0m\n\u001b[0m\u001b[1;32m     18\u001b[0m     \u001b[0;31m# print(soup.find('table',{\"width\":\"100%\", \"cellpadding\":\"2\"}))\u001b[0m\u001b[0;34m\u001b[0m\u001b[0;34m\u001b[0m\u001b[0m\n\u001b[1;32m     19\u001b[0m \u001b[0;34m\u001b[0m\u001b[0m\n",
      "\u001b[0;32m<ipython-input-2-9621884a2c1f>\u001b[0m in \u001b[0;36mmake_soup\u001b[0;34m(url)\u001b[0m\n\u001b[1;32m      9\u001b[0m \u001b[0mtotalArr\u001b[0m \u001b[0;34m=\u001b[0m \u001b[0mnp\u001b[0m\u001b[0;34m.\u001b[0m\u001b[0mempty\u001b[0m\u001b[0;34m\u001b[0m\u001b[0m\n\u001b[1;32m     10\u001b[0m \u001b[0;32mdef\u001b[0m \u001b[0mmake_soup\u001b[0m\u001b[0;34m(\u001b[0m\u001b[0murl\u001b[0m\u001b[0;34m)\u001b[0m\u001b[0;34m:\u001b[0m\u001b[0;34m\u001b[0m\u001b[0m\n\u001b[0;32m---> 11\u001b[0;31m     \u001b[0murl\u001b[0m \u001b[0;34m=\u001b[0m \u001b[0murllib\u001b[0m\u001b[0;34m.\u001b[0m\u001b[0mrequest\u001b[0m\u001b[0;34m.\u001b[0m\u001b[0murlopen\u001b[0m\u001b[0;34m(\u001b[0m\u001b[0murl\u001b[0m\u001b[0;34m)\u001b[0m\u001b[0;34m\u001b[0m\u001b[0m\n\u001b[0m\u001b[1;32m     12\u001b[0m     \u001b[0msoupdata\u001b[0m \u001b[0;34m=\u001b[0m \u001b[0mBeautifulSoup\u001b[0m\u001b[0;34m(\u001b[0m\u001b[0murl\u001b[0m\u001b[0;34m,\u001b[0m \u001b[0;34m\"html.parser\"\u001b[0m\u001b[0;34m)\u001b[0m\u001b[0;34m\u001b[0m\u001b[0m\n\u001b[1;32m     13\u001b[0m     \u001b[0;32mreturn\u001b[0m \u001b[0msoupdata\u001b[0m\u001b[0;34m\u001b[0m\u001b[0m\n",
      "\u001b[0;31mAttributeError\u001b[0m: 'module' object has no attribute 'request'"
     ]
    }
   ],
   "source": [
    "# Adopted from Jordan Levy's code\n",
    "import requests\n",
    "import urllib\n",
    "#import urllib.request\n",
    "import numpy as np, pandas as pd\n",
    "\n",
    "from bs4 import BeautifulSoup\n",
    "\n",
    "totalArr = np.empty\n",
    "def make_soup(url):\n",
    "    url = urllib.request.urlopen(url)\n",
    "    soupdata = BeautifulSoup(url, \"html.parser\")\n",
    "    return soupdata\n",
    "for week in range(1,17):\n",
    "    savedplayerdata=\"\"\n",
    "    #playerdata = \"\"\n",
    "    soup = make_soup(\"http://www.fftoday.com/rankings/playerwkproj.php?Season=2010&GameWeek={}&PosID=10&LeagueID=189999\".format(week))\n",
    "    # print(soup.find('table',{\"width\":\"100%\", \"cellpadding\":\"2\"}))\n",
    "\n",
    "    table = soup.find('table', {\"width\": \"100%\", \"cellpadding\": \"2\"})\n",
    "    #for rows in table.findAll('tr'):\n",
    "    #playerdata=\"\"\n",
    "    playerdata = ','.join([data.text.strip(' ') for data in table.findAll('td', {\"class\":\"bodycontent\"})]).split(', , ')\n",
    "    playerdata[0] = playerdata[0].replace('\\xa0,\\xa0','')\n",
    "\n",
    "    #playerdata+=data.text+\",\"\n",
    "    print(playerdata)\n",
    "    playerArr = np.array([player.split(',') for player in playerdata])\n",
    "    totalArr=np.concatenate((totalArr,playerArr))\n",
    "    #playerArr[:,3:] = playerArr[:,3:])\n",
    "    #print(playerArr[10,6]-playerArr[10,7])\n",
    "players = pd.DataFrame(playerArr)\n",
    "players = players.set_index(0)\n",
    "\n",
    "print(players)\n",
    "#savedplayerdata= savedplayerdata + \"\\n\" + playerdata[1:]\n",
    "\n",
    "print(savedplayerdata)"
   ]
  },
  {
   "cell_type": "code",
   "execution_count": null,
   "metadata": {
    "collapsed": true
   },
   "outputs": [],
   "source": []
  }
 ],
 "metadata": {
  "kernelspec": {
   "display_name": "Python 2",
   "language": "python",
   "name": "python2"
  },
  "language_info": {
   "codemirror_mode": {
    "name": "ipython",
    "version": 2
   },
   "file_extension": ".py",
   "mimetype": "text/x-python",
   "name": "python",
   "nbconvert_exporter": "python",
   "pygments_lexer": "ipython2",
   "version": "2.7.13"
  }
 },
 "nbformat": 4,
 "nbformat_minor": 2
}
