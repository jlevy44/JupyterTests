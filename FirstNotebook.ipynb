{
 "cells": [
  {
   "cell_type": "code",
   "execution_count": 3,
   "metadata": {},
   "outputs": [
    {
     "data": {
      "image/png": "[encoded data removed]",
      "text/plain": [
       "<matplotlib.figure.Figure at 0x10c57d310>"
      ]
     },
     "metadata": {},
     "output_type": "display_data"
    }
   ],
   "source": [
    "import matplotlib, numpy as np\n",
    "import matplotlib.pyplot as plt\n",
    "x = np.arange(1,10000)\n",
    "y = np.log(x)\n",
    "\n",
    "plt.plot(x,y)\n",
    "\n",
    "plt.show()"
   ]
  },
  {
   "cell_type": "code",
   "execution_count": 1,
   "metadata": {
    "collapsed": true
   },
   "outputs": [],
   "source": [
    "import matplotlib\n",
    "matplotlib.use('Agg')\n",
    "import matplotlib.pyplot as plt\n",
    "import cPickle as pickle\n",
    "import pyamg\n",
    "#import peakutils\n",
    "from sklearn.feature_selection import SelectKBest\n",
    "from sklearn.pipeline import Pipeline\n",
    "from sklearn.neighbors import KernelDensity\n",
    "from collections import defaultdict\n",
    "from scipy.signal import argrelextrema\n",
    "from sklearn.neighbors import NearestNeighbors\n",
    "#from sklearn.feature_selection import SelectKBest\n",
    "from sklearn.cluster import FeatureAgglomeration\n",
    "from sklearn.decomposition import FactorAnalysis\n",
    "from sklearn.decomposition import KernelPCA\n",
    "import plotly.graph_objs as go\n",
    "import plotly.offline as py\n",
    "from sklearn.preprocessing import StandardScaler\n",
    "from sklearn.cluster import SpectralClustering\n",
    "from sklearn.feature_selection import chi2\n",
    "import scipy.sparse as sps\n",
    "#import networkx as nx\n",
    "from itertools import combinations\n",
    "from sklearn.cluster import KMeans, MiniBatchKMeans\n",
    "import numpy as np\n",
    "import time\n",
    "import os"
   ]
  },
  {
   "cell_type": "code",
   "execution_count": null,
   "metadata": {
    "collapsed": true
   },
   "outputs": [],
   "source": [
    "def cluster(args):\n",
    "    maindir, file, clusterMethod, n_subgenomes, metric = args\n",
    "    start = time.clock()\n",
    "    os.chdir(maindir)\n",
    "    try:\n",
    "        n_subgenomes = int(n_subgenomes)\n",
    "    except:\n",
    "        n_subgenomes = 2\n",
    "    n_clusters = n_subgenomes + 1\n",
    "    clustering_algorithms = {'SpectralClustering': SpectralClustering(n_clusters=n_clusters, eigen_solver='amg', affinity= 'precomputed', random_state=42),#,gamma=1),arpack#amg,affinity=\"nearest_neighbors\")#, n_neighbors=30, gamma=1),# nearestneighbors\n",
    "                             'KMeans': MiniBatchKMeans(n_clusters=n_clusters)}\n",
    "    name, algorithm = clusterMethod , clustering_algorithms[clusterMethod]\n",
    "    if 'recluster' not in file:\n",
    "        #dataOld = sps.load_npz('clusteringMatrix.npz')\n",
    "        scaffolds = pickle.load(open('scaffolds.p', 'rb'))\n",
    "        #kmers = pickle.load(open('kmers.p', 'rb'))\n",
    "        #kmerIdx = {i : kmer for i, kmer in enumerate(kmers)}\n",
    "        Tname = file.split('transformed3D')[0]\n",
    "        transformed_data = np.load(file)\n",
    "        print 'scaled %f'%(time.clock()-start)\n",
    "        t1 = time.clock()\n",
    "        transformed_data = StandardScaler().fit_transform(transformed_data)\n",
    "        print 'scaled_f %f'%(time.clock()-t1)\n",
    "        \n",
    "        if clusterMethod == 'SpectralClustering':\n",
    "            print 'NN %f'%(time.clock()-start)\n",
    "            t2 = time.clock()\n",
    "            neigh = NearestNeighbors(n_neighbors = 10,metric=metric)\n",
    "            neigh.fit(transformed_data)\n",
    "            fit_data = neigh.kneighbors_graph(transformed_data)\n",
    "            print 'NN_f %f'%(time.clock()-t2)\n",
    "            #print fit_data.toarray()\n",
    "        else:\n",
    "            fit_data = transformed_data\n",
    "\n",
    "        #clustering_names = ['SpectralClustering','KMeans']\n",
    "        #n_clusters = 3\n",
    "\n",
    "        #clustering_algorithms = [SpectralClustering(n_clusters=n_clusters,eigen_solver='amg',affinity=\"nearest_neighbors\", gamma=1),MiniBatchKMeans(n_clusters=3)]\n",
    "\n",
    "        #for name, algorithm in zip(clustering_names, clustering_algorithms):\n",
    "            #try:\n",
    "        if 1:#os.path.exists(name + Tname + 'n%d' % n_clusters + 'ClusterTest.html') == 0:\n",
    "            print 'cluster %f'%(time.clock()-start)\n",
    "            t3 = time.clock()\n",
    "            algorithm.fit(fit_data)\n",
    "            print 'cluster_f %f'%(time.clock()-t3)\n",
    "            if n_subgenomes > 2:\n",
    "                reduction = KernelPCA(n_components=3)\n",
    "                reduction.fit(transformed_data)\n",
    "                reductionT = reduction.transform(transformed_data)\n",
    "                scaledfit = StandardScaler()\n",
    "                scaledfit.fit(reductionT)\n",
    "                transformed_data2 = scaledfit.transform(reductionT)\n",
    "            else:\n",
    "                transformed_data2 = transformed_data\n",
    "            if hasattr(algorithm, 'labels_'):\n",
    "                y_pred = algorithm.labels_.astype(np.int)\n",
    "            else:\n",
    "                y_pred = algorithm.predict(transformed_data)\n",
    "            N = len(set(y_pred))\n",
    "            c = ['hsl(' + str(h) + ',50%' + ',50%)' for h in np.linspace(0, 360, N)]\n",
    "            # plot\n",
    "            plots = []\n",
    "            clusterSize = defaultdict(list)\n",
    "            try:\n",
    "                os.mkdir('analysisOutputs/')\n",
    "            except:\n",
    "                pass\n",
    "            try:\n",
    "                os.mkdir('analysisOutputs/' + name + Tname + 'n%d' % n_clusters)\n",
    "            except:\n",
    "                pass\n",
    "\n",
    "            for key in set(y_pred):\n",
    "                # print key\n",
    "                cluster_scaffolds = np.array(scaffolds)[y_pred == key]\n",
    "                if list(cluster_scaffolds):\n",
    "                    clusterSize[key] = np.mean(np.apply_along_axis(lambda x: np.linalg.norm(x),1,transformed_data[y_pred == key,:]))#len(cluster_scaffolds)\n",
    "                    if clusterSize[key] == min(clusterSize.values()):\n",
    "                        testCluster = key\n",
    "                    plots.append(\n",
    "                        go.Scatter3d(x=transformed_data2[y_pred == key, 0], y=transformed_data2[y_pred == key, 1],\n",
    "                                     z=transformed_data2[y_pred == key, 2],\n",
    "                                     name='Cluster %d, %d points, %f distance' % (key, len(cluster_scaffolds),clusterSize[key]), mode='markers',\n",
    "                                     marker=dict(color=c[key], size=2), text=cluster_scaffolds))\n",
    "\n",
    "            if hasattr(algorithm, 'cluster_centers_'):\n",
    "                if n_subgenomes > 2:\n",
    "                    centers = scaledfit.transform(reduction.transform(algorithm.cluster_centers_)) #FIXME modify!!! need scaler fitted model from transformeddata\n",
    "                else:\n",
    "                    centers = algorithm.cluster_centers_\n",
    "                plots.append(\n",
    "                    go.Scatter3d(x=centers[:, 0], y=centers[:, 1], z=centers[:, 2], mode='markers',\n",
    "                                 marker=dict(color='purple', symbol='circle', size=12),\n",
    "                                 opacity=0.4,\n",
    "                                 name='Centroids'))\n",
    "            for key in set(y_pred)-{testCluster}:\n",
    "                with open('analysisOutputs/' + name + Tname + 'n%d' % n_clusters + '/subgenome_%d.txt' % key, 'w') as f:\n",
    "                    f.write('\\n'.join(np.array(scaffolds)[y_pred == key]))\n",
    "\n",
    "            fig = go.Figure(data=plots)\n",
    "\n",
    "            #trainData = transformed_data[y_pred != testCluster]\n",
    "            #trainData_scaffolds = np.array(scaffolds)[y_pred != testCluster]\n",
    "\n",
    "            \"\"\"\n",
    "            trainLabels = y_pred[y_pred != testCluster]\n",
    "            trainData = dataOld[y_pred != testCluster]\n",
    "            kbest = SelectKBest(chi2,k = 500)\n",
    "            kbest.fit(trainData,trainLabels)\n",
    "            bestFeatures = kbest.pvalues_.argsort()[:500]\n",
    "            best_500_kmers = [kmers[i] for i in bestFeatures]\n",
    "            sps.save_npz('%s/recluster%s_clusteringMatrix.npz' %(reclusterFolder, name + Tname + 'n%d' % n_clusters), dataOld[:,bestFeatures])#.tocsc()#.tocoo())\n",
    "            with open('%s/kmer500Best_%s.fa'%(kmer500Path,name + Tname + 'n%d' % n_clusters),'w') as f:\n",
    "                f.write('\\n'.join('>%s\\n%s'%(kmer,kmer) for kmer in best_500_kmers))\n",
    "            subprocess.call('touch ' + 'analysisOutputs/' + name + Tname + 'n%d' % n_clusters + '.txt',\n",
    "                            shell=True)\"\"\"\n",
    "\n",
    "            py.plot(fig, filename=name + Tname + 'n%d' % n_clusters + 'ClusterTest.html')\n",
    "    "
   ]
  },
  {
   "cell_type": "code",
   "execution_count": null,
   "metadata": {},
   "outputs": [
    {
     "name": "stdout",
     "output_type": "stream",
     "text": [
      "2.660129\n",
      "scaled 0.046675\n",
      "scaled_f 0.006185\n",
      "NN 0.053147\n"
     ]
    }
   ],
   "source": [
    "start = time.clock()\n",
    "print time.clock()\n",
    "os.chdir('/Users/JoshuaLevy/PycharmProjects/jupyter/')\n",
    "cluster(('ClusteringMatrices/tobacco/','main_factor_2_transformed3D.npy','SpectralClustering',2,'cosine'))\n",
    "print 'total time = ' + str(time.clock() - start)"
   ]
  },
  {
   "cell_type": "code",
   "execution_count": null,
   "metadata": {},
   "outputs": [],
   "source": [
    "time.clock()"
   ]
  },
  {
   "cell_type": "code",
   "execution_count": null,
   "metadata": {
    "collapsed": true
   },
   "outputs": [],
   "source": [
    "start = time.clock()\n",
    "print time.clock()\n",
    "os.chdir('/Users/JoshuaLevy/PycharmProjects/jupyter/')\n",
    "cluster(('ClusteringMatrices/sweetpotato/','main_factor_3_transformed3D.npy','SpectralClustering',3,'cosine'))\n",
    "print 'total time = ' + str(time.clock() - start)"
   ]
  },
  {
   "cell_type": "code",
   "execution_count": 5,
   "metadata": {},
   "outputs": [],
   "source": [
    "start = time.clock()\n",
    "print time.clock()\n",
    "os.chdir('/Users/JoshuaLevy/PycharmProjects/jupyter/')\n",
    "cluster(('ClusteringMatrices/ABR/','main_factor_2_transformed3D.npy','SpectralClustering',2,'euclidean'))\n",
    "print 'total time = ' + str(time.clock() - start)"
   ]
  },
  {
   "cell_type": "code",
   "execution_count": null,
   "metadata": {
    "collapsed": true
   },
   "outputs": [],
   "source": []
  }
 ],
 "metadata": {
  "kernelspec": {
   "display_name": "Python 2",
   "language": "python",
   "name": "python2"
  },
  "language_info": {
   "codemirror_mode": {
    "name": "ipython",
    "version": 2
   },
   "file_extension": ".py",
   "mimetype": "text/x-python",
   "name": "python",
   "nbconvert_exporter": "python",
   "pygments_lexer": "ipython2",
   "version": "2.7.13"
  }
 },
 "nbformat": 4,
 "nbformat_minor": 2
}
