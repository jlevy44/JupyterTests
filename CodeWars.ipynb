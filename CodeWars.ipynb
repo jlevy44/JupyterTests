{
 "cells": [
  {
   "cell_type": "code",
   "execution_count": 109,
   "metadata": {},
   "outputs": [],
   "source": [
    "\"\"\"https://www.codewars.com/kata/55f89832ac9a66518f000118/train/python\"\"\"\n",
    "from collections import defaultdict\n",
    "import re\n",
    "def simplify(poly):\n",
    "    #poly = poly.replace('-','$').replace('+','$').split('$')\n",
    "    polyDict = defaultdict(lambda: defaultdict(list))\n",
    "    if poly.startswith('-') == 0 and poly.startswith('+') == 0:\n",
    "        poly = '+' + poly\n",
    "    #print(poly)\n",
    "    #print([m.start() for m in re.finditer('[+-]', poly)])\n",
    "    #print(list([m.start() for m in re.finditer('+', poly)]))\n",
    "    minusPos = sorted([m.start() for m in re.finditer('[+-]', poly)]) + [len(poly)]\n",
    "    polyExpressions = [poly[minusPos[i]:minusPos[i+1]] for i in range(len(minusPos[:])-1)]\n",
    "    #print(polyExpressions)\n",
    "    for polyVal in polyExpressions:\n",
    "        sign = polyVal[0]\n",
    "        polyVal = [val for val in re.split('(\\D+)', polyVal[1:]) if val]\n",
    "        #print(polyVal)\n",
    "        if len(polyVal) == 1:\n",
    "            polyVal = ['1']+polyVal\n",
    "        polyDict[len(polyVal[1])][''.join(sorted(polyVal[1]))].append(int(sign+polyVal[0]))\n",
    "    #print(polyDict)\n",
    "    finalStr = ''\n",
    "    #print(polyDict.keys())\n",
    "    for key1 in sorted(list(polyDict.keys())):\n",
    "        #print(key1)\n",
    "        for key in sorted(polyDict[key1].keys()):\n",
    "            numFinal = sum(polyDict[key1][key])\n",
    "            #print(numFinal)\n",
    "            if numFinal > 0:\n",
    "                out = '+' + str(numFinal)\n",
    "            else:\n",
    "                out = str(numFinal)\n",
    "            if abs(numFinal) == 1:\n",
    "                out = out.strip('1')\n",
    "            if abs(numFinal):\n",
    "                finalStr += out+key\n",
    "    if finalStr.startswith('+'):\n",
    "        finalStr = finalStr[1:]\n",
    "    return finalStr\n",
    "    "
   ]
  },
  {
   "cell_type": "code",
   "execution_count": 114,
   "metadata": {},
   "outputs": [
    {
     "name": "stdout",
     "output_type": "stream",
     "text": [
      "5f+y+3ab-23xx+47xz\n",
      "bc+abc\n",
      "xy\n",
      "-c+5ab\n",
      "3a+2ac-abc\n",
      "-xz+xyz\n",
      "a-ab+ac\n",
      "x-y\n",
      "-x+y\n"
     ]
    }
   ],
   "source": [
    "print(simplify('y+3y+54xz+5y-7xz+3ab+5f-23xx-8y'))\n",
    "\n",
    "print(simplify('cb+cba'))\n",
    "print(simplify(\"2xy-yx\"))\n",
    "print(simplify(\"-a+5ab+3a-c-2a\"))\n",
    "\n",
    "print(simplify(\"-abc+3a+2ac\"))\n",
    "print(simplify(\"xyz-xz\"))\n",
    "\n",
    "print(simplify(\"a+ca-ab\"))\n",
    "\n",
    "print(simplify(\"-y+x\"))\n",
    "print(simplify('y-x'))"
   ]
  },
  {
   "cell_type": "code",
   "execution_count": null,
   "metadata": {
    "collapsed": true
   },
   "outputs": [],
   "source": [
    "All possible sums and subtraction of equivalent monomials (\"xy==yx\") has been done, e.g.:\n",
    "\"cb+cba\" -> \"bc+abc\", \"2xy-yx\" -> \"xy\", \"-a+5ab+3a-c-2a\" -> \"-c+5ab\" \n",
    "\n",
    "All monomials appears in order of increasing number of variables, e.g.:\n",
    "\"-abc+3a+2ac\" -> \"3a+2ac-abc\", \"xyz-xz\" -> \"-xz+xyz\" \n",
    "\n",
    "If two monomials have the same number of variables, they appears in lexicographic order, e.g.:\n",
    "\"a+ca-ab\" -> \"a-ab+ac\", \"xzy+zby\" ->\"byz+xyz\" \n",
    "\n",
    "There is no leading + sign if the first coefficient is positive, e.g.:\n",
    "\"-y+x\" -> \"x-y\", but no restrictions for -: \"y-x\" ->\"-x+y\" "
   ]
  },
  {
   "cell_type": "code",
   "execution_count": null,
   "metadata": {
    "collapsed": true
   },
   "outputs": [],
   "source": []
  }
 ],
 "metadata": {
  "kernelspec": {
   "display_name": "Python 3",
   "language": "python",
   "name": "python3"
  },
  "language_info": {
   "codemirror_mode": {
    "name": "ipython",
    "version": 3
   },
   "file_extension": ".py",
   "mimetype": "text/x-python",
   "name": "python",
   "nbconvert_exporter": "python",
   "pygments_lexer": "ipython3",
   "version": "3.6.2"
  }
 },
 "nbformat": 4,
 "nbformat_minor": 2
}
