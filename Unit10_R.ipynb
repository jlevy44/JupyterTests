{
 "cells": [
  {
   "cell_type": "code",
   "execution_count": 1,
   "metadata": {
    "collapsed": true
   },
   "outputs": [],
   "source": [
    "load('drinks.RData')"
   ]
  },
  {
   "cell_type": "code",
   "execution_count": 2,
   "metadata": {},
   "outputs": [
    {
     "data": {
      "text/html": [
       "<table>\n",
       "<thead><tr><th scope=col>drinks.per.week</th></tr></thead>\n",
       "<tbody>\n",
       "\t<tr><td> 3</td></tr>\n",
       "\t<tr><td> 8</td></tr>\n",
       "\t<tr><td> 2</td></tr>\n",
       "\t<tr><td>15</td></tr>\n",
       "\t<tr><td> 2</td></tr>\n",
       "\t<tr><td> 2</td></tr>\n",
       "\t<tr><td> 0</td></tr>\n",
       "\t<tr><td> 0</td></tr>\n",
       "\t<tr><td> 4</td></tr>\n",
       "\t<tr><td> 5</td></tr>\n",
       "\t<tr><td> 2</td></tr>\n",
       "\t<tr><td> 7</td></tr>\n",
       "\t<tr><td> 0</td></tr>\n",
       "\t<tr><td> 1</td></tr>\n",
       "\t<tr><td> 5</td></tr>\n",
       "\t<tr><td> 3</td></tr>\n",
       "\t<tr><td> 0</td></tr>\n",
       "\t<tr><td> 2</td></tr>\n",
       "\t<tr><td> 5</td></tr>\n",
       "\t<tr><td> 4</td></tr>\n",
       "\t<tr><td> 1</td></tr>\n",
       "\t<tr><td> 6</td></tr>\n",
       "\t<tr><td> 9</td></tr>\n",
       "\t<tr><td> 5</td></tr>\n",
       "\t<tr><td> 3</td></tr>\n",
       "\t<tr><td> 1</td></tr>\n",
       "\t<tr><td> 2</td></tr>\n",
       "\t<tr><td>10</td></tr>\n",
       "\t<tr><td> 6</td></tr>\n",
       "\t<tr><td> 1</td></tr>\n",
       "\t<tr><td>⋮</td></tr>\n",
       "\t<tr><td> 9</td></tr>\n",
       "\t<tr><td> 2</td></tr>\n",
       "\t<tr><td> 2</td></tr>\n",
       "\t<tr><td> 2</td></tr>\n",
       "\t<tr><td> 1</td></tr>\n",
       "\t<tr><td>16</td></tr>\n",
       "\t<tr><td>10</td></tr>\n",
       "\t<tr><td>10</td></tr>\n",
       "\t<tr><td> 5</td></tr>\n",
       "\t<tr><td> 2</td></tr>\n",
       "\t<tr><td> 3</td></tr>\n",
       "\t<tr><td> 1</td></tr>\n",
       "\t<tr><td> 4</td></tr>\n",
       "\t<tr><td> 4</td></tr>\n",
       "\t<tr><td> 4</td></tr>\n",
       "\t<tr><td> 3</td></tr>\n",
       "\t<tr><td> 6</td></tr>\n",
       "\t<tr><td> 2</td></tr>\n",
       "\t<tr><td> 8</td></tr>\n",
       "\t<tr><td> 5</td></tr>\n",
       "\t<tr><td> 2</td></tr>\n",
       "\t<tr><td> 7</td></tr>\n",
       "\t<tr><td> 1</td></tr>\n",
       "\t<tr><td> 6</td></tr>\n",
       "\t<tr><td> 4</td></tr>\n",
       "\t<tr><td> 0</td></tr>\n",
       "\t<tr><td> 3</td></tr>\n",
       "\t<tr><td> 1</td></tr>\n",
       "\t<tr><td> 1</td></tr>\n",
       "\t<tr><td> 1</td></tr>\n",
       "</tbody>\n",
       "</table>\n"
      ],
      "text/latex": [
       "\\begin{tabular}{r|l}\n",
       " drinks.per.week\\\\\n",
       "\\hline\n",
       "\t  3\\\\\n",
       "\t  8\\\\\n",
       "\t  2\\\\\n",
       "\t 15\\\\\n",
       "\t  2\\\\\n",
       "\t  2\\\\\n",
       "\t  0\\\\\n",
       "\t  0\\\\\n",
       "\t  4\\\\\n",
       "\t  5\\\\\n",
       "\t  2\\\\\n",
       "\t  7\\\\\n",
       "\t  0\\\\\n",
       "\t  1\\\\\n",
       "\t  5\\\\\n",
       "\t  3\\\\\n",
       "\t  0\\\\\n",
       "\t  2\\\\\n",
       "\t  5\\\\\n",
       "\t  4\\\\\n",
       "\t  1\\\\\n",
       "\t  6\\\\\n",
       "\t  9\\\\\n",
       "\t  5\\\\\n",
       "\t  3\\\\\n",
       "\t  1\\\\\n",
       "\t  2\\\\\n",
       "\t 10\\\\\n",
       "\t  6\\\\\n",
       "\t  1\\\\\n",
       "\t ⋮\\\\\n",
       "\t  9\\\\\n",
       "\t  2\\\\\n",
       "\t  2\\\\\n",
       "\t  2\\\\\n",
       "\t  1\\\\\n",
       "\t 16\\\\\n",
       "\t 10\\\\\n",
       "\t 10\\\\\n",
       "\t  5\\\\\n",
       "\t  2\\\\\n",
       "\t  3\\\\\n",
       "\t  1\\\\\n",
       "\t  4\\\\\n",
       "\t  4\\\\\n",
       "\t  4\\\\\n",
       "\t  3\\\\\n",
       "\t  6\\\\\n",
       "\t  2\\\\\n",
       "\t  8\\\\\n",
       "\t  5\\\\\n",
       "\t  2\\\\\n",
       "\t  7\\\\\n",
       "\t  1\\\\\n",
       "\t  6\\\\\n",
       "\t  4\\\\\n",
       "\t  0\\\\\n",
       "\t  3\\\\\n",
       "\t  1\\\\\n",
       "\t  1\\\\\n",
       "\t  1\\\\\n",
       "\\end{tabular}\n"
      ],
      "text/markdown": [
       "\n",
       "drinks.per.week | \n",
       "|---|---|---|---|---|---|---|---|---|---|---|---|---|---|---|---|---|---|---|---|---|---|---|---|---|---|---|---|---|---|---|---|---|---|---|---|---|---|---|---|---|---|---|---|---|---|---|---|---|---|---|---|---|---|---|---|---|---|---|---|---|\n",
       "|  3 | \n",
       "|  8 | \n",
       "|  2 | \n",
       "| 15 | \n",
       "|  2 | \n",
       "|  2 | \n",
       "|  0 | \n",
       "|  0 | \n",
       "|  4 | \n",
       "|  5 | \n",
       "|  2 | \n",
       "|  7 | \n",
       "|  0 | \n",
       "|  1 | \n",
       "|  5 | \n",
       "|  3 | \n",
       "|  0 | \n",
       "|  2 | \n",
       "|  5 | \n",
       "|  4 | \n",
       "|  1 | \n",
       "|  6 | \n",
       "|  9 | \n",
       "|  5 | \n",
       "|  3 | \n",
       "|  1 | \n",
       "|  2 | \n",
       "| 10 | \n",
       "|  6 | \n",
       "|  1 | \n",
       "| ⋮ | \n",
       "|  9 | \n",
       "|  2 | \n",
       "|  2 | \n",
       "|  2 | \n",
       "|  1 | \n",
       "| 16 | \n",
       "| 10 | \n",
       "| 10 | \n",
       "|  5 | \n",
       "|  2 | \n",
       "|  3 | \n",
       "|  1 | \n",
       "|  4 | \n",
       "|  4 | \n",
       "|  4 | \n",
       "|  3 | \n",
       "|  6 | \n",
       "|  2 | \n",
       "|  8 | \n",
       "|  5 | \n",
       "|  2 | \n",
       "|  7 | \n",
       "|  1 | \n",
       "|  6 | \n",
       "|  4 | \n",
       "|  0 | \n",
       "|  3 | \n",
       "|  1 | \n",
       "|  1 | \n",
       "|  1 | \n",
       "\n",
       "\n"
      ],
      "text/plain": [
       "   drinks.per.week\n",
       "1   3             \n",
       "2   8             \n",
       "3   2             \n",
       "4  15             \n",
       "5   2             \n",
       "6   2             \n",
       "7   0             \n",
       "8   0             \n",
       "9   4             \n",
       "10  5             \n",
       "11  2             \n",
       "12  7             \n",
       "13  0             \n",
       "14  1             \n",
       "15  5             \n",
       "16  3             \n",
       "17  0             \n",
       "18  2             \n",
       "19  5             \n",
       "20  4             \n",
       "21  1             \n",
       "22  6             \n",
       "23  9             \n",
       "24  5             \n",
       "25  3             \n",
       "26  1             \n",
       "27  2             \n",
       "28 10             \n",
       "29  6             \n",
       "30  1             \n",
       "⋮  ⋮              \n",
       "46  9             \n",
       "47  2             \n",
       "48  2             \n",
       "49  2             \n",
       "50  1             \n",
       "51 16             \n",
       "52 10             \n",
       "53 10             \n",
       "54  5             \n",
       "55  2             \n",
       "56  3             \n",
       "57  1             \n",
       "58  4             \n",
       "59  4             \n",
       "60  4             \n",
       "61  3             \n",
       "62  6             \n",
       "63  2             \n",
       "64  8             \n",
       "65  5             \n",
       "66  2             \n",
       "67  7             \n",
       "68  1             \n",
       "69  6             \n",
       "70  4             \n",
       "71  0             \n",
       "72  3             \n",
       "73  1             \n",
       "74  1             \n",
       "75  1             "
      ]
     },
     "metadata": {},
     "output_type": "display_data"
    }
   ],
   "source": [
    "drinks"
   ]
  },
  {
   "cell_type": "code",
   "execution_count": 11,
   "metadata": {},
   "outputs": [
    {
     "data": {
      "text/plain": [
       "\n",
       "\tOne Sample t-test\n",
       "\n",
       "data:  drinks$drinks.per.week\n",
       "t = -1.8275, df = 74, p-value = 0.07165\n",
       "alternative hypothesis: true mean is not equal to 4.73\n",
       "95 percent confidence interval:\n",
       " 3.064735 4.801932\n",
       "sample estimates:\n",
       "mean of x \n",
       " 3.933333 \n"
      ]
     },
     "metadata": {},
     "output_type": "display_data"
    }
   ],
   "source": [
    "t.test(drinks$drinks.per.week,mu = 4.73, alternative = \"two.sided\")"
   ]
  },
  {
   "cell_type": "code",
   "execution_count": 7,
   "metadata": {},
   "outputs": [
    {
     "data": {
      "text/html": [
       "3.77521552394724"
      ],
      "text/latex": [
       "3.77521552394724"
      ],
      "text/markdown": [
       "3.77521552394724"
      ],
      "text/plain": [
       "[1] 3.775216"
      ]
     },
     "metadata": {},
     "output_type": "display_data"
    }
   ],
   "source": [
    "sd(drinks$drinks.per.week)"
   ]
  },
  {
   "cell_type": "code",
   "execution_count": 12,
   "metadata": {},
   "outputs": [
    {
     "data": {
      "text/html": [
       "0.035825"
      ],
      "text/latex": [
       "0.035825"
      ],
      "text/markdown": [
       "0.035825"
      ],
      "text/plain": [
       "[1] 0.035825"
      ]
     },
     "metadata": {},
     "output_type": "display_data"
    }
   ],
   "source": [
    "0.07165/2\n"
   ]
  },
  {
   "cell_type": "code",
   "execution_count": 13,
   "metadata": {
    "collapsed": true
   },
   "outputs": [],
   "source": [
    "load('seed.RData')"
   ]
  },
  {
   "cell_type": "code",
   "execution_count": 14,
   "metadata": {},
   "outputs": [
    {
     "data": {
      "text/plain": [
       "\n",
       "\tPaired t-test\n",
       "\n",
       "data:  seed$regular.seed and seed$kiln.dried.seed\n",
       "t = -1.6905, df = 10, p-value = 0.06091\n",
       "alternative hypothesis: true difference in means is less than 0\n",
       "95 percent confidence interval:\n",
       "     -Inf 2.433766\n",
       "sample estimates:\n",
       "mean of the differences \n",
       "              -33.72727 \n"
      ]
     },
     "metadata": {},
     "output_type": "display_data"
    }
   ],
   "source": [
    "t.test(seed$regular.seed, seed$kiln.dried.seed, alternative=\"less\", paired=TRUE)"
   ]
  },
  {
   "cell_type": "code",
   "execution_count": 21,
   "metadata": {},
   "outputs": [
    {
     "data": {
      "image/png": "[encoded data removed]",
      "text/plain": [
       "Plot with title “Histogram of seed$regular.seed - seed$kiln.dried.seed”"
      ]
     },
     "metadata": {},
     "output_type": "display_data"
    },
    {
     "data": {
      "image/png": "[encoded data removed]",
      "text/plain": [
       "plot without title"
      ]
     },
     "metadata": {},
     "output_type": "display_data"
    }
   ],
   "source": [
    "hist(seed$regular.seed-seed$kiln.dried.seed,breaks=6)\n",
    "boxplot(seed$regular.seed-seed$kiln.dried.seed)"
   ]
  },
  {
   "cell_type": "code",
   "execution_count": 22,
   "metadata": {},
   "outputs": [
    {
     "data": {
      "text/html": [
       "0.232831251955775"
      ],
      "text/latex": [
       "0.232831251955775"
      ],
      "text/markdown": [
       "0.232831251955775"
      ],
      "text/plain": [
       "[1] 0.2328313"
      ]
     },
     "metadata": {},
     "output_type": "display_data"
    }
   ],
   "source": [
    "1-pt((138.7-130)/(79.3/(45)^.5),44)"
   ]
  },
  {
   "cell_type": "code",
   "execution_count": 24,
   "metadata": {},
   "outputs": [
    {
     "data": {
      "text/html": [
       "0.735956799656298"
      ],
      "text/latex": [
       "0.735956799656298"
      ],
      "text/markdown": [
       "0.735956799656298"
      ],
      "text/plain": [
       "[1] 0.7359568"
      ]
     },
     "metadata": {},
     "output_type": "display_data"
    }
   ],
   "source": [
    "(138.7-130)/(79.3/(45)^.5)"
   ]
  },
  {
   "cell_type": "code",
   "execution_count": null,
   "metadata": {
    "collapsed": true
   },
   "outputs": [],
   "source": []
  }
 ],
 "metadata": {
  "kernelspec": {
   "display_name": "R",
   "language": "R",
   "name": "ir"
  },
  "language_info": {
   "codemirror_mode": "r",
   "file_extension": ".r",
   "mimetype": "text/x-r-source",
   "name": "R",
   "pygments_lexer": "r",
   "version": "3.4.0"
  }
 },
 "nbformat": 4,
 "nbformat_minor": 2
}
