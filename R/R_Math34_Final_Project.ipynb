{
 "cells": [
  {
   "cell_type": "code",
   "execution_count": 1,
   "metadata": {},
   "outputs": [
    {
     "name": "stdout",
     "output_type": "stream",
     "text": [
      "\n",
      "The downloaded binary packages are in\n",
      "\t/var/folders/mj/jyvlrh717hdgms0mf1vy_8g80000gn/T//RtmpN59BU6/downloaded_packages\n"
     ]
    }
   ],
   "source": [
    "#install.packages('ggplot2')\n",
    "library(ggplot2)"
   ]
  },
  {
   "cell_type": "code",
   "execution_count": 1,
   "metadata": {
    "collapsed": true
   },
   "outputs": [],
   "source": [
    "data = read.csv('classifier_accuracy_out.csv')"
   ]
  },
  {
   "cell_type": "code",
   "execution_count": 14,
   "metadata": {
    "scrolled": false
   },
   "outputs": [
    {
     "data": {
      "text/html": [
       "<table>\n",
       "<thead><tr><th></th><th scope=col>Nearest.Neighbors</th><th scope=col>Neural.Network</th><th scope=col>Pairwise.Accuracy.Differences</th></tr></thead>\n",
       "<tbody>\n",
       "\t<tr><th scope=row>50</th><td>84</td><td>86</td><td>-2</td></tr>\n",
       "\t<tr><th scope=row>51</th><td>81</td><td>84</td><td>-3</td></tr>\n",
       "\t<tr><th scope=row>52</th><td>90</td><td>82</td><td> 8</td></tr>\n",
       "\t<tr><th scope=row>53</th><td>79</td><td>82</td><td>-3</td></tr>\n",
       "\t<tr><th scope=row>54</th><td>83</td><td>82</td><td> 1</td></tr>\n",
       "\t<tr><th scope=row>55</th><td>81</td><td>86</td><td>-5</td></tr>\n",
       "\t<tr><th scope=row>56</th><td>86</td><td>90</td><td>-4</td></tr>\n",
       "\t<tr><th scope=row>57</th><td>88</td><td>85</td><td> 3</td></tr>\n",
       "\t<tr><th scope=row>58</th><td>87</td><td>79</td><td> 8</td></tr>\n",
       "\t<tr><th scope=row>59</th><td>83</td><td>84</td><td>-1</td></tr>\n",
       "\t<tr><th scope=row>60</th><td>84</td><td>88</td><td>-4</td></tr>\n",
       "\t<tr><th scope=row>61</th><td>81</td><td>82</td><td>-1</td></tr>\n",
       "\t<tr><th scope=row>62</th><td>86</td><td>90</td><td>-4</td></tr>\n",
       "\t<tr><th scope=row>63</th><td>86</td><td>86</td><td> 0</td></tr>\n",
       "\t<tr><th scope=row>64</th><td>89</td><td>85</td><td> 4</td></tr>\n",
       "\t<tr><th scope=row>65</th><td>90</td><td>90</td><td> 0</td></tr>\n",
       "\t<tr><th scope=row>66</th><td>88</td><td>85</td><td> 3</td></tr>\n",
       "\t<tr><th scope=row>67</th><td>84</td><td>84</td><td> 0</td></tr>\n",
       "\t<tr><th scope=row>68</th><td>81</td><td>83</td><td>-2</td></tr>\n",
       "\t<tr><th scope=row>69</th><td>82</td><td>76</td><td> 6</td></tr>\n",
       "\t<tr><th scope=row>70</th><td>83</td><td>81</td><td> 2</td></tr>\n",
       "\t<tr><th scope=row>71</th><td>90</td><td>87</td><td> 3</td></tr>\n",
       "\t<tr><th scope=row>72</th><td>82</td><td>88</td><td>-6</td></tr>\n",
       "\t<tr><th scope=row>73</th><td>85</td><td>82</td><td> 3</td></tr>\n",
       "\t<tr><th scope=row>74</th><td>82</td><td>82</td><td> 0</td></tr>\n",
       "\t<tr><th scope=row>75</th><td>79</td><td>79</td><td> 0</td></tr>\n",
       "\t<tr><th scope=row>76</th><td>84</td><td>85</td><td>-1</td></tr>\n",
       "\t<tr><th scope=row>77</th><td>79</td><td>85</td><td>-6</td></tr>\n",
       "\t<tr><th scope=row>78</th><td>85</td><td>89</td><td>-4</td></tr>\n",
       "\t<tr><th scope=row>79</th><td>86</td><td>89</td><td>-3</td></tr>\n",
       "\t<tr><th scope=row>80</th><td>82</td><td>89</td><td>-7</td></tr>\n",
       "\t<tr><th scope=row>81</th><td>85</td><td>87</td><td>-2</td></tr>\n",
       "\t<tr><th scope=row>82</th><td>81</td><td>85</td><td>-4</td></tr>\n",
       "\t<tr><th scope=row>83</th><td>85</td><td>83</td><td> 2</td></tr>\n",
       "\t<tr><th scope=row>84</th><td>83</td><td>85</td><td>-2</td></tr>\n",
       "\t<tr><th scope=row>85</th><td>86</td><td>84</td><td> 2</td></tr>\n",
       "\t<tr><th scope=row>86</th><td>85</td><td>88</td><td>-3</td></tr>\n",
       "\t<tr><th scope=row>87</th><td>85</td><td>85</td><td> 0</td></tr>\n",
       "\t<tr><th scope=row>88</th><td>80</td><td>81</td><td>-1</td></tr>\n",
       "\t<tr><th scope=row>89</th><td>78</td><td>81</td><td>-3</td></tr>\n",
       "\t<tr><th scope=row>90</th><td>82</td><td>86</td><td>-4</td></tr>\n",
       "\t<tr><th scope=row>91</th><td>86</td><td>79</td><td> 7</td></tr>\n",
       "\t<tr><th scope=row>92</th><td>88</td><td>82</td><td> 6</td></tr>\n",
       "\t<tr><th scope=row>93</th><td>86</td><td>80</td><td> 6</td></tr>\n",
       "\t<tr><th scope=row>94</th><td>83</td><td>88</td><td>-5</td></tr>\n",
       "\t<tr><th scope=row>95</th><td>82</td><td>81</td><td> 1</td></tr>\n",
       "\t<tr><th scope=row>96</th><td>87</td><td>84</td><td> 3</td></tr>\n",
       "\t<tr><th scope=row>97</th><td>85</td><td>85</td><td> 0</td></tr>\n",
       "\t<tr><th scope=row>98</th><td>87</td><td>81</td><td> 6</td></tr>\n",
       "\t<tr><th scope=row>99</th><td>83</td><td>76</td><td> 7</td></tr>\n",
       "\t<tr><th scope=row>100</th><td>83</td><td>81</td><td> 2</td></tr>\n",
       "</tbody>\n",
       "</table>\n"
      ],
      "text/latex": [
       "\\begin{tabular}{r|lll}\n",
       "  & Nearest.Neighbors & Neural.Network & Pairwise.Accuracy.Differences\\\\\n",
       "\\hline\n",
       "\t50 & 84 & 86 & -2\\\\\n",
       "\t51 & 81 & 84 & -3\\\\\n",
       "\t52 & 90 & 82 &  8\\\\\n",
       "\t53 & 79 & 82 & -3\\\\\n",
       "\t54 & 83 & 82 &  1\\\\\n",
       "\t55 & 81 & 86 & -5\\\\\n",
       "\t56 & 86 & 90 & -4\\\\\n",
       "\t57 & 88 & 85 &  3\\\\\n",
       "\t58 & 87 & 79 &  8\\\\\n",
       "\t59 & 83 & 84 & -1\\\\\n",
       "\t60 & 84 & 88 & -4\\\\\n",
       "\t61 & 81 & 82 & -1\\\\\n",
       "\t62 & 86 & 90 & -4\\\\\n",
       "\t63 & 86 & 86 &  0\\\\\n",
       "\t64 & 89 & 85 &  4\\\\\n",
       "\t65 & 90 & 90 &  0\\\\\n",
       "\t66 & 88 & 85 &  3\\\\\n",
       "\t67 & 84 & 84 &  0\\\\\n",
       "\t68 & 81 & 83 & -2\\\\\n",
       "\t69 & 82 & 76 &  6\\\\\n",
       "\t70 & 83 & 81 &  2\\\\\n",
       "\t71 & 90 & 87 &  3\\\\\n",
       "\t72 & 82 & 88 & -6\\\\\n",
       "\t73 & 85 & 82 &  3\\\\\n",
       "\t74 & 82 & 82 &  0\\\\\n",
       "\t75 & 79 & 79 &  0\\\\\n",
       "\t76 & 84 & 85 & -1\\\\\n",
       "\t77 & 79 & 85 & -6\\\\\n",
       "\t78 & 85 & 89 & -4\\\\\n",
       "\t79 & 86 & 89 & -3\\\\\n",
       "\t80 & 82 & 89 & -7\\\\\n",
       "\t81 & 85 & 87 & -2\\\\\n",
       "\t82 & 81 & 85 & -4\\\\\n",
       "\t83 & 85 & 83 &  2\\\\\n",
       "\t84 & 83 & 85 & -2\\\\\n",
       "\t85 & 86 & 84 &  2\\\\\n",
       "\t86 & 85 & 88 & -3\\\\\n",
       "\t87 & 85 & 85 &  0\\\\\n",
       "\t88 & 80 & 81 & -1\\\\\n",
       "\t89 & 78 & 81 & -3\\\\\n",
       "\t90 & 82 & 86 & -4\\\\\n",
       "\t91 & 86 & 79 &  7\\\\\n",
       "\t92 & 88 & 82 &  6\\\\\n",
       "\t93 & 86 & 80 &  6\\\\\n",
       "\t94 & 83 & 88 & -5\\\\\n",
       "\t95 & 82 & 81 &  1\\\\\n",
       "\t96 & 87 & 84 &  3\\\\\n",
       "\t97 & 85 & 85 &  0\\\\\n",
       "\t98 & 87 & 81 &  6\\\\\n",
       "\t99 & 83 & 76 &  7\\\\\n",
       "\t100 & 83 & 81 &  2\\\\\n",
       "\\end{tabular}\n"
      ],
      "text/markdown": [
       "\n",
       "| <!--/--> | Nearest.Neighbors | Neural.Network | Pairwise.Accuracy.Differences | \n",
       "|---|---|---|---|---|---|---|---|---|---|---|---|---|---|---|---|---|---|---|---|---|---|---|---|---|---|---|---|---|---|---|---|---|---|---|---|---|---|---|---|---|---|---|---|---|---|---|---|---|---|---|\n",
       "| 50 | 84 | 86 | -2 | \n",
       "| 51 | 81 | 84 | -3 | \n",
       "| 52 | 90 | 82 |  8 | \n",
       "| 53 | 79 | 82 | -3 | \n",
       "| 54 | 83 | 82 |  1 | \n",
       "| 55 | 81 | 86 | -5 | \n",
       "| 56 | 86 | 90 | -4 | \n",
       "| 57 | 88 | 85 |  3 | \n",
       "| 58 | 87 | 79 |  8 | \n",
       "| 59 | 83 | 84 | -1 | \n",
       "| 60 | 84 | 88 | -4 | \n",
       "| 61 | 81 | 82 | -1 | \n",
       "| 62 | 86 | 90 | -4 | \n",
       "| 63 | 86 | 86 |  0 | \n",
       "| 64 | 89 | 85 |  4 | \n",
       "| 65 | 90 | 90 |  0 | \n",
       "| 66 | 88 | 85 |  3 | \n",
       "| 67 | 84 | 84 |  0 | \n",
       "| 68 | 81 | 83 | -2 | \n",
       "| 69 | 82 | 76 |  6 | \n",
       "| 70 | 83 | 81 |  2 | \n",
       "| 71 | 90 | 87 |  3 | \n",
       "| 72 | 82 | 88 | -6 | \n",
       "| 73 | 85 | 82 |  3 | \n",
       "| 74 | 82 | 82 |  0 | \n",
       "| 75 | 79 | 79 |  0 | \n",
       "| 76 | 84 | 85 | -1 | \n",
       "| 77 | 79 | 85 | -6 | \n",
       "| 78 | 85 | 89 | -4 | \n",
       "| 79 | 86 | 89 | -3 | \n",
       "| 80 | 82 | 89 | -7 | \n",
       "| 81 | 85 | 87 | -2 | \n",
       "| 82 | 81 | 85 | -4 | \n",
       "| 83 | 85 | 83 |  2 | \n",
       "| 84 | 83 | 85 | -2 | \n",
       "| 85 | 86 | 84 |  2 | \n",
       "| 86 | 85 | 88 | -3 | \n",
       "| 87 | 85 | 85 |  0 | \n",
       "| 88 | 80 | 81 | -1 | \n",
       "| 89 | 78 | 81 | -3 | \n",
       "| 90 | 82 | 86 | -4 | \n",
       "| 91 | 86 | 79 |  7 | \n",
       "| 92 | 88 | 82 |  6 | \n",
       "| 93 | 86 | 80 |  6 | \n",
       "| 94 | 83 | 88 | -5 | \n",
       "| 95 | 82 | 81 |  1 | \n",
       "| 96 | 87 | 84 |  3 | \n",
       "| 97 | 85 | 85 |  0 | \n",
       "| 98 | 87 | 81 |  6 | \n",
       "| 99 | 83 | 76 |  7 | \n",
       "| 100 | 83 | 81 |  2 | \n",
       "\n",
       "\n"
      ],
      "text/plain": [
       "    Nearest.Neighbors Neural.Network Pairwise.Accuracy.Differences\n",
       "50  84                86             -2                           \n",
       "51  81                84             -3                           \n",
       "52  90                82              8                           \n",
       "53  79                82             -3                           \n",
       "54  83                82              1                           \n",
       "55  81                86             -5                           \n",
       "56  86                90             -4                           \n",
       "57  88                85              3                           \n",
       "58  87                79              8                           \n",
       "59  83                84             -1                           \n",
       "60  84                88             -4                           \n",
       "61  81                82             -1                           \n",
       "62  86                90             -4                           \n",
       "63  86                86              0                           \n",
       "64  89                85              4                           \n",
       "65  90                90              0                           \n",
       "66  88                85              3                           \n",
       "67  84                84              0                           \n",
       "68  81                83             -2                           \n",
       "69  82                76              6                           \n",
       "70  83                81              2                           \n",
       "71  90                87              3                           \n",
       "72  82                88             -6                           \n",
       "73  85                82              3                           \n",
       "74  82                82              0                           \n",
       "75  79                79              0                           \n",
       "76  84                85             -1                           \n",
       "77  79                85             -6                           \n",
       "78  85                89             -4                           \n",
       "79  86                89             -3                           \n",
       "80  82                89             -7                           \n",
       "81  85                87             -2                           \n",
       "82  81                85             -4                           \n",
       "83  85                83              2                           \n",
       "84  83                85             -2                           \n",
       "85  86                84              2                           \n",
       "86  85                88             -3                           \n",
       "87  85                85              0                           \n",
       "88  80                81             -1                           \n",
       "89  78                81             -3                           \n",
       "90  82                86             -4                           \n",
       "91  86                79              7                           \n",
       "92  88                82              6                           \n",
       "93  86                80              6                           \n",
       "94  83                88             -5                           \n",
       "95  82                81              1                           \n",
       "96  87                84              3                           \n",
       "97  85                85              0                           \n",
       "98  87                81              6                           \n",
       "99  83                76              7                           \n",
       "100 83                81              2                           "
      ]
     },
     "metadata": {},
     "output_type": "display_data"
    },
    {
     "data": {
      "text/html": [
       "4.01280777793134"
      ],
      "text/latex": [
       "4.01280777793134"
      ],
      "text/markdown": [
       "4.01280777793134"
      ],
      "text/plain": [
       "[1] 4.012808"
      ]
     },
     "metadata": {},
     "output_type": "display_data"
    },
    {
     "data": {
      "text/plain": [
       "   Min. 1st Qu.  Median    Mean 3rd Qu.    Max. \n",
       "  -9.00   -3.00    0.00   -0.28    2.00   12.00 "
      ]
     },
     "metadata": {},
     "output_type": "display_data"
    }
   ],
   "source": [
    "data[50:100,]\n",
    "sd(data$Pairwise.Accuracy.Differences)\n",
    "summary(data$Pairwise.Accuracy.Differences)"
   ]
  },
  {
   "cell_type": "code",
   "execution_count": 5,
   "metadata": {},
   "outputs": [
    {
     "name": "stderr",
     "output_type": "stream",
     "text": [
      "No id variables; using all as measure variables\n"
     ]
    },
    {
     "data": {
      "text/html": [
       "<table>\n",
       "<thead><tr><th scope=col>variable</th><th scope=col>value</th></tr></thead>\n",
       "<tbody>\n",
       "\t<tr><td>Nearest.Neighbors</td><td>87               </td></tr>\n",
       "\t<tr><td>Nearest.Neighbors</td><td>84               </td></tr>\n",
       "\t<tr><td>Nearest.Neighbors</td><td>90               </td></tr>\n",
       "\t<tr><td>Nearest.Neighbors</td><td>78               </td></tr>\n",
       "\t<tr><td>Nearest.Neighbors</td><td>86               </td></tr>\n",
       "\t<tr><td>Nearest.Neighbors</td><td>78               </td></tr>\n",
       "\t<tr><td>Nearest.Neighbors</td><td>80               </td></tr>\n",
       "\t<tr><td>Nearest.Neighbors</td><td>90               </td></tr>\n",
       "\t<tr><td>Nearest.Neighbors</td><td>82               </td></tr>\n",
       "\t<tr><td>Nearest.Neighbors</td><td>82               </td></tr>\n",
       "\t<tr><td>Nearest.Neighbors</td><td>83               </td></tr>\n",
       "\t<tr><td>Nearest.Neighbors</td><td>83               </td></tr>\n",
       "\t<tr><td>Nearest.Neighbors</td><td>77               </td></tr>\n",
       "\t<tr><td>Nearest.Neighbors</td><td>87               </td></tr>\n",
       "\t<tr><td>Nearest.Neighbors</td><td>82               </td></tr>\n",
       "\t<tr><td>Nearest.Neighbors</td><td>80               </td></tr>\n",
       "\t<tr><td>Nearest.Neighbors</td><td>88               </td></tr>\n",
       "\t<tr><td>Nearest.Neighbors</td><td>86               </td></tr>\n",
       "\t<tr><td>Nearest.Neighbors</td><td>90               </td></tr>\n",
       "\t<tr><td>Nearest.Neighbors</td><td>78               </td></tr>\n",
       "\t<tr><td>Nearest.Neighbors</td><td>84               </td></tr>\n",
       "\t<tr><td>Nearest.Neighbors</td><td>76               </td></tr>\n",
       "\t<tr><td>Nearest.Neighbors</td><td>83               </td></tr>\n",
       "\t<tr><td>Nearest.Neighbors</td><td>87               </td></tr>\n",
       "\t<tr><td>Nearest.Neighbors</td><td>88               </td></tr>\n",
       "\t<tr><td>Nearest.Neighbors</td><td>77               </td></tr>\n",
       "\t<tr><td>Nearest.Neighbors</td><td>86               </td></tr>\n",
       "\t<tr><td>Nearest.Neighbors</td><td>86               </td></tr>\n",
       "\t<tr><td>Nearest.Neighbors</td><td>86               </td></tr>\n",
       "\t<tr><td>Nearest.Neighbors</td><td>87               </td></tr>\n",
       "\t<tr><td>⋮</td><td>⋮</td></tr>\n",
       "\t<tr><td>Neural.Network</td><td>87            </td></tr>\n",
       "\t<tr><td>Neural.Network</td><td>88            </td></tr>\n",
       "\t<tr><td>Neural.Network</td><td>82            </td></tr>\n",
       "\t<tr><td>Neural.Network</td><td>82            </td></tr>\n",
       "\t<tr><td>Neural.Network</td><td>79            </td></tr>\n",
       "\t<tr><td>Neural.Network</td><td>85            </td></tr>\n",
       "\t<tr><td>Neural.Network</td><td>85            </td></tr>\n",
       "\t<tr><td>Neural.Network</td><td>89            </td></tr>\n",
       "\t<tr><td>Neural.Network</td><td>89            </td></tr>\n",
       "\t<tr><td>Neural.Network</td><td>89            </td></tr>\n",
       "\t<tr><td>Neural.Network</td><td>87            </td></tr>\n",
       "\t<tr><td>Neural.Network</td><td>85            </td></tr>\n",
       "\t<tr><td>Neural.Network</td><td>83            </td></tr>\n",
       "\t<tr><td>Neural.Network</td><td>85            </td></tr>\n",
       "\t<tr><td>Neural.Network</td><td>84            </td></tr>\n",
       "\t<tr><td>Neural.Network</td><td>88            </td></tr>\n",
       "\t<tr><td>Neural.Network</td><td>85            </td></tr>\n",
       "\t<tr><td>Neural.Network</td><td>81            </td></tr>\n",
       "\t<tr><td>Neural.Network</td><td>81            </td></tr>\n",
       "\t<tr><td>Neural.Network</td><td>86            </td></tr>\n",
       "\t<tr><td>Neural.Network</td><td>79            </td></tr>\n",
       "\t<tr><td>Neural.Network</td><td>82            </td></tr>\n",
       "\t<tr><td>Neural.Network</td><td>80            </td></tr>\n",
       "\t<tr><td>Neural.Network</td><td>88            </td></tr>\n",
       "\t<tr><td>Neural.Network</td><td>81            </td></tr>\n",
       "\t<tr><td>Neural.Network</td><td>84            </td></tr>\n",
       "\t<tr><td>Neural.Network</td><td>85            </td></tr>\n",
       "\t<tr><td>Neural.Network</td><td>81            </td></tr>\n",
       "\t<tr><td>Neural.Network</td><td>76            </td></tr>\n",
       "\t<tr><td>Neural.Network</td><td>81            </td></tr>\n",
       "</tbody>\n",
       "</table>\n"
      ],
      "text/latex": [
       "\\begin{tabular}{r|ll}\n",
       " variable & value\\\\\n",
       "\\hline\n",
       "\t Nearest.Neighbors & 87               \\\\\n",
       "\t Nearest.Neighbors & 84               \\\\\n",
       "\t Nearest.Neighbors & 90               \\\\\n",
       "\t Nearest.Neighbors & 78               \\\\\n",
       "\t Nearest.Neighbors & 86               \\\\\n",
       "\t Nearest.Neighbors & 78               \\\\\n",
       "\t Nearest.Neighbors & 80               \\\\\n",
       "\t Nearest.Neighbors & 90               \\\\\n",
       "\t Nearest.Neighbors & 82               \\\\\n",
       "\t Nearest.Neighbors & 82               \\\\\n",
       "\t Nearest.Neighbors & 83               \\\\\n",
       "\t Nearest.Neighbors & 83               \\\\\n",
       "\t Nearest.Neighbors & 77               \\\\\n",
       "\t Nearest.Neighbors & 87               \\\\\n",
       "\t Nearest.Neighbors & 82               \\\\\n",
       "\t Nearest.Neighbors & 80               \\\\\n",
       "\t Nearest.Neighbors & 88               \\\\\n",
       "\t Nearest.Neighbors & 86               \\\\\n",
       "\t Nearest.Neighbors & 90               \\\\\n",
       "\t Nearest.Neighbors & 78               \\\\\n",
       "\t Nearest.Neighbors & 84               \\\\\n",
       "\t Nearest.Neighbors & 76               \\\\\n",
       "\t Nearest.Neighbors & 83               \\\\\n",
       "\t Nearest.Neighbors & 87               \\\\\n",
       "\t Nearest.Neighbors & 88               \\\\\n",
       "\t Nearest.Neighbors & 77               \\\\\n",
       "\t Nearest.Neighbors & 86               \\\\\n",
       "\t Nearest.Neighbors & 86               \\\\\n",
       "\t Nearest.Neighbors & 86               \\\\\n",
       "\t Nearest.Neighbors & 87               \\\\\n",
       "\t ⋮ & ⋮\\\\\n",
       "\t Neural.Network & 87            \\\\\n",
       "\t Neural.Network & 88            \\\\\n",
       "\t Neural.Network & 82            \\\\\n",
       "\t Neural.Network & 82            \\\\\n",
       "\t Neural.Network & 79            \\\\\n",
       "\t Neural.Network & 85            \\\\\n",
       "\t Neural.Network & 85            \\\\\n",
       "\t Neural.Network & 89            \\\\\n",
       "\t Neural.Network & 89            \\\\\n",
       "\t Neural.Network & 89            \\\\\n",
       "\t Neural.Network & 87            \\\\\n",
       "\t Neural.Network & 85            \\\\\n",
       "\t Neural.Network & 83            \\\\\n",
       "\t Neural.Network & 85            \\\\\n",
       "\t Neural.Network & 84            \\\\\n",
       "\t Neural.Network & 88            \\\\\n",
       "\t Neural.Network & 85            \\\\\n",
       "\t Neural.Network & 81            \\\\\n",
       "\t Neural.Network & 81            \\\\\n",
       "\t Neural.Network & 86            \\\\\n",
       "\t Neural.Network & 79            \\\\\n",
       "\t Neural.Network & 82            \\\\\n",
       "\t Neural.Network & 80            \\\\\n",
       "\t Neural.Network & 88            \\\\\n",
       "\t Neural.Network & 81            \\\\\n",
       "\t Neural.Network & 84            \\\\\n",
       "\t Neural.Network & 85            \\\\\n",
       "\t Neural.Network & 81            \\\\\n",
       "\t Neural.Network & 76            \\\\\n",
       "\t Neural.Network & 81            \\\\\n",
       "\\end{tabular}\n"
      ],
      "text/markdown": [
       "\n",
       "variable | value | \n",
       "|---|---|---|---|---|---|---|---|---|---|---|---|---|---|---|---|---|---|---|---|---|---|---|---|---|---|---|---|---|---|---|---|---|---|---|---|---|---|---|---|---|---|---|---|---|---|---|---|---|---|---|---|---|---|---|---|---|---|---|---|---|\n",
       "| Nearest.Neighbors | 87                | \n",
       "| Nearest.Neighbors | 84                | \n",
       "| Nearest.Neighbors | 90                | \n",
       "| Nearest.Neighbors | 78                | \n",
       "| Nearest.Neighbors | 86                | \n",
       "| Nearest.Neighbors | 78                | \n",
       "| Nearest.Neighbors | 80                | \n",
       "| Nearest.Neighbors | 90                | \n",
       "| Nearest.Neighbors | 82                | \n",
       "| Nearest.Neighbors | 82                | \n",
       "| Nearest.Neighbors | 83                | \n",
       "| Nearest.Neighbors | 83                | \n",
       "| Nearest.Neighbors | 77                | \n",
       "| Nearest.Neighbors | 87                | \n",
       "| Nearest.Neighbors | 82                | \n",
       "| Nearest.Neighbors | 80                | \n",
       "| Nearest.Neighbors | 88                | \n",
       "| Nearest.Neighbors | 86                | \n",
       "| Nearest.Neighbors | 90                | \n",
       "| Nearest.Neighbors | 78                | \n",
       "| Nearest.Neighbors | 84                | \n",
       "| Nearest.Neighbors | 76                | \n",
       "| Nearest.Neighbors | 83                | \n",
       "| Nearest.Neighbors | 87                | \n",
       "| Nearest.Neighbors | 88                | \n",
       "| Nearest.Neighbors | 77                | \n",
       "| Nearest.Neighbors | 86                | \n",
       "| Nearest.Neighbors | 86                | \n",
       "| Nearest.Neighbors | 86                | \n",
       "| Nearest.Neighbors | 87                | \n",
       "| ⋮ | ⋮ | \n",
       "| Neural.Network | 87             | \n",
       "| Neural.Network | 88             | \n",
       "| Neural.Network | 82             | \n",
       "| Neural.Network | 82             | \n",
       "| Neural.Network | 79             | \n",
       "| Neural.Network | 85             | \n",
       "| Neural.Network | 85             | \n",
       "| Neural.Network | 89             | \n",
       "| Neural.Network | 89             | \n",
       "| Neural.Network | 89             | \n",
       "| Neural.Network | 87             | \n",
       "| Neural.Network | 85             | \n",
       "| Neural.Network | 83             | \n",
       "| Neural.Network | 85             | \n",
       "| Neural.Network | 84             | \n",
       "| Neural.Network | 88             | \n",
       "| Neural.Network | 85             | \n",
       "| Neural.Network | 81             | \n",
       "| Neural.Network | 81             | \n",
       "| Neural.Network | 86             | \n",
       "| Neural.Network | 79             | \n",
       "| Neural.Network | 82             | \n",
       "| Neural.Network | 80             | \n",
       "| Neural.Network | 88             | \n",
       "| Neural.Network | 81             | \n",
       "| Neural.Network | 84             | \n",
       "| Neural.Network | 85             | \n",
       "| Neural.Network | 81             | \n",
       "| Neural.Network | 76             | \n",
       "| Neural.Network | 81             | \n",
       "\n",
       "\n"
      ],
      "text/plain": [
       "    variable          value\n",
       "1   Nearest.Neighbors 87   \n",
       "2   Nearest.Neighbors 84   \n",
       "3   Nearest.Neighbors 90   \n",
       "4   Nearest.Neighbors 78   \n",
       "5   Nearest.Neighbors 86   \n",
       "6   Nearest.Neighbors 78   \n",
       "7   Nearest.Neighbors 80   \n",
       "8   Nearest.Neighbors 90   \n",
       "9   Nearest.Neighbors 82   \n",
       "10  Nearest.Neighbors 82   \n",
       "11  Nearest.Neighbors 83   \n",
       "12  Nearest.Neighbors 83   \n",
       "13  Nearest.Neighbors 77   \n",
       "14  Nearest.Neighbors 87   \n",
       "15  Nearest.Neighbors 82   \n",
       "16  Nearest.Neighbors 80   \n",
       "17  Nearest.Neighbors 88   \n",
       "18  Nearest.Neighbors 86   \n",
       "19  Nearest.Neighbors 90   \n",
       "20  Nearest.Neighbors 78   \n",
       "21  Nearest.Neighbors 84   \n",
       "22  Nearest.Neighbors 76   \n",
       "23  Nearest.Neighbors 83   \n",
       "24  Nearest.Neighbors 87   \n",
       "25  Nearest.Neighbors 88   \n",
       "26  Nearest.Neighbors 77   \n",
       "27  Nearest.Neighbors 86   \n",
       "28  Nearest.Neighbors 86   \n",
       "29  Nearest.Neighbors 86   \n",
       "30  Nearest.Neighbors 87   \n",
       "⋮   ⋮                 ⋮    \n",
       "171 Neural.Network    87   \n",
       "172 Neural.Network    88   \n",
       "173 Neural.Network    82   \n",
       "174 Neural.Network    82   \n",
       "175 Neural.Network    79   \n",
       "176 Neural.Network    85   \n",
       "177 Neural.Network    85   \n",
       "178 Neural.Network    89   \n",
       "179 Neural.Network    89   \n",
       "180 Neural.Network    89   \n",
       "181 Neural.Network    87   \n",
       "182 Neural.Network    85   \n",
       "183 Neural.Network    83   \n",
       "184 Neural.Network    85   \n",
       "185 Neural.Network    84   \n",
       "186 Neural.Network    88   \n",
       "187 Neural.Network    85   \n",
       "188 Neural.Network    81   \n",
       "189 Neural.Network    81   \n",
       "190 Neural.Network    86   \n",
       "191 Neural.Network    79   \n",
       "192 Neural.Network    82   \n",
       "193 Neural.Network    80   \n",
       "194 Neural.Network    88   \n",
       "195 Neural.Network    81   \n",
       "196 Neural.Network    84   \n",
       "197 Neural.Network    85   \n",
       "198 Neural.Network    81   \n",
       "199 Neural.Network    76   \n",
       "200 Neural.Network    81   "
      ]
     },
     "metadata": {},
     "output_type": "display_data"
    }
   ],
   "source": [
    "#install.packages('reshape2')\n",
    "library(reshape2)\n",
    "melt(data[1:2])"
   ]
  },
  {
   "cell_type": "code",
   "execution_count": 6,
   "metadata": {
    "scrolled": false
   },
   "outputs": [
    {
     "data": {},
     "metadata": {},
     "output_type": "display_data"
    },
    {
     "name": "stderr",
     "output_type": "stream",
     "text": [
      "No id variables; using all as measure variables\n"
     ]
    },
    {
     "data": {},
     "metadata": {},
     "output_type": "display_data"
    },
    {
     "data": {
      "image/png": "[encoded data removed]",
      "text/plain": [
       "plot without title"
      ]
     },
     "metadata": {},
     "output_type": "display_data"
    },
    {
     "data": {},
     "metadata": {},
     "output_type": "display_data"
    },
    {
     "data": {
      "image/png": "[encoded data removed]",
      "text/plain": [
       "plot without title"
      ]
     },
     "metadata": {},
     "output_type": "display_data"
    },
    {
     "data": {
      "text/plain": [
       "   Min. 1st Qu.  Median    Mean 3rd Qu.    Max. \n",
       "  -9.00   -3.00    0.00   -0.28    2.00   12.00 "
      ]
     },
     "metadata": {},
     "output_type": "display_data"
    },
    {
     "data": {
      "image/png": "[encoded data removed]",
      "text/plain": [
       "plot without title"
      ]
     },
     "metadata": {},
     "output_type": "display_data"
    }
   ],
   "source": [
    "qplot(data$Pairwise.Accuracy.Differences,binwidth=3)\n",
    "#qplot('',data$Pairwise.Accuracy.Differences,data=data$Pairwise.Accuracy.Differences,'boxplot')\n",
    "long = melt(data[1:2])\n",
    "ggplot(long, aes(factor(long[, 1]), long[, 2])) + geom_boxplot(fill=c('red','blue'))#qplot(y=c(data$Nearest.Neighbors,data$Neural.Network),x=c(\"Nearest Neighbors\",\"Neural Network\"),geom='boxplot',fill=c('r','b'))\n",
    "qplot(y=data$Pairwise.Accuracy.Differences,x=\"Pairwise Differences\",geom='boxplot',fill='r')\n",
    "summary(data$Pairwise.Accuracy.Differences)"
   ]
  },
  {
   "cell_type": "code",
   "execution_count": 7,
   "metadata": {},
   "outputs": [
    {
     "data": {
      "text/plain": [
       "\n",
       "\tOne Sample t-test\n",
       "\n",
       "data:  data$Pairwise.Accuracy.Differences\n",
       "t = -0.69777, df = 99, p-value = 0.2435\n",
       "alternative hypothesis: true mean is less than 0\n",
       "95 percent confidence interval:\n",
       "      -Inf 0.3862831\n",
       "sample estimates:\n",
       "mean of x \n",
       "    -0.28 \n"
      ]
     },
     "metadata": {},
     "output_type": "display_data"
    }
   ],
   "source": [
    "t.test(data$Pairwise.Accuracy.Differences,alternative='less')"
   ]
  },
  {
   "cell_type": "code",
   "execution_count": 21,
   "metadata": {},
   "outputs": [
    {
     "data": {
      "text/html": [
       "<ol class=list-inline>\n",
       "\t<li>-5.22470969304518</li>\n",
       "\t<li>4.66470969304518</li>\n",
       "</ol>\n"
      ],
      "text/latex": [
       "\\begin{enumerate*}\n",
       "\\item -5.22470969304518\n",
       "\\item 4.66470969304518\n",
       "\\end{enumerate*}\n"
      ],
      "text/markdown": [
       "1. -5.22470969304518\n",
       "2. 4.66470969304518\n",
       "\n",
       "\n"
      ],
      "text/plain": [
       "[1] -5.22471  4.66471"
      ]
     },
     "metadata": {},
     "output_type": "display_data"
    }
   ],
   "source": [
    "t = qt(.975,99)\n",
    "s= 4.01280777793134\n",
    "n = 100\n",
    "u = -.28\n",
    "x = c(u-t*n^.5/s,u+t*n^.5/s)\n",
    "x"
   ]
  },
  {
   "cell_type": "code",
   "execution_count": null,
   "metadata": {
    "collapsed": true
   },
   "outputs": [],
   "source": []
  }
 ],
 "metadata": {
  "kernelspec": {
   "display_name": "R",
   "language": "R",
   "name": "ir"
  },
  "language_info": {
   "codemirror_mode": "r",
   "file_extension": ".r",
   "mimetype": "text/x-r-source",
   "name": "R",
   "pygments_lexer": "r",
   "version": "3.4.0"
  }
 },
 "nbformat": 4,
 "nbformat_minor": 2
}
