{
 "cells": [
  {
   "cell_type": "code",
   "execution_count": 1,
   "metadata": {
    "collapsed": true
   },
   "outputs": [],
   "source": [
    "load('gradebook.rdata')"
   ]
  },
  {
   "cell_type": "code",
   "execution_count": 2,
   "metadata": {},
   "outputs": [
    {
     "data": {
      "text/html": [
       "<table>\n",
       "<thead><tr><th scope=col>Midterm1</th><th scope=col>Midterm2</th><th scope=col>Diff_Mid</th><th scope=col>Extra_Credit</th><th scope=col>Final</th><th scope=col>Class</th></tr></thead>\n",
       "<tbody>\n",
       "\t<tr><td>83 </td><td>77 </td><td>  6</td><td>1  </td><td>81 </td><td>4  </td></tr>\n",
       "\t<tr><td>72 </td><td>77 </td><td> -5</td><td>0  </td><td>76 </td><td>1  </td></tr>\n",
       "\t<tr><td>71 </td><td>63 </td><td>  8</td><td>1  </td><td>77 </td><td>2  </td></tr>\n",
       "\t<tr><td>74 </td><td>77 </td><td> -3</td><td>0  </td><td>70 </td><td>1  </td></tr>\n",
       "\t<tr><td>94 </td><td>85 </td><td>  9</td><td>1  </td><td>93 </td><td>2  </td></tr>\n",
       "\t<tr><td>80 </td><td>81 </td><td> -1</td><td>0  </td><td>77 </td><td>1  </td></tr>\n",
       "\t<tr><td>92 </td><td>99 </td><td> -7</td><td>1  </td><td>87 </td><td>1  </td></tr>\n",
       "\t<tr><td>74 </td><td>72 </td><td>  2</td><td>0  </td><td>73 </td><td>1  </td></tr>\n",
       "\t<tr><td>92 </td><td>90 </td><td>  2</td><td>1  </td><td>87 </td><td>1  </td></tr>\n",
       "\t<tr><td>81 </td><td>84 </td><td> -3</td><td>1  </td><td>78 </td><td>1  </td></tr>\n",
       "\t<tr><td>73 </td><td>70 </td><td>  3</td><td>0  </td><td>67 </td><td>4  </td></tr>\n",
       "\t<tr><td>63 </td><td>67 </td><td> -4</td><td>0  </td><td>63 </td><td>2  </td></tr>\n",
       "\t<tr><td>63 </td><td>59 </td><td>  4</td><td>0  </td><td>68 </td><td>1  </td></tr>\n",
       "\t<tr><td>75 </td><td>71 </td><td>  4</td><td>0  </td><td>74 </td><td>4  </td></tr>\n",
       "\t<tr><td>76 </td><td>72 </td><td>  4</td><td>0  </td><td>75 </td><td>1  </td></tr>\n",
       "\t<tr><td>81 </td><td>77 </td><td>  4</td><td>1  </td><td>75 </td><td>3  </td></tr>\n",
       "\t<tr><td>72 </td><td>82 </td><td>-10</td><td>0  </td><td>72 </td><td>2  </td></tr>\n",
       "\t<tr><td>80 </td><td>80 </td><td>  0</td><td>0  </td><td>77 </td><td>2  </td></tr>\n",
       "\t<tr><td>81 </td><td>78 </td><td>  3</td><td>1  </td><td>75 </td><td>1  </td></tr>\n",
       "\t<tr><td>72 </td><td>66 </td><td>  6</td><td>0  </td><td>72 </td><td>1  </td></tr>\n",
       "\t<tr><td>93 </td><td>85 </td><td>  8</td><td>1  </td><td>88 </td><td>2  </td></tr>\n",
       "\t<tr><td>81 </td><td>82 </td><td> -1</td><td>1  </td><td>82 </td><td>1  </td></tr>\n",
       "\t<tr><td>82 </td><td>84 </td><td> -2</td><td>0  </td><td>82 </td><td>1  </td></tr>\n",
       "\t<tr><td>94 </td><td>93 </td><td>  1</td><td>1  </td><td>88 </td><td>1  </td></tr>\n",
       "\t<tr><td>80 </td><td>86 </td><td> -6</td><td>0  </td><td>77 </td><td>4  </td></tr>\n",
       "\t<tr><td>73 </td><td>74 </td><td> -1</td><td>1  </td><td>78 </td><td>1  </td></tr>\n",
       "\t<tr><td>71 </td><td>74 </td><td> -3</td><td>1  </td><td>77 </td><td>1  </td></tr>\n",
       "\t<tr><td>81 </td><td>80 </td><td>  1</td><td>0  </td><td>76 </td><td>1  </td></tr>\n",
       "\t<tr><td>81 </td><td>69 </td><td> 12</td><td>0  </td><td>76 </td><td>4  </td></tr>\n",
       "\t<tr><td>63 </td><td>63 </td><td>  0</td><td>0  </td><td>68 </td><td>2  </td></tr>\n",
       "\t<tr><td>⋮</td><td>⋮</td><td>⋮</td><td>⋮</td><td>⋮</td><td>⋮</td></tr>\n",
       "\t<tr><td>82</td><td>89</td><td>-7</td><td>0 </td><td>82</td><td>3 </td></tr>\n",
       "\t<tr><td>75</td><td>79</td><td>-4</td><td>0 </td><td>69</td><td>4 </td></tr>\n",
       "\t<tr><td>73</td><td>72</td><td> 1</td><td>0 </td><td>67</td><td>1 </td></tr>\n",
       "\t<tr><td>74</td><td>73</td><td> 1</td><td>0 </td><td>70</td><td>2 </td></tr>\n",
       "\t<tr><td>72</td><td>70</td><td> 2</td><td>0 </td><td>72</td><td>3 </td></tr>\n",
       "\t<tr><td>92</td><td>94</td><td>-2</td><td>1 </td><td>87</td><td>1 </td></tr>\n",
       "\t<tr><td>73</td><td>67</td><td> 6</td><td>1 </td><td>78</td><td>1 </td></tr>\n",
       "\t<tr><td>76</td><td>62</td><td>14</td><td>0 </td><td>75</td><td>1 </td></tr>\n",
       "\t<tr><td>80</td><td>87</td><td>-7</td><td>0 </td><td>77</td><td>2 </td></tr>\n",
       "\t<tr><td>81</td><td>82</td><td>-1</td><td>1 </td><td>75</td><td>1 </td></tr>\n",
       "\t<tr><td>73</td><td>65</td><td> 8</td><td>1 </td><td>78</td><td>1 </td></tr>\n",
       "\t<tr><td>81</td><td>90</td><td>-9</td><td>1 </td><td>78</td><td>1 </td></tr>\n",
       "\t<tr><td>63</td><td>57</td><td> 6</td><td>0 </td><td>63</td><td>1 </td></tr>\n",
       "\t<tr><td>94</td><td>92</td><td> 2</td><td>1 </td><td>88</td><td>3 </td></tr>\n",
       "\t<tr><td>87</td><td>78</td><td> 9</td><td>1 </td><td>91</td><td>1 </td></tr>\n",
       "\t<tr><td>63</td><td>66</td><td>-3</td><td>0 </td><td>68</td><td>1 </td></tr>\n",
       "\t<tr><td>81</td><td>73</td><td> 8</td><td>0 </td><td>83</td><td>3 </td></tr>\n",
       "\t<tr><td>74</td><td>70</td><td> 4</td><td>0 </td><td>73</td><td>2 </td></tr>\n",
       "\t<tr><td>74</td><td>72</td><td> 2</td><td>0 </td><td>70</td><td>4 </td></tr>\n",
       "\t<tr><td>72</td><td>64</td><td> 8</td><td>0 </td><td>76</td><td>2 </td></tr>\n",
       "\t<tr><td>81</td><td>81</td><td> 0</td><td>1 </td><td>82</td><td>1 </td></tr>\n",
       "\t<tr><td>71</td><td>63</td><td> 8</td><td>1 </td><td>77</td><td>4 </td></tr>\n",
       "\t<tr><td>93</td><td>87</td><td> 6</td><td>1 </td><td>94</td><td>3 </td></tr>\n",
       "\t<tr><td>70</td><td>70</td><td> 0</td><td>0 </td><td>76</td><td>3 </td></tr>\n",
       "\t<tr><td>71</td><td>60</td><td>11</td><td>0 </td><td>74</td><td>1 </td></tr>\n",
       "\t<tr><td>81</td><td>81</td><td> 0</td><td>0 </td><td>76</td><td>1 </td></tr>\n",
       "\t<tr><td>70</td><td>74</td><td>-4</td><td>0 </td><td>69</td><td>1 </td></tr>\n",
       "\t<tr><td>72</td><td>67</td><td> 5</td><td>0 </td><td>76</td><td>3 </td></tr>\n",
       "\t<tr><td>78</td><td>78</td><td> 0</td><td>1 </td><td>81</td><td>1 </td></tr>\n",
       "\t<tr><td>81</td><td>81</td><td> 0</td><td>1 </td><td>78</td><td>2 </td></tr>\n",
       "</tbody>\n",
       "</table>\n"
      ],
      "text/latex": [
       "\\begin{tabular}{r|llllll}\n",
       " Midterm1 & Midterm2 & Diff\\_Mid & Extra\\_Credit & Final & Class\\\\\n",
       "\\hline\n",
       "\t 83  & 77  &   6 & 1   & 81  & 4  \\\\\n",
       "\t 72  & 77  &  -5 & 0   & 76  & 1  \\\\\n",
       "\t 71  & 63  &   8 & 1   & 77  & 2  \\\\\n",
       "\t 74  & 77  &  -3 & 0   & 70  & 1  \\\\\n",
       "\t 94  & 85  &   9 & 1   & 93  & 2  \\\\\n",
       "\t 80  & 81  &  -1 & 0   & 77  & 1  \\\\\n",
       "\t 92  & 99  &  -7 & 1   & 87  & 1  \\\\\n",
       "\t 74  & 72  &   2 & 0   & 73  & 1  \\\\\n",
       "\t 92  & 90  &   2 & 1   & 87  & 1  \\\\\n",
       "\t 81  & 84  &  -3 & 1   & 78  & 1  \\\\\n",
       "\t 73  & 70  &   3 & 0   & 67  & 4  \\\\\n",
       "\t 63  & 67  &  -4 & 0   & 63  & 2  \\\\\n",
       "\t 63  & 59  &   4 & 0   & 68  & 1  \\\\\n",
       "\t 75  & 71  &   4 & 0   & 74  & 4  \\\\\n",
       "\t 76  & 72  &   4 & 0   & 75  & 1  \\\\\n",
       "\t 81  & 77  &   4 & 1   & 75  & 3  \\\\\n",
       "\t 72  & 82  & -10 & 0   & 72  & 2  \\\\\n",
       "\t 80  & 80  &   0 & 0   & 77  & 2  \\\\\n",
       "\t 81  & 78  &   3 & 1   & 75  & 1  \\\\\n",
       "\t 72  & 66  &   6 & 0   & 72  & 1  \\\\\n",
       "\t 93  & 85  &   8 & 1   & 88  & 2  \\\\\n",
       "\t 81  & 82  &  -1 & 1   & 82  & 1  \\\\\n",
       "\t 82  & 84  &  -2 & 0   & 82  & 1  \\\\\n",
       "\t 94  & 93  &   1 & 1   & 88  & 1  \\\\\n",
       "\t 80  & 86  &  -6 & 0   & 77  & 4  \\\\\n",
       "\t 73  & 74  &  -1 & 1   & 78  & 1  \\\\\n",
       "\t 71  & 74  &  -3 & 1   & 77  & 1  \\\\\n",
       "\t 81  & 80  &   1 & 0   & 76  & 1  \\\\\n",
       "\t 81  & 69  &  12 & 0   & 76  & 4  \\\\\n",
       "\t 63  & 63  &   0 & 0   & 68  & 2  \\\\\n",
       "\t ⋮ & ⋮ & ⋮ & ⋮ & ⋮ & ⋮\\\\\n",
       "\t 82 & 89 & -7 & 0  & 82 & 3 \\\\\n",
       "\t 75 & 79 & -4 & 0  & 69 & 4 \\\\\n",
       "\t 73 & 72 &  1 & 0  & 67 & 1 \\\\\n",
       "\t 74 & 73 &  1 & 0  & 70 & 2 \\\\\n",
       "\t 72 & 70 &  2 & 0  & 72 & 3 \\\\\n",
       "\t 92 & 94 & -2 & 1  & 87 & 1 \\\\\n",
       "\t 73 & 67 &  6 & 1  & 78 & 1 \\\\\n",
       "\t 76 & 62 & 14 & 0  & 75 & 1 \\\\\n",
       "\t 80 & 87 & -7 & 0  & 77 & 2 \\\\\n",
       "\t 81 & 82 & -1 & 1  & 75 & 1 \\\\\n",
       "\t 73 & 65 &  8 & 1  & 78 & 1 \\\\\n",
       "\t 81 & 90 & -9 & 1  & 78 & 1 \\\\\n",
       "\t 63 & 57 &  6 & 0  & 63 & 1 \\\\\n",
       "\t 94 & 92 &  2 & 1  & 88 & 3 \\\\\n",
       "\t 87 & 78 &  9 & 1  & 91 & 1 \\\\\n",
       "\t 63 & 66 & -3 & 0  & 68 & 1 \\\\\n",
       "\t 81 & 73 &  8 & 0  & 83 & 3 \\\\\n",
       "\t 74 & 70 &  4 & 0  & 73 & 2 \\\\\n",
       "\t 74 & 72 &  2 & 0  & 70 & 4 \\\\\n",
       "\t 72 & 64 &  8 & 0  & 76 & 2 \\\\\n",
       "\t 81 & 81 &  0 & 1  & 82 & 1 \\\\\n",
       "\t 71 & 63 &  8 & 1  & 77 & 4 \\\\\n",
       "\t 93 & 87 &  6 & 1  & 94 & 3 \\\\\n",
       "\t 70 & 70 &  0 & 0  & 76 & 3 \\\\\n",
       "\t 71 & 60 & 11 & 0  & 74 & 1 \\\\\n",
       "\t 81 & 81 &  0 & 0  & 76 & 1 \\\\\n",
       "\t 70 & 74 & -4 & 0  & 69 & 1 \\\\\n",
       "\t 72 & 67 &  5 & 0  & 76 & 3 \\\\\n",
       "\t 78 & 78 &  0 & 1  & 81 & 1 \\\\\n",
       "\t 81 & 81 &  0 & 1  & 78 & 2 \\\\\n",
       "\\end{tabular}\n"
      ],
      "text/markdown": [
       "\n",
       "Midterm1 | Midterm2 | Diff_Mid | Extra_Credit | Final | Class | \n",
       "|---|---|---|---|---|---|---|---|---|---|---|---|---|---|---|---|---|---|---|---|---|---|---|---|---|---|---|---|---|---|---|---|---|---|---|---|---|---|---|---|---|---|---|---|---|---|---|---|---|---|---|---|---|---|---|---|---|---|---|---|---|\n",
       "| 83  | 77  |   6 | 1   | 81  | 4   | \n",
       "| 72  | 77  |  -5 | 0   | 76  | 1   | \n",
       "| 71  | 63  |   8 | 1   | 77  | 2   | \n",
       "| 74  | 77  |  -3 | 0   | 70  | 1   | \n",
       "| 94  | 85  |   9 | 1   | 93  | 2   | \n",
       "| 80  | 81  |  -1 | 0   | 77  | 1   | \n",
       "| 92  | 99  |  -7 | 1   | 87  | 1   | \n",
       "| 74  | 72  |   2 | 0   | 73  | 1   | \n",
       "| 92  | 90  |   2 | 1   | 87  | 1   | \n",
       "| 81  | 84  |  -3 | 1   | 78  | 1   | \n",
       "| 73  | 70  |   3 | 0   | 67  | 4   | \n",
       "| 63  | 67  |  -4 | 0   | 63  | 2   | \n",
       "| 63  | 59  |   4 | 0   | 68  | 1   | \n",
       "| 75  | 71  |   4 | 0   | 74  | 4   | \n",
       "| 76  | 72  |   4 | 0   | 75  | 1   | \n",
       "| 81  | 77  |   4 | 1   | 75  | 3   | \n",
       "| 72  | 82  | -10 | 0   | 72  | 2   | \n",
       "| 80  | 80  |   0 | 0   | 77  | 2   | \n",
       "| 81  | 78  |   3 | 1   | 75  | 1   | \n",
       "| 72  | 66  |   6 | 0   | 72  | 1   | \n",
       "| 93  | 85  |   8 | 1   | 88  | 2   | \n",
       "| 81  | 82  |  -1 | 1   | 82  | 1   | \n",
       "| 82  | 84  |  -2 | 0   | 82  | 1   | \n",
       "| 94  | 93  |   1 | 1   | 88  | 1   | \n",
       "| 80  | 86  |  -6 | 0   | 77  | 4   | \n",
       "| 73  | 74  |  -1 | 1   | 78  | 1   | \n",
       "| 71  | 74  |  -3 | 1   | 77  | 1   | \n",
       "| 81  | 80  |   1 | 0   | 76  | 1   | \n",
       "| 81  | 69  |  12 | 0   | 76  | 4   | \n",
       "| 63  | 63  |   0 | 0   | 68  | 2   | \n",
       "| ⋮ | ⋮ | ⋮ | ⋮ | ⋮ | ⋮ | \n",
       "| 82 | 89 | -7 | 0  | 82 | 3  | \n",
       "| 75 | 79 | -4 | 0  | 69 | 4  | \n",
       "| 73 | 72 |  1 | 0  | 67 | 1  | \n",
       "| 74 | 73 |  1 | 0  | 70 | 2  | \n",
       "| 72 | 70 |  2 | 0  | 72 | 3  | \n",
       "| 92 | 94 | -2 | 1  | 87 | 1  | \n",
       "| 73 | 67 |  6 | 1  | 78 | 1  | \n",
       "| 76 | 62 | 14 | 0  | 75 | 1  | \n",
       "| 80 | 87 | -7 | 0  | 77 | 2  | \n",
       "| 81 | 82 | -1 | 1  | 75 | 1  | \n",
       "| 73 | 65 |  8 | 1  | 78 | 1  | \n",
       "| 81 | 90 | -9 | 1  | 78 | 1  | \n",
       "| 63 | 57 |  6 | 0  | 63 | 1  | \n",
       "| 94 | 92 |  2 | 1  | 88 | 3  | \n",
       "| 87 | 78 |  9 | 1  | 91 | 1  | \n",
       "| 63 | 66 | -3 | 0  | 68 | 1  | \n",
       "| 81 | 73 |  8 | 0  | 83 | 3  | \n",
       "| 74 | 70 |  4 | 0  | 73 | 2  | \n",
       "| 74 | 72 |  2 | 0  | 70 | 4  | \n",
       "| 72 | 64 |  8 | 0  | 76 | 2  | \n",
       "| 81 | 81 |  0 | 1  | 82 | 1  | \n",
       "| 71 | 63 |  8 | 1  | 77 | 4  | \n",
       "| 93 | 87 |  6 | 1  | 94 | 3  | \n",
       "| 70 | 70 |  0 | 0  | 76 | 3  | \n",
       "| 71 | 60 | 11 | 0  | 74 | 1  | \n",
       "| 81 | 81 |  0 | 0  | 76 | 1  | \n",
       "| 70 | 74 | -4 | 0  | 69 | 1  | \n",
       "| 72 | 67 |  5 | 0  | 76 | 3  | \n",
       "| 78 | 78 |  0 | 1  | 81 | 1  | \n",
       "| 81 | 81 |  0 | 1  | 78 | 2  | \n",
       "\n",
       "\n"
      ],
      "text/plain": [
       "    Midterm1 Midterm2 Diff_Mid Extra_Credit Final Class\n",
       "1   83       77         6      1            81    4    \n",
       "2   72       77        -5      0            76    1    \n",
       "3   71       63         8      1            77    2    \n",
       "4   74       77        -3      0            70    1    \n",
       "5   94       85         9      1            93    2    \n",
       "6   80       81        -1      0            77    1    \n",
       "7   92       99        -7      1            87    1    \n",
       "8   74       72         2      0            73    1    \n",
       "9   92       90         2      1            87    1    \n",
       "10  81       84        -3      1            78    1    \n",
       "11  73       70         3      0            67    4    \n",
       "12  63       67        -4      0            63    2    \n",
       "13  63       59         4      0            68    1    \n",
       "14  75       71         4      0            74    4    \n",
       "15  76       72         4      0            75    1    \n",
       "16  81       77         4      1            75    3    \n",
       "17  72       82       -10      0            72    2    \n",
       "18  80       80         0      0            77    2    \n",
       "19  81       78         3      1            75    1    \n",
       "20  72       66         6      0            72    1    \n",
       "21  93       85         8      1            88    2    \n",
       "22  81       82        -1      1            82    1    \n",
       "23  82       84        -2      0            82    1    \n",
       "24  94       93         1      1            88    1    \n",
       "25  80       86        -6      0            77    4    \n",
       "26  73       74        -1      1            78    1    \n",
       "27  71       74        -3      1            77    1    \n",
       "28  81       80         1      0            76    1    \n",
       "29  81       69        12      0            76    4    \n",
       "30  63       63         0      0            68    2    \n",
       "⋮   ⋮        ⋮        ⋮        ⋮            ⋮     ⋮    \n",
       "76  82       89       -7       0            82    3    \n",
       "77  75       79       -4       0            69    4    \n",
       "78  73       72        1       0            67    1    \n",
       "79  74       73        1       0            70    2    \n",
       "80  72       70        2       0            72    3    \n",
       "81  92       94       -2       1            87    1    \n",
       "82  73       67        6       1            78    1    \n",
       "83  76       62       14       0            75    1    \n",
       "84  80       87       -7       0            77    2    \n",
       "85  81       82       -1       1            75    1    \n",
       "86  73       65        8       1            78    1    \n",
       "87  81       90       -9       1            78    1    \n",
       "88  63       57        6       0            63    1    \n",
       "89  94       92        2       1            88    3    \n",
       "90  87       78        9       1            91    1    \n",
       "91  63       66       -3       0            68    1    \n",
       "92  81       73        8       0            83    3    \n",
       "93  74       70        4       0            73    2    \n",
       "94  74       72        2       0            70    4    \n",
       "95  72       64        8       0            76    2    \n",
       "96  81       81        0       1            82    1    \n",
       "97  71       63        8       1            77    4    \n",
       "98  93       87        6       1            94    3    \n",
       "99  70       70        0       0            76    3    \n",
       "100 71       60       11       0            74    1    \n",
       "101 81       81        0       0            76    1    \n",
       "102 70       74       -4       0            69    1    \n",
       "103 72       67        5       0            76    3    \n",
       "104 78       78        0       1            81    1    \n",
       "105 81       81        0       1            78    2    "
      ]
     },
     "metadata": {},
     "output_type": "display_data"
    }
   ],
   "source": [
    "data"
   ]
  },
  {
   "cell_type": "code",
   "execution_count": 4,
   "metadata": {},
   "outputs": [
    {
     "data": {
      "text/html": [
       "<ol class=list-inline>\n",
       "\t<li>1</li>\n",
       "\t<li>0</li>\n",
       "\t<li>1</li>\n",
       "\t<li>0</li>\n",
       "\t<li>1</li>\n",
       "\t<li>0</li>\n",
       "\t<li>1</li>\n",
       "\t<li>0</li>\n",
       "\t<li>1</li>\n",
       "\t<li>1</li>\n",
       "</ol>\n"
      ],
      "text/latex": [
       "\\begin{enumerate*}\n",
       "\\item 1\n",
       "\\item 0\n",
       "\\item 1\n",
       "\\item 0\n",
       "\\item 1\n",
       "\\item 0\n",
       "\\item 1\n",
       "\\item 0\n",
       "\\item 1\n",
       "\\item 1\n",
       "\\end{enumerate*}\n"
      ],
      "text/markdown": [
       "1. 1\n",
       "2. 0\n",
       "3. 1\n",
       "4. 0\n",
       "5. 1\n",
       "6. 0\n",
       "7. 1\n",
       "8. 0\n",
       "9. 1\n",
       "10. 1\n",
       "\n",
       "\n"
      ],
      "text/plain": [
       " [1] 1 0 1 0 1 0 1 0 1 1"
      ]
     },
     "metadata": {},
     "output_type": "display_data"
    },
    {
     "data": {
      "text/html": [
       "6"
      ],
      "text/latex": [
       "6"
      ],
      "text/markdown": [
       "6"
      ],
      "text/plain": [
       "[1] 6"
      ]
     },
     "metadata": {},
     "output_type": "display_data"
    }
   ],
   "source": [
    "data$Extra_Credit[1:10]\n",
    "sum(data$Extra_Credit[1:10])"
   ]
  },
  {
   "cell_type": "markdown",
   "metadata": {},
   "source": [
    "sum(data$Midterm1 - data$Midterm2)"
   ]
  },
  {
   "cell_type": "code",
   "execution_count": 6,
   "metadata": {},
   "outputs": [
    {
     "ename": "ERROR",
     "evalue": "Error in parse(text = x, srcfile = src): <text>:1:19: unexpected ':'\n1: sum(data$Midterm1[:\n                      ^\n",
     "output_type": "error",
     "traceback": [
      "Error in parse(text = x, srcfile = src): <text>:1:19: unexpected ':'\n1: sum(data$Midterm1[:\n                      ^\nTraceback:\n"
     ]
    }
   ],
   "source": [
    "sum(data$Midterm1[:] − data$Midterm2[:])"
   ]
  },
  {
   "cell_type": "code",
   "execution_count": 11,
   "metadata": {},
   "outputs": [
    {
     "data": {
      "text/html": [
       "5"
      ],
      "text/latex": [
       "5"
      ],
      "text/markdown": [
       "5"
      ],
      "text/plain": [
       "[1] 5"
      ]
     },
     "metadata": {},
     "output_type": "display_data"
    }
   ],
   "source": [
    "sum(as.vector(data$Midterm1[1:10])-as.vector(data$Midterm2[1:10]) > 0 )"
   ]
  },
  {
   "cell_type": "code",
   "execution_count": 15,
   "metadata": {},
   "outputs": [
    {
     "data": {
      "text/html": [
       "<table>\n",
       "<thead><tr><th></th><th scope=col>Midterm1</th><th scope=col>Midterm2</th><th scope=col>Diff_Mid</th><th scope=col>Extra_Credit</th><th scope=col>Final</th><th scope=col>Class</th></tr></thead>\n",
       "<tbody>\n",
       "\t<tr><th scope=row>34</th><td>82</td><td>81</td><td> 1</td><td>0 </td><td>82</td><td>3 </td></tr>\n",
       "\t<tr><th scope=row>35</th><td>72</td><td>70</td><td> 2</td><td>0 </td><td>76</td><td>3 </td></tr>\n",
       "\t<tr><th scope=row>37</th><td>74</td><td>71</td><td> 3</td><td>0 </td><td>73</td><td>3 </td></tr>\n",
       "\t<tr><th scope=row>43</th><td>68</td><td>74</td><td>-6</td><td>0 </td><td>72</td><td>3 </td></tr>\n",
       "\t<tr><th scope=row>48</th><td>75</td><td>77</td><td>-2</td><td>0 </td><td>74</td><td>3 </td></tr>\n",
       "\t<tr><th scope=row>49</th><td>84</td><td>85</td><td>-1</td><td>0 </td><td>80</td><td>3 </td></tr>\n",
       "\t<tr><th scope=row>76</th><td>82</td><td>89</td><td>-7</td><td>0 </td><td>82</td><td>3 </td></tr>\n",
       "\t<tr><th scope=row>80</th><td>72</td><td>70</td><td> 2</td><td>0 </td><td>72</td><td>3 </td></tr>\n",
       "\t<tr><th scope=row>92</th><td>81</td><td>73</td><td> 8</td><td>0 </td><td>83</td><td>3 </td></tr>\n",
       "\t<tr><th scope=row>99</th><td>70</td><td>70</td><td> 0</td><td>0 </td><td>76</td><td>3 </td></tr>\n",
       "\t<tr><th scope=row>103</th><td>72</td><td>67</td><td> 5</td><td>0 </td><td>76</td><td>3 </td></tr>\n",
       "</tbody>\n",
       "</table>\n"
      ],
      "text/latex": [
       "\\begin{tabular}{r|llllll}\n",
       "  & Midterm1 & Midterm2 & Diff\\_Mid & Extra\\_Credit & Final & Class\\\\\n",
       "\\hline\n",
       "\t34 & 82 & 81 &  1 & 0  & 82 & 3 \\\\\n",
       "\t35 & 72 & 70 &  2 & 0  & 76 & 3 \\\\\n",
       "\t37 & 74 & 71 &  3 & 0  & 73 & 3 \\\\\n",
       "\t43 & 68 & 74 & -6 & 0  & 72 & 3 \\\\\n",
       "\t48 & 75 & 77 & -2 & 0  & 74 & 3 \\\\\n",
       "\t49 & 84 & 85 & -1 & 0  & 80 & 3 \\\\\n",
       "\t76 & 82 & 89 & -7 & 0  & 82 & 3 \\\\\n",
       "\t80 & 72 & 70 &  2 & 0  & 72 & 3 \\\\\n",
       "\t92 & 81 & 73 &  8 & 0  & 83 & 3 \\\\\n",
       "\t99 & 70 & 70 &  0 & 0  & 76 & 3 \\\\\n",
       "\t103 & 72 & 67 &  5 & 0  & 76 & 3 \\\\\n",
       "\\end{tabular}\n"
      ],
      "text/markdown": [
       "\n",
       "| <!--/--> | Midterm1 | Midterm2 | Diff_Mid | Extra_Credit | Final | Class | \n",
       "|---|---|---|---|---|---|---|---|---|---|---|\n",
       "| 34 | 82 | 81 |  1 | 0  | 82 | 3  | \n",
       "| 35 | 72 | 70 |  2 | 0  | 76 | 3  | \n",
       "| 37 | 74 | 71 |  3 | 0  | 73 | 3  | \n",
       "| 43 | 68 | 74 | -6 | 0  | 72 | 3  | \n",
       "| 48 | 75 | 77 | -2 | 0  | 74 | 3  | \n",
       "| 49 | 84 | 85 | -1 | 0  | 80 | 3  | \n",
       "| 76 | 82 | 89 | -7 | 0  | 82 | 3  | \n",
       "| 80 | 72 | 70 |  2 | 0  | 72 | 3  | \n",
       "| 92 | 81 | 73 |  8 | 0  | 83 | 3  | \n",
       "| 99 | 70 | 70 |  0 | 0  | 76 | 3  | \n",
       "| 103 | 72 | 67 |  5 | 0  | 76 | 3  | \n",
       "\n",
       "\n"
      ],
      "text/plain": [
       "    Midterm1 Midterm2 Diff_Mid Extra_Credit Final Class\n",
       "34  82       81        1       0            82    3    \n",
       "35  72       70        2       0            76    3    \n",
       "37  74       71        3       0            73    3    \n",
       "43  68       74       -6       0            72    3    \n",
       "48  75       77       -2       0            74    3    \n",
       "49  84       85       -1       0            80    3    \n",
       "76  82       89       -7       0            82    3    \n",
       "80  72       70        2       0            72    3    \n",
       "92  81       73        8       0            83    3    \n",
       "99  70       70        0       0            76    3    \n",
       "103 72       67        5       0            76    3    "
      ]
     },
     "metadata": {},
     "output_type": "display_data"
    }
   ],
   "source": [
    "data[data$Class == 3,][data[data$Class == 3,]$Extra_Credit == 0,]"
   ]
  },
  {
   "cell_type": "code",
   "execution_count": 16,
   "metadata": {},
   "outputs": [
    {
     "data": {
      "image/png": "[encoded data removed]",
      "text/plain": [
       "plot without title"
      ]
     },
     "metadata": {},
     "output_type": "display_data"
    }
   ],
   "source": [
    "plot(factor(data$Extra_Credit),data$Final)"
   ]
  },
  {
   "cell_type": "code",
   "execution_count": 18,
   "metadata": {},
   "outputs": [
    {
     "data": {
      "text/plain": [
       "$`0`\n",
       "   Min. 1st Qu.  Median    Mean 3rd Qu.    Max. \n",
       "  63.00   70.00   74.50   73.86   76.00   83.00 \n",
       "\n",
       "$`1`\n",
       "   Min. 1st Qu.  Median    Mean 3rd Qu.    Max. \n",
       "  75.00   78.00   82.00   84.08   88.00   94.00 \n"
      ]
     },
     "metadata": {},
     "output_type": "display_data"
    }
   ],
   "source": [
    "tapply(data$Final, factor(data$Extra_Credit), summary)"
   ]
  },
  {
   "cell_type": "code",
   "execution_count": 19,
   "metadata": {},
   "outputs": [
    {
     "data": {
      "text/html": [
       "66"
      ],
      "text/latex": [
       "66"
      ],
      "text/markdown": [
       "66"
      ],
      "text/plain": [
       "[1] 66"
      ]
     },
     "metadata": {},
     "output_type": "display_data"
    },
    {
     "data": {
      "text/html": [
       "39"
      ],
      "text/latex": [
       "39"
      ],
      "text/markdown": [
       "39"
      ],
      "text/plain": [
       "[1] 39"
      ]
     },
     "metadata": {},
     "output_type": "display_data"
    }
   ],
   "source": [
    "sum(data$Extra_Credit == 0)\n",
    "sum(data$Extra_Credit == 1)"
   ]
  },
  {
   "cell_type": "code",
   "execution_count": 24,
   "metadata": {},
   "outputs": [
    {
     "data": {
      "text/html": [
       "<ol class=list-inline>\n",
       "\t<li>76</li>\n",
       "\t<li>70</li>\n",
       "\t<li>77</li>\n",
       "\t<li>73</li>\n",
       "\t<li>67</li>\n",
       "\t<li>63</li>\n",
       "\t<li>68</li>\n",
       "\t<li>74</li>\n",
       "\t<li>75</li>\n",
       "\t<li>72</li>\n",
       "\t<li>77</li>\n",
       "\t<li>72</li>\n",
       "\t<li>82</li>\n",
       "\t<li>77</li>\n",
       "\t<li>76</li>\n",
       "\t<li>76</li>\n",
       "\t<li>68</li>\n",
       "\t<li>72</li>\n",
       "\t<li>72</li>\n",
       "\t<li>69</li>\n",
       "\t<li>82</li>\n",
       "\t<li>76</li>\n",
       "\t<li>73</li>\n",
       "\t<li>76</li>\n",
       "\t<li>80</li>\n",
       "\t<li>67</li>\n",
       "\t<li>69</li>\n",
       "\t<li>72</li>\n",
       "\t<li>77</li>\n",
       "\t<li>76</li>\n",
       "\t<li>76</li>\n",
       "\t<li>74</li>\n",
       "\t<li>80</li>\n",
       "\t<li>77</li>\n",
       "\t<li>76</li>\n",
       "\t<li>80</li>\n",
       "\t<li>83</li>\n",
       "\t<li>76</li>\n",
       "\t<li>74</li>\n",
       "\t<li>76</li>\n",
       "\t<li>63</li>\n",
       "\t<li>75</li>\n",
       "\t<li>69</li>\n",
       "\t<li>74</li>\n",
       "\t<li>83</li>\n",
       "\t<li>69</li>\n",
       "\t<li>74</li>\n",
       "\t<li>76</li>\n",
       "\t<li>82</li>\n",
       "\t<li>69</li>\n",
       "\t<li>67</li>\n",
       "\t<li>70</li>\n",
       "\t<li>72</li>\n",
       "\t<li>75</li>\n",
       "\t<li>77</li>\n",
       "\t<li>63</li>\n",
       "\t<li>68</li>\n",
       "\t<li>83</li>\n",
       "\t<li>73</li>\n",
       "\t<li>70</li>\n",
       "\t<li>76</li>\n",
       "\t<li>76</li>\n",
       "\t<li>74</li>\n",
       "\t<li>76</li>\n",
       "\t<li>69</li>\n",
       "\t<li>76</li>\n",
       "</ol>\n"
      ],
      "text/latex": [
       "\\begin{enumerate*}\n",
       "\\item 76\n",
       "\\item 70\n",
       "\\item 77\n",
       "\\item 73\n",
       "\\item 67\n",
       "\\item 63\n",
       "\\item 68\n",
       "\\item 74\n",
       "\\item 75\n",
       "\\item 72\n",
       "\\item 77\n",
       "\\item 72\n",
       "\\item 82\n",
       "\\item 77\n",
       "\\item 76\n",
       "\\item 76\n",
       "\\item 68\n",
       "\\item 72\n",
       "\\item 72\n",
       "\\item 69\n",
       "\\item 82\n",
       "\\item 76\n",
       "\\item 73\n",
       "\\item 76\n",
       "\\item 80\n",
       "\\item 67\n",
       "\\item 69\n",
       "\\item 72\n",
       "\\item 77\n",
       "\\item 76\n",
       "\\item 76\n",
       "\\item 74\n",
       "\\item 80\n",
       "\\item 77\n",
       "\\item 76\n",
       "\\item 80\n",
       "\\item 83\n",
       "\\item 76\n",
       "\\item 74\n",
       "\\item 76\n",
       "\\item 63\n",
       "\\item 75\n",
       "\\item 69\n",
       "\\item 74\n",
       "\\item 83\n",
       "\\item 69\n",
       "\\item 74\n",
       "\\item 76\n",
       "\\item 82\n",
       "\\item 69\n",
       "\\item 67\n",
       "\\item 70\n",
       "\\item 72\n",
       "\\item 75\n",
       "\\item 77\n",
       "\\item 63\n",
       "\\item 68\n",
       "\\item 83\n",
       "\\item 73\n",
       "\\item 70\n",
       "\\item 76\n",
       "\\item 76\n",
       "\\item 74\n",
       "\\item 76\n",
       "\\item 69\n",
       "\\item 76\n",
       "\\end{enumerate*}\n"
      ],
      "text/markdown": [
       "1. 76\n",
       "2. 70\n",
       "3. 77\n",
       "4. 73\n",
       "5. 67\n",
       "6. 63\n",
       "7. 68\n",
       "8. 74\n",
       "9. 75\n",
       "10. 72\n",
       "11. 77\n",
       "12. 72\n",
       "13. 82\n",
       "14. 77\n",
       "15. 76\n",
       "16. 76\n",
       "17. 68\n",
       "18. 72\n",
       "19. 72\n",
       "20. 69\n",
       "21. 82\n",
       "22. 76\n",
       "23. 73\n",
       "24. 76\n",
       "25. 80\n",
       "26. 67\n",
       "27. 69\n",
       "28. 72\n",
       "29. 77\n",
       "30. 76\n",
       "31. 76\n",
       "32. 74\n",
       "33. 80\n",
       "34. 77\n",
       "35. 76\n",
       "36. 80\n",
       "37. 83\n",
       "38. 76\n",
       "39. 74\n",
       "40. 76\n",
       "41. 63\n",
       "42. 75\n",
       "43. 69\n",
       "44. 74\n",
       "45. 83\n",
       "46. 69\n",
       "47. 74\n",
       "48. 76\n",
       "49. 82\n",
       "50. 69\n",
       "51. 67\n",
       "52. 70\n",
       "53. 72\n",
       "54. 75\n",
       "55. 77\n",
       "56. 63\n",
       "57. 68\n",
       "58. 83\n",
       "59. 73\n",
       "60. 70\n",
       "61. 76\n",
       "62. 76\n",
       "63. 74\n",
       "64. 76\n",
       "65. 69\n",
       "66. 76\n",
       "\n",
       "\n"
      ],
      "text/plain": [
       " [1] 76 70 77 73 67 63 68 74 75 72 77 72 82 77 76 76 68 72 72 69 82 76 73 76 80\n",
       "[26] 67 69 72 77 76 76 74 80 77 76 80 83 76 74 76 63 75 69 74 83 69 74 76 82 69\n",
       "[51] 67 70 72 75 77 63 68 83 73 70 76 76 74 76 69 76"
      ]
     },
     "metadata": {},
     "output_type": "display_data"
    },
    {
     "data": {
      "text/html": [
       "<ol class=list-inline>\n",
       "\t<li>81</li>\n",
       "\t<li>77</li>\n",
       "\t<li>93</li>\n",
       "\t<li>87</li>\n",
       "\t<li>87</li>\n",
       "\t<li>78</li>\n",
       "\t<li>75</li>\n",
       "\t<li>75</li>\n",
       "\t<li>88</li>\n",
       "\t<li>82</li>\n",
       "\t<li>88</li>\n",
       "\t<li>78</li>\n",
       "\t<li>77</li>\n",
       "\t<li>94</li>\n",
       "\t<li>94</li>\n",
       "\t<li>81</li>\n",
       "\t<li>88</li>\n",
       "\t<li>91</li>\n",
       "\t<li>91</li>\n",
       "\t<li>93</li>\n",
       "\t<li>81</li>\n",
       "\t<li>88</li>\n",
       "\t<li>93</li>\n",
       "\t<li>81</li>\n",
       "\t<li>81</li>\n",
       "\t<li>88</li>\n",
       "\t<li>82</li>\n",
       "\t<li>87</li>\n",
       "\t<li>78</li>\n",
       "\t<li>75</li>\n",
       "\t<li>78</li>\n",
       "\t<li>78</li>\n",
       "\t<li>88</li>\n",
       "\t<li>91</li>\n",
       "\t<li>82</li>\n",
       "\t<li>77</li>\n",
       "\t<li>94</li>\n",
       "\t<li>81</li>\n",
       "\t<li>78</li>\n",
       "</ol>\n"
      ],
      "text/latex": [
       "\\begin{enumerate*}\n",
       "\\item 81\n",
       "\\item 77\n",
       "\\item 93\n",
       "\\item 87\n",
       "\\item 87\n",
       "\\item 78\n",
       "\\item 75\n",
       "\\item 75\n",
       "\\item 88\n",
       "\\item 82\n",
       "\\item 88\n",
       "\\item 78\n",
       "\\item 77\n",
       "\\item 94\n",
       "\\item 94\n",
       "\\item 81\n",
       "\\item 88\n",
       "\\item 91\n",
       "\\item 91\n",
       "\\item 93\n",
       "\\item 81\n",
       "\\item 88\n",
       "\\item 93\n",
       "\\item 81\n",
       "\\item 81\n",
       "\\item 88\n",
       "\\item 82\n",
       "\\item 87\n",
       "\\item 78\n",
       "\\item 75\n",
       "\\item 78\n",
       "\\item 78\n",
       "\\item 88\n",
       "\\item 91\n",
       "\\item 82\n",
       "\\item 77\n",
       "\\item 94\n",
       "\\item 81\n",
       "\\item 78\n",
       "\\end{enumerate*}\n"
      ],
      "text/markdown": [
       "1. 81\n",
       "2. 77\n",
       "3. 93\n",
       "4. 87\n",
       "5. 87\n",
       "6. 78\n",
       "7. 75\n",
       "8. 75\n",
       "9. 88\n",
       "10. 82\n",
       "11. 88\n",
       "12. 78\n",
       "13. 77\n",
       "14. 94\n",
       "15. 94\n",
       "16. 81\n",
       "17. 88\n",
       "18. 91\n",
       "19. 91\n",
       "20. 93\n",
       "21. 81\n",
       "22. 88\n",
       "23. 93\n",
       "24. 81\n",
       "25. 81\n",
       "26. 88\n",
       "27. 82\n",
       "28. 87\n",
       "29. 78\n",
       "30. 75\n",
       "31. 78\n",
       "32. 78\n",
       "33. 88\n",
       "34. 91\n",
       "35. 82\n",
       "36. 77\n",
       "37. 94\n",
       "38. 81\n",
       "39. 78\n",
       "\n",
       "\n"
      ],
      "text/plain": [
       " [1] 81 77 93 87 87 78 75 75 88 82 88 78 77 94 94 81 88 91 91 93 81 88 93 81 81\n",
       "[26] 88 82 87 78 75 78 78 88 91 82 77 94 81 78"
      ]
     },
     "metadata": {},
     "output_type": "display_data"
    }
   ],
   "source": [
    "x = data[data$Extra_Credit == 0,]$Final\n",
    "y = data[data$Extra_Credit == 1,]$Final\n",
    "x\n",
    "y\n"
   ]
  },
  {
   "cell_type": "code",
   "execution_count": 25,
   "metadata": {},
   "outputs": [
    {
     "data": {
      "text/plain": [
       "\n",
       "\tWelch Two Sample t-test\n",
       "\n",
       "data:  x and y\n",
       "t = -8.7839, df = 64.585, p-value = 6.271e-13\n",
       "alternative hypothesis: true difference in means is less than 0\n",
       "95 percent confidence interval:\n",
       "     -Inf -8.27294\n",
       "sample estimates:\n",
       "mean of x mean of y \n",
       " 73.86364  84.07692 \n"
      ]
     },
     "metadata": {},
     "output_type": "display_data"
    }
   ],
   "source": [
    "t.test(x, y, alternative=\"less\")"
   ]
  },
  {
   "cell_type": "code",
   "execution_count": 27,
   "metadata": {},
   "outputs": [
    {
     "data": {
      "text/plain": [
       "\n",
       "\tWelch Two Sample t-test\n",
       "\n",
       "data:  data$Final by data$Extra_Credit\n",
       "t = -8.7839, df = 64.585, p-value = 6.271e-13\n",
       "alternative hypothesis: true difference in means is less than 0\n",
       "95 percent confidence interval:\n",
       "     -Inf -8.27294\n",
       "sample estimates:\n",
       "mean in group 0 mean in group 1 \n",
       "       73.86364        84.07692 \n"
      ]
     },
     "metadata": {},
     "output_type": "display_data"
    }
   ],
   "source": [
    "t.test(data$Final~data$Extra_Credit, alternative=\"less\")"
   ]
  },
  {
   "cell_type": "code",
   "execution_count": 29,
   "metadata": {},
   "outputs": [
    {
     "data": {
      "text/plain": [
       "    Min.  1st Qu.   Median     Mean  3rd Qu.     Max. \n",
       "-11.0000  -3.0000   0.0000   0.4095   4.0000  14.0000 "
      ]
     },
     "metadata": {},
     "output_type": "display_data"
    },
    {
     "data": {
      "image/png": "[encoded data removed]",
      "text/plain": [
       "Plot with title “Histogram of data$Diff_Mid”"
      ]
     },
     "metadata": {},
     "output_type": "display_data"
    }
   ],
   "source": [
    "hist(data$Diff_Mid)\n",
    "summary(data$Diff_Mid)"
   ]
  },
  {
   "cell_type": "code",
   "execution_count": 31,
   "metadata": {},
   "outputs": [
    {
     "data": {
      "text/plain": [
       "\n",
       "\tOne Sample t-test\n",
       "\n",
       "data:  data$Diff_Mid\n",
       "t = 0.83584, df = 104, p-value = 0.2026\n",
       "alternative hypothesis: true mean is greater than 0\n",
       "95 percent confidence interval:\n",
       " -0.4036208        Inf\n",
       "sample estimates:\n",
       "mean of x \n",
       "0.4095238 \n"
      ]
     },
     "metadata": {},
     "output_type": "display_data"
    }
   ],
   "source": [
    "t.test(data$Diff_Mid,alternative=\"greater\")\n",
    "# IS M1 > M2"
   ]
  },
  {
   "cell_type": "code",
   "execution_count": null,
   "metadata": {
    "collapsed": true
   },
   "outputs": [],
   "source": []
  }
 ],
 "metadata": {
  "kernelspec": {
   "display_name": "R",
   "language": "R",
   "name": "ir"
  },
  "language_info": {
   "codemirror_mode": "r",
   "file_extension": ".r",
   "mimetype": "text/x-r-source",
   "name": "R",
   "pygments_lexer": "r",
   "version": "3.4.0"
  }
 },
 "nbformat": 4,
 "nbformat_minor": 2
}
