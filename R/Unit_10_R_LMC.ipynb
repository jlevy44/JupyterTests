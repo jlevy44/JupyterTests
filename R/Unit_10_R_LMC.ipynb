{
 "cells": [
  {
   "cell_type": "code",
   "execution_count": 1,
   "metadata": {},
   "outputs": [
    {
     "data": {
      "text/html": [
       "<table>\n",
       "<thead><tr><th></th><th scope=col>no.risk</th><th scope=col>moderate.to.severe.risk</th></tr></thead>\n",
       "<tbody>\n",
       "\t<tr><th scope=row>participated</th><td>793</td><td>309</td></tr>\n",
       "\t<tr><th scope=row>did.not.participate</th><td>441</td><td>110</td></tr>\n",
       "</tbody>\n",
       "</table>\n"
      ],
      "text/latex": [
       "\\begin{tabular}{r|ll}\n",
       "  & no.risk & moderate.to.severe.risk\\\\\n",
       "\\hline\n",
       "\tparticipated & 793 & 309\\\\\n",
       "\tdid.not.participate & 441 & 110\\\\\n",
       "\\end{tabular}\n"
      ],
      "text/markdown": [
       "\n",
       "| <!--/--> | no.risk | moderate.to.severe.risk | \n",
       "|---|---|\n",
       "| participated | 793 | 309 | \n",
       "| did.not.participate | 441 | 110 | \n",
       "\n",
       "\n"
      ],
      "text/plain": [
       "                    no.risk moderate.to.severe.risk\n",
       "participated        793     309                    \n",
       "did.not.participate 441     110                    "
      ]
     },
     "metadata": {},
     "output_type": "display_data"
    }
   ],
   "source": [
    "data=data.frame(no.risk=c(793,441),moderate.to.severe.risk=c(309,110),row.names=c(\"participated\",\"did.not.participate\"));data\n"
   ]
  },
  {
   "cell_type": "code",
   "execution_count": 2,
   "metadata": {},
   "outputs": [
    {
     "data": {
      "text/html": [
       "<table>\n",
       "<thead><tr><th></th><th scope=col>no.risk</th><th scope=col>moderate.to.severe.risk</th></tr></thead>\n",
       "<tbody>\n",
       "\t<tr><th scope=row>participated</th><td>822.6667</td><td>279.3333</td></tr>\n",
       "\t<tr><th scope=row>did.not.participate</th><td>411.3333</td><td>139.6667</td></tr>\n",
       "</tbody>\n",
       "</table>\n"
      ],
      "text/latex": [
       "\\begin{tabular}{r|ll}\n",
       "  & no.risk & moderate.to.severe.risk\\\\\n",
       "\\hline\n",
       "\tparticipated & 822.6667 & 279.3333\\\\\n",
       "\tdid.not.participate & 411.3333 & 139.6667\\\\\n",
       "\\end{tabular}\n"
      ],
      "text/markdown": [
       "\n",
       "| <!--/--> | no.risk | moderate.to.severe.risk | \n",
       "|---|---|\n",
       "| participated | 822.6667 | 279.3333 | \n",
       "| did.not.participate | 411.3333 | 139.6667 | \n",
       "\n",
       "\n"
      ],
      "text/plain": [
       "                    no.risk  moderate.to.severe.risk\n",
       "participated        822.6667 279.3333               \n",
       "did.not.participate 411.3333 139.6667               "
      ]
     },
     "metadata": {},
     "output_type": "display_data"
    }
   ],
   "source": [
    "chisq.test(data)$expected"
   ]
  },
  {
   "cell_type": "code",
   "execution_count": 3,
   "metadata": {},
   "outputs": [
    {
     "data": {
      "text/html": [
       "<table>\n",
       "<thead><tr><th></th><th scope=col>no.risk</th><th scope=col>moderate.to.severe.risk</th></tr></thead>\n",
       "<tbody>\n",
       "\t<tr><th scope=row>participated</th><td>793</td><td>309</td></tr>\n",
       "\t<tr><th scope=row>did.not.participate</th><td>441</td><td>110</td></tr>\n",
       "</tbody>\n",
       "</table>\n"
      ],
      "text/latex": [
       "\\begin{tabular}{r|ll}\n",
       "  & no.risk & moderate.to.severe.risk\\\\\n",
       "\\hline\n",
       "\tparticipated & 793 & 309\\\\\n",
       "\tdid.not.participate & 441 & 110\\\\\n",
       "\\end{tabular}\n"
      ],
      "text/markdown": [
       "\n",
       "| <!--/--> | no.risk | moderate.to.severe.risk | \n",
       "|---|---|\n",
       "| participated | 793 | 309 | \n",
       "| did.not.participate | 441 | 110 | \n",
       "\n",
       "\n"
      ],
      "text/plain": [
       "                    no.risk moderate.to.severe.risk\n",
       "participated        793     309                    \n",
       "did.not.participate 441     110                    "
      ]
     },
     "metadata": {},
     "output_type": "display_data"
    }
   ],
   "source": [
    "data = data.frame(no.risk=c(793,441),moderate.to.severe.risk=c(309,110),row.names=c(\"participated\",\"did.not.participate\")); data"
   ]
  },
  {
   "cell_type": "code",
   "execution_count": 4,
   "metadata": {},
   "outputs": [
    {
     "data": {
      "text/plain": [
       "\n",
       "\tPearson's Chi-squared test with Yates' continuity correction\n",
       "\n",
       "data:  data\n",
       "X-squared = 12.239, df = 1, p-value = 0.0004681\n"
      ]
     },
     "metadata": {},
     "output_type": "display_data"
    }
   ],
   "source": [
    "chisq.test(data)"
   ]
  },
  {
   "cell_type": "code",
   "execution_count": 18,
   "metadata": {
    "collapsed": true
   },
   "outputs": [],
   "source": [
    "expected = t(as.vector(c(61,100,397))%*%t(as.vector(c(100,213,94,151))/558))\n"
   ]
  },
  {
   "cell_type": "code",
   "execution_count": 17,
   "metadata": {
    "collapsed": true
   },
   "outputs": [],
   "source": [
    "expected = as.vector(c(100,213,94,151))/558*397"
   ]
  },
  {
   "cell_type": "code",
   "execution_count": 19,
   "metadata": {
    "collapsed": true
   },
   "outputs": [],
   "source": [
    "observed = matrix(c(16,15,12,18,15,42,17,26,69,156,65,107),nrow=4)"
   ]
  },
  {
   "cell_type": "code",
   "execution_count": 15,
   "metadata": {},
   "outputs": [
    {
     "data": {
      "text/html": [
       "<table>\n",
       "<tbody>\n",
       "\t<tr><td>16 </td><td>15 </td><td> 69</td></tr>\n",
       "\t<tr><td>15 </td><td>42 </td><td>156</td></tr>\n",
       "\t<tr><td>12 </td><td>17 </td><td> 65</td></tr>\n",
       "\t<tr><td>18 </td><td>26 </td><td>107</td></tr>\n",
       "</tbody>\n",
       "</table>\n"
      ],
      "text/latex": [
       "\\begin{tabular}{lll}\n",
       "\t 16  & 15  &  69\\\\\n",
       "\t 15  & 42  & 156\\\\\n",
       "\t 12  & 17  &  65\\\\\n",
       "\t 18  & 26  & 107\\\\\n",
       "\\end{tabular}\n"
      ],
      "text/markdown": [
       "\n",
       "| 16  | 15  |  69 | \n",
       "| 15  | 42  | 156 | \n",
       "| 12  | 17  |  65 | \n",
       "| 18  | 26  | 107 | \n",
       "\n",
       "\n"
      ],
      "text/plain": [
       "     [,1] [,2] [,3]\n",
       "[1,] 16   15    69 \n",
       "[2,] 15   42   156 \n",
       "[3,] 12   17    65 \n",
       "[4,] 18   26   107 "
      ]
     },
     "metadata": {},
     "output_type": "display_data"
    }
   ],
   "source": [
    "observed"
   ]
  },
  {
   "cell_type": "code",
   "execution_count": 20,
   "metadata": {},
   "outputs": [
    {
     "data": {
      "text/html": [
       "<table>\n",
       "<tbody>\n",
       "\t<tr><td>2.3496046  </td><td>0.476146953</td><td>0.064787158</td></tr>\n",
       "\t<tr><td>2.9478416  </td><td>0.383873997</td><td>0.131083268</td></tr>\n",
       "\t<tr><td>0.2892399  </td><td>0.001410051</td><td>0.052743629</td></tr>\n",
       "\t<tr><td>0.1350047  </td><td>0.041594151</td><td>0.001736331</td></tr>\n",
       "</tbody>\n",
       "</table>\n"
      ],
      "text/latex": [
       "\\begin{tabular}{lll}\n",
       "\t 2.3496046   & 0.476146953 & 0.064787158\\\\\n",
       "\t 2.9478416   & 0.383873997 & 0.131083268\\\\\n",
       "\t 0.2892399   & 0.001410051 & 0.052743629\\\\\n",
       "\t 0.1350047   & 0.041594151 & 0.001736331\\\\\n",
       "\\end{tabular}\n"
      ],
      "text/markdown": [
       "\n",
       "| 2.3496046   | 0.476146953 | 0.064787158 | \n",
       "| 2.9478416   | 0.383873997 | 0.131083268 | \n",
       "| 0.2892399   | 0.001410051 | 0.052743629 | \n",
       "| 0.1350047   | 0.041594151 | 0.001736331 | \n",
       "\n",
       "\n"
      ],
      "text/plain": [
       "     [,1]      [,2]        [,3]       \n",
       "[1,] 2.3496046 0.476146953 0.064787158\n",
       "[2,] 2.9478416 0.383873997 0.131083268\n",
       "[3,] 0.2892399 0.001410051 0.052743629\n",
       "[4,] 0.1350047 0.041594151 0.001736331"
      ]
     },
     "metadata": {},
     "output_type": "display_data"
    }
   ],
   "source": [
    "(observed-expected)^2/expected"
   ]
  },
  {
   "cell_type": "code",
   "execution_count": 22,
   "metadata": {},
   "outputs": [
    {
     "data": {
      "text/html": [
       "0.332087533003588"
      ],
      "text/latex": [
       "0.332087533003588"
      ],
      "text/markdown": [
       "0.332087533003588"
      ],
      "text/plain": [
       "[1] 0.3320875"
      ]
     },
     "metadata": {},
     "output_type": "display_data"
    }
   ],
   "source": [
    "1-pchisq(6.88,6)"
   ]
  },
  {
   "cell_type": "code",
   "execution_count": 1,
   "metadata": {},
   "outputs": [
    {
     "data": {
      "text/html": [
       "72"
      ],
      "text/latex": [
       "72"
      ],
      "text/markdown": [
       "72"
      ],
      "text/plain": [
       "[1] 72"
      ]
     },
     "metadata": {},
     "output_type": "display_data"
    }
   ],
   "source": [
    ".3*240"
   ]
  },
  {
   "cell_type": "code",
   "execution_count": 1,
   "metadata": {
    "collapsed": true
   },
   "outputs": [],
   "source": [
    "load('low_birth_weight.RData')"
   ]
  },
  {
   "cell_type": "code",
   "execution_count": 8,
   "metadata": {},
   "outputs": [
    {
     "data": {
      "text/html": [
       "<table>\n",
       "<thead><tr><th scope=col>LOW</th><th scope=col>AGE</th><th scope=col>LWT</th><th scope=col>RACE</th><th scope=col>SMOKE</th><th scope=col>PTL</th><th scope=col>HT</th><th scope=col>UI</th><th scope=col>FTV</th><th scope=col>BWT</th></tr></thead>\n",
       "<tbody>\n",
       "\t<tr><td>0   </td><td>29  </td><td>140 </td><td>1   </td><td>1   </td><td>0   </td><td>0   </td><td>0   </td><td>2   </td><td>2977</td></tr>\n",
       "\t<tr><td>0   </td><td>32  </td><td>132 </td><td>1   </td><td>0   </td><td>0   </td><td>0   </td><td>0   </td><td>4   </td><td>3080</td></tr>\n",
       "\t<tr><td>0   </td><td>36  </td><td>175 </td><td>1   </td><td>0   </td><td>0   </td><td>0   </td><td>0   </td><td>0   </td><td>3600</td></tr>\n",
       "\t<tr><td>1   </td><td>14  </td><td>100 </td><td>3   </td><td>0   </td><td>0   </td><td>0   </td><td>0   </td><td>2   </td><td>2495</td></tr>\n",
       "\t<tr><td>0   </td><td>25  </td><td>130 </td><td>1   </td><td>0   </td><td>0   </td><td>0   </td><td>0   </td><td>2   </td><td>4153</td></tr>\n",
       "\t<tr><td>0   </td><td>26  </td><td>168 </td><td>2   </td><td>1   </td><td>0   </td><td>0   </td><td>0   </td><td>0   </td><td>2920</td></tr>\n",
       "\t<tr><td>0   </td><td>22  </td><td>131 </td><td>1   </td><td>0   </td><td>0   </td><td>0   </td><td>0   </td><td>1   </td><td>3460</td></tr>\n",
       "\t<tr><td>1   </td><td>32  </td><td>105 </td><td>1   </td><td>1   </td><td>0   </td><td>0   </td><td>0   </td><td>0   </td><td>1818</td></tr>\n",
       "\t<tr><td>0   </td><td>32  </td><td>170 </td><td>1   </td><td>0   </td><td>0   </td><td>0   </td><td>0   </td><td>0   </td><td>3473</td></tr>\n",
       "\t<tr><td>0   </td><td>32  </td><td>134 </td><td>1   </td><td>1   </td><td>1   </td><td>0   </td><td>0   </td><td>4   </td><td>3430</td></tr>\n",
       "\t<tr><td>1   </td><td>26  </td><td>154 </td><td>3   </td><td>0   </td><td>1   </td><td>1   </td><td>0   </td><td>1   </td><td>2442</td></tr>\n",
       "\t<tr><td>1   </td><td>25  </td><td>105 </td><td>3   </td><td>0   </td><td>1   </td><td>1   </td><td>0   </td><td>0   </td><td>1330</td></tr>\n",
       "\t<tr><td>1   </td><td>24  </td><td>138 </td><td>1   </td><td>0   </td><td>0   </td><td>0   </td><td>0   </td><td>0   </td><td>2100</td></tr>\n",
       "\t<tr><td>1   </td><td>23  </td><td> 94 </td><td>3   </td><td>1   </td><td>0   </td><td>0   </td><td>0   </td><td>0   </td><td>2495</td></tr>\n",
       "\t<tr><td>0   </td><td>17  </td><td>119 </td><td>3   </td><td>0   </td><td>0   </td><td>0   </td><td>0   </td><td>0   </td><td>3225</td></tr>\n",
       "\t<tr><td>0   </td><td>25  </td><td>120 </td><td>3   </td><td>0   </td><td>0   </td><td>0   </td><td>1   </td><td>2   </td><td>2877</td></tr>\n",
       "\t<tr><td>0   </td><td>17  </td><td>113 </td><td>2   </td><td>0   </td><td>0   </td><td>0   </td><td>0   </td><td>1   </td><td>2920</td></tr>\n",
       "\t<tr><td>1   </td><td>21  </td><td>103 </td><td>3   </td><td>0   </td><td>0   </td><td>0   </td><td>0   </td><td>0   </td><td>1970</td></tr>\n",
       "\t<tr><td>1   </td><td>25  </td><td> 85 </td><td>3   </td><td>0   </td><td>0   </td><td>0   </td><td>1   </td><td>0   </td><td>1474</td></tr>\n",
       "\t<tr><td>0   </td><td>33  </td><td>109 </td><td>1   </td><td>1   </td><td>0   </td><td>0   </td><td>0   </td><td>1   </td><td>3033</td></tr>\n",
       "\t<tr><td>0   </td><td>20  </td><td>105 </td><td>1   </td><td>1   </td><td>0   </td><td>0   </td><td>0   </td><td>1   </td><td>2557</td></tr>\n",
       "\t<tr><td>0   </td><td>19  </td><td>235 </td><td>1   </td><td>1   </td><td>0   </td><td>1   </td><td>0   </td><td>0   </td><td>3629</td></tr>\n",
       "\t<tr><td>0   </td><td>16  </td><td>110 </td><td>3   </td><td>0   </td><td>0   </td><td>0   </td><td>0   </td><td>0   </td><td>3175</td></tr>\n",
       "\t<tr><td>1   </td><td>20  </td><td>109 </td><td>3   </td><td>0   </td><td>0   </td><td>0   </td><td>0   </td><td>0   </td><td>2240</td></tr>\n",
       "\t<tr><td>0   </td><td>23  </td><td>190 </td><td>1   </td><td>0   </td><td>0   </td><td>0   </td><td>0   </td><td>0   </td><td>3459</td></tr>\n",
       "\t<tr><td>0   </td><td>30  </td><td>107 </td><td>3   </td><td>0   </td><td>1   </td><td>0   </td><td>1   </td><td>2   </td><td>2750</td></tr>\n",
       "\t<tr><td>0   </td><td>22  </td><td>112 </td><td>1   </td><td>1   </td><td>2   </td><td>0   </td><td>0   </td><td>0   </td><td>3317</td></tr>\n",
       "\t<tr><td>1   </td><td>20  </td><td>122 </td><td>2   </td><td>1   </td><td>0   </td><td>0   </td><td>0   </td><td>0   </td><td>2381</td></tr>\n",
       "\t<tr><td>0   </td><td>18  </td><td>120 </td><td>1   </td><td>1   </td><td>0   </td><td>0   </td><td>0   </td><td>2   </td><td>3856</td></tr>\n",
       "\t<tr><td>0   </td><td>19  </td><td>138 </td><td>1   </td><td>1   </td><td>0   </td><td>0   </td><td>0   </td><td>2   </td><td>2977</td></tr>\n",
       "\t<tr><td>⋮</td><td>⋮</td><td>⋮</td><td>⋮</td><td>⋮</td><td>⋮</td><td>⋮</td><td>⋮</td><td>⋮</td><td>⋮</td></tr>\n",
       "\t<tr><td>1   </td><td>28  </td><td> 95 </td><td>1   </td><td>1   </td><td>0   </td><td>0   </td><td>0   </td><td>2   </td><td>2466</td></tr>\n",
       "\t<tr><td>1   </td><td>27  </td><td>130 </td><td>2   </td><td>0   </td><td>0   </td><td>0   </td><td>1   </td><td>0   </td><td>2187</td></tr>\n",
       "\t<tr><td>0   </td><td>28  </td><td>250 </td><td>3   </td><td>1   </td><td>0   </td><td>0   </td><td>0   </td><td>6   </td><td>3303</td></tr>\n",
       "\t<tr><td>0   </td><td>33  </td><td>155 </td><td>3   </td><td>0   </td><td>0   </td><td>0   </td><td>0   </td><td>3   </td><td>2551</td></tr>\n",
       "\t<tr><td>0   </td><td>17  </td><td>113 </td><td>2   </td><td>0   </td><td>0   </td><td>0   </td><td>0   </td><td>1   </td><td>2920</td></tr>\n",
       "\t<tr><td>0   </td><td>22  </td><td> 95 </td><td>3   </td><td>0   </td><td>0   </td><td>1   </td><td>0   </td><td>0   </td><td>2750</td></tr>\n",
       "\t<tr><td>0   </td><td>28  </td><td>140 </td><td>1   </td><td>0   </td><td>0   </td><td>0   </td><td>0   </td><td>0   </td><td>3234</td></tr>\n",
       "\t<tr><td>0   </td><td>21  </td><td>110 </td><td>3   </td><td>1   </td><td>0   </td><td>0   </td><td>1   </td><td>0   </td><td>3203</td></tr>\n",
       "\t<tr><td>0   </td><td>21  </td><td>108 </td><td>1   </td><td>1   </td><td>0   </td><td>0   </td><td>1   </td><td>2   </td><td>2594</td></tr>\n",
       "\t<tr><td>0   </td><td>20  </td><td>120 </td><td>3   </td><td>0   </td><td>0   </td><td>0   </td><td>1   </td><td>0   </td><td>2807</td></tr>\n",
       "\t<tr><td>0   </td><td>23  </td><td>115 </td><td>3   </td><td>1   </td><td>0   </td><td>0   </td><td>0   </td><td>1   </td><td>3331</td></tr>\n",
       "\t<tr><td>1   </td><td>30  </td><td>142 </td><td>1   </td><td>1   </td><td>1   </td><td>0   </td><td>0   </td><td>0   </td><td>2410</td></tr>\n",
       "\t<tr><td>1   </td><td>20  </td><td>125 </td><td>3   </td><td>0   </td><td>0   </td><td>0   </td><td>1   </td><td>0   </td><td>2055</td></tr>\n",
       "\t<tr><td>0   </td><td>19  </td><td> 95 </td><td>3   </td><td>0   </td><td>0   </td><td>0   </td><td>0   </td><td>0   </td><td>2722</td></tr>\n",
       "\t<tr><td>0   </td><td>25  </td><td>120 </td><td>1   </td><td>0   </td><td>0   </td><td>0   </td><td>0   </td><td>2   </td><td>3983</td></tr>\n",
       "\t<tr><td>0   </td><td>19  </td><td>105 </td><td>3   </td><td>0   </td><td>0   </td><td>0   </td><td>0   </td><td>0   </td><td>3572</td></tr>\n",
       "\t<tr><td>1   </td><td>23  </td><td>110 </td><td>1   </td><td>1   </td><td>1   </td><td>0   </td><td>0   </td><td>0   </td><td>2424</td></tr>\n",
       "\t<tr><td>1   </td><td>17  </td><td>110 </td><td>1   </td><td>1   </td><td>0   </td><td>0   </td><td>0   </td><td>0   </td><td>2225</td></tr>\n",
       "\t<tr><td>1   </td><td>29  </td><td>130 </td><td>1   </td><td>0   </td><td>0   </td><td>0   </td><td>1   </td><td>2   </td><td>1021</td></tr>\n",
       "\t<tr><td>1   </td><td>19  </td><td>102 </td><td>1   </td><td>0   </td><td>0   </td><td>0   </td><td>0   </td><td>2   </td><td>2082</td></tr>\n",
       "\t<tr><td>1   </td><td>24  </td><td>105 </td><td>2   </td><td>1   </td><td>0   </td><td>0   </td><td>0   </td><td>0   </td><td>2381</td></tr>\n",
       "\t<tr><td>0   </td><td>24  </td><td>110 </td><td>3   </td><td>0   </td><td>0   </td><td>0   </td><td>0   </td><td>0   </td><td>3232</td></tr>\n",
       "\t<tr><td>1   </td><td>24  </td><td>132 </td><td>3   </td><td>0   </td><td>0   </td><td>1   </td><td>0   </td><td>0   </td><td>1729</td></tr>\n",
       "\t<tr><td>1   </td><td>25  </td><td>115 </td><td>3   </td><td>0   </td><td>0   </td><td>0   </td><td>0   </td><td>0   </td><td>1893</td></tr>\n",
       "\t<tr><td>0   </td><td>14  </td><td>135 </td><td>1   </td><td>0   </td><td>0   </td><td>0   </td><td>0   </td><td>0   </td><td>3941</td></tr>\n",
       "\t<tr><td>1   </td><td>17  </td><td>120 </td><td>1   </td><td>1   </td><td>0   </td><td>0   </td><td>0   </td><td>3   </td><td>2414</td></tr>\n",
       "\t<tr><td>0   </td><td>16  </td><td>135 </td><td>1   </td><td>1   </td><td>0   </td><td>0   </td><td>0   </td><td>0   </td><td>3643</td></tr>\n",
       "\t<tr><td>0   </td><td>18  </td><td>100 </td><td>1   </td><td>1   </td><td>0   </td><td>0   </td><td>0   </td><td>0   </td><td>2769</td></tr>\n",
       "\t<tr><td>0   </td><td>22  </td><td>125 </td><td>1   </td><td>0   </td><td>0   </td><td>0   </td><td>0   </td><td>1   </td><td>3614</td></tr>\n",
       "\t<tr><td>0   </td><td>30  </td><td> 95 </td><td>1   </td><td>1   </td><td>0   </td><td>0   </td><td>0   </td><td>2   </td><td>3147</td></tr>\n",
       "</tbody>\n",
       "</table>\n"
      ],
      "text/latex": [
       "\\begin{tabular}{r|llllllllll}\n",
       " LOW & AGE & LWT & RACE & SMOKE & PTL & HT & UI & FTV & BWT\\\\\n",
       "\\hline\n",
       "\t 0    & 29   & 140  & 1    & 1    & 0    & 0    & 0    & 2    & 2977\\\\\n",
       "\t 0    & 32   & 132  & 1    & 0    & 0    & 0    & 0    & 4    & 3080\\\\\n",
       "\t 0    & 36   & 175  & 1    & 0    & 0    & 0    & 0    & 0    & 3600\\\\\n",
       "\t 1    & 14   & 100  & 3    & 0    & 0    & 0    & 0    & 2    & 2495\\\\\n",
       "\t 0    & 25   & 130  & 1    & 0    & 0    & 0    & 0    & 2    & 4153\\\\\n",
       "\t 0    & 26   & 168  & 2    & 1    & 0    & 0    & 0    & 0    & 2920\\\\\n",
       "\t 0    & 22   & 131  & 1    & 0    & 0    & 0    & 0    & 1    & 3460\\\\\n",
       "\t 1    & 32   & 105  & 1    & 1    & 0    & 0    & 0    & 0    & 1818\\\\\n",
       "\t 0    & 32   & 170  & 1    & 0    & 0    & 0    & 0    & 0    & 3473\\\\\n",
       "\t 0    & 32   & 134  & 1    & 1    & 1    & 0    & 0    & 4    & 3430\\\\\n",
       "\t 1    & 26   & 154  & 3    & 0    & 1    & 1    & 0    & 1    & 2442\\\\\n",
       "\t 1    & 25   & 105  & 3    & 0    & 1    & 1    & 0    & 0    & 1330\\\\\n",
       "\t 1    & 24   & 138  & 1    & 0    & 0    & 0    & 0    & 0    & 2100\\\\\n",
       "\t 1    & 23   &  94  & 3    & 1    & 0    & 0    & 0    & 0    & 2495\\\\\n",
       "\t 0    & 17   & 119  & 3    & 0    & 0    & 0    & 0    & 0    & 3225\\\\\n",
       "\t 0    & 25   & 120  & 3    & 0    & 0    & 0    & 1    & 2    & 2877\\\\\n",
       "\t 0    & 17   & 113  & 2    & 0    & 0    & 0    & 0    & 1    & 2920\\\\\n",
       "\t 1    & 21   & 103  & 3    & 0    & 0    & 0    & 0    & 0    & 1970\\\\\n",
       "\t 1    & 25   &  85  & 3    & 0    & 0    & 0    & 1    & 0    & 1474\\\\\n",
       "\t 0    & 33   & 109  & 1    & 1    & 0    & 0    & 0    & 1    & 3033\\\\\n",
       "\t 0    & 20   & 105  & 1    & 1    & 0    & 0    & 0    & 1    & 2557\\\\\n",
       "\t 0    & 19   & 235  & 1    & 1    & 0    & 1    & 0    & 0    & 3629\\\\\n",
       "\t 0    & 16   & 110  & 3    & 0    & 0    & 0    & 0    & 0    & 3175\\\\\n",
       "\t 1    & 20   & 109  & 3    & 0    & 0    & 0    & 0    & 0    & 2240\\\\\n",
       "\t 0    & 23   & 190  & 1    & 0    & 0    & 0    & 0    & 0    & 3459\\\\\n",
       "\t 0    & 30   & 107  & 3    & 0    & 1    & 0    & 1    & 2    & 2750\\\\\n",
       "\t 0    & 22   & 112  & 1    & 1    & 2    & 0    & 0    & 0    & 3317\\\\\n",
       "\t 1    & 20   & 122  & 2    & 1    & 0    & 0    & 0    & 0    & 2381\\\\\n",
       "\t 0    & 18   & 120  & 1    & 1    & 0    & 0    & 0    & 2    & 3856\\\\\n",
       "\t 0    & 19   & 138  & 1    & 1    & 0    & 0    & 0    & 2    & 2977\\\\\n",
       "\t ⋮ & ⋮ & ⋮ & ⋮ & ⋮ & ⋮ & ⋮ & ⋮ & ⋮ & ⋮\\\\\n",
       "\t 1    & 28   &  95  & 1    & 1    & 0    & 0    & 0    & 2    & 2466\\\\\n",
       "\t 1    & 27   & 130  & 2    & 0    & 0    & 0    & 1    & 0    & 2187\\\\\n",
       "\t 0    & 28   & 250  & 3    & 1    & 0    & 0    & 0    & 6    & 3303\\\\\n",
       "\t 0    & 33   & 155  & 3    & 0    & 0    & 0    & 0    & 3    & 2551\\\\\n",
       "\t 0    & 17   & 113  & 2    & 0    & 0    & 0    & 0    & 1    & 2920\\\\\n",
       "\t 0    & 22   &  95  & 3    & 0    & 0    & 1    & 0    & 0    & 2750\\\\\n",
       "\t 0    & 28   & 140  & 1    & 0    & 0    & 0    & 0    & 0    & 3234\\\\\n",
       "\t 0    & 21   & 110  & 3    & 1    & 0    & 0    & 1    & 0    & 3203\\\\\n",
       "\t 0    & 21   & 108  & 1    & 1    & 0    & 0    & 1    & 2    & 2594\\\\\n",
       "\t 0    & 20   & 120  & 3    & 0    & 0    & 0    & 1    & 0    & 2807\\\\\n",
       "\t 0    & 23   & 115  & 3    & 1    & 0    & 0    & 0    & 1    & 3331\\\\\n",
       "\t 1    & 30   & 142  & 1    & 1    & 1    & 0    & 0    & 0    & 2410\\\\\n",
       "\t 1    & 20   & 125  & 3    & 0    & 0    & 0    & 1    & 0    & 2055\\\\\n",
       "\t 0    & 19   &  95  & 3    & 0    & 0    & 0    & 0    & 0    & 2722\\\\\n",
       "\t 0    & 25   & 120  & 1    & 0    & 0    & 0    & 0    & 2    & 3983\\\\\n",
       "\t 0    & 19   & 105  & 3    & 0    & 0    & 0    & 0    & 0    & 3572\\\\\n",
       "\t 1    & 23   & 110  & 1    & 1    & 1    & 0    & 0    & 0    & 2424\\\\\n",
       "\t 1    & 17   & 110  & 1    & 1    & 0    & 0    & 0    & 0    & 2225\\\\\n",
       "\t 1    & 29   & 130  & 1    & 0    & 0    & 0    & 1    & 2    & 1021\\\\\n",
       "\t 1    & 19   & 102  & 1    & 0    & 0    & 0    & 0    & 2    & 2082\\\\\n",
       "\t 1    & 24   & 105  & 2    & 1    & 0    & 0    & 0    & 0    & 2381\\\\\n",
       "\t 0    & 24   & 110  & 3    & 0    & 0    & 0    & 0    & 0    & 3232\\\\\n",
       "\t 1    & 24   & 132  & 3    & 0    & 0    & 1    & 0    & 0    & 1729\\\\\n",
       "\t 1    & 25   & 115  & 3    & 0    & 0    & 0    & 0    & 0    & 1893\\\\\n",
       "\t 0    & 14   & 135  & 1    & 0    & 0    & 0    & 0    & 0    & 3941\\\\\n",
       "\t 1    & 17   & 120  & 1    & 1    & 0    & 0    & 0    & 3    & 2414\\\\\n",
       "\t 0    & 16   & 135  & 1    & 1    & 0    & 0    & 0    & 0    & 3643\\\\\n",
       "\t 0    & 18   & 100  & 1    & 1    & 0    & 0    & 0    & 0    & 2769\\\\\n",
       "\t 0    & 22   & 125  & 1    & 0    & 0    & 0    & 0    & 1    & 3614\\\\\n",
       "\t 0    & 30   &  95  & 1    & 1    & 0    & 0    & 0    & 2    & 3147\\\\\n",
       "\\end{tabular}\n"
      ],
      "text/markdown": [
       "\n",
       "LOW | AGE | LWT | RACE | SMOKE | PTL | HT | UI | FTV | BWT | \n",
       "|---|---|---|---|---|---|---|---|---|---|---|---|---|---|---|---|---|---|---|---|---|---|---|---|---|---|---|---|---|---|---|---|---|---|---|---|---|---|---|---|---|---|---|---|---|---|---|---|---|---|---|---|---|---|---|---|---|---|---|---|---|\n",
       "| 0    | 29   | 140  | 1    | 1    | 0    | 0    | 0    | 2    | 2977 | \n",
       "| 0    | 32   | 132  | 1    | 0    | 0    | 0    | 0    | 4    | 3080 | \n",
       "| 0    | 36   | 175  | 1    | 0    | 0    | 0    | 0    | 0    | 3600 | \n",
       "| 1    | 14   | 100  | 3    | 0    | 0    | 0    | 0    | 2    | 2495 | \n",
       "| 0    | 25   | 130  | 1    | 0    | 0    | 0    | 0    | 2    | 4153 | \n",
       "| 0    | 26   | 168  | 2    | 1    | 0    | 0    | 0    | 0    | 2920 | \n",
       "| 0    | 22   | 131  | 1    | 0    | 0    | 0    | 0    | 1    | 3460 | \n",
       "| 1    | 32   | 105  | 1    | 1    | 0    | 0    | 0    | 0    | 1818 | \n",
       "| 0    | 32   | 170  | 1    | 0    | 0    | 0    | 0    | 0    | 3473 | \n",
       "| 0    | 32   | 134  | 1    | 1    | 1    | 0    | 0    | 4    | 3430 | \n",
       "| 1    | 26   | 154  | 3    | 0    | 1    | 1    | 0    | 1    | 2442 | \n",
       "| 1    | 25   | 105  | 3    | 0    | 1    | 1    | 0    | 0    | 1330 | \n",
       "| 1    | 24   | 138  | 1    | 0    | 0    | 0    | 0    | 0    | 2100 | \n",
       "| 1    | 23   |  94  | 3    | 1    | 0    | 0    | 0    | 0    | 2495 | \n",
       "| 0    | 17   | 119  | 3    | 0    | 0    | 0    | 0    | 0    | 3225 | \n",
       "| 0    | 25   | 120  | 3    | 0    | 0    | 0    | 1    | 2    | 2877 | \n",
       "| 0    | 17   | 113  | 2    | 0    | 0    | 0    | 0    | 1    | 2920 | \n",
       "| 1    | 21   | 103  | 3    | 0    | 0    | 0    | 0    | 0    | 1970 | \n",
       "| 1    | 25   |  85  | 3    | 0    | 0    | 0    | 1    | 0    | 1474 | \n",
       "| 0    | 33   | 109  | 1    | 1    | 0    | 0    | 0    | 1    | 3033 | \n",
       "| 0    | 20   | 105  | 1    | 1    | 0    | 0    | 0    | 1    | 2557 | \n",
       "| 0    | 19   | 235  | 1    | 1    | 0    | 1    | 0    | 0    | 3629 | \n",
       "| 0    | 16   | 110  | 3    | 0    | 0    | 0    | 0    | 0    | 3175 | \n",
       "| 1    | 20   | 109  | 3    | 0    | 0    | 0    | 0    | 0    | 2240 | \n",
       "| 0    | 23   | 190  | 1    | 0    | 0    | 0    | 0    | 0    | 3459 | \n",
       "| 0    | 30   | 107  | 3    | 0    | 1    | 0    | 1    | 2    | 2750 | \n",
       "| 0    | 22   | 112  | 1    | 1    | 2    | 0    | 0    | 0    | 3317 | \n",
       "| 1    | 20   | 122  | 2    | 1    | 0    | 0    | 0    | 0    | 2381 | \n",
       "| 0    | 18   | 120  | 1    | 1    | 0    | 0    | 0    | 2    | 3856 | \n",
       "| 0    | 19   | 138  | 1    | 1    | 0    | 0    | 0    | 2    | 2977 | \n",
       "| ⋮ | ⋮ | ⋮ | ⋮ | ⋮ | ⋮ | ⋮ | ⋮ | ⋮ | ⋮ | \n",
       "| 1    | 28   |  95  | 1    | 1    | 0    | 0    | 0    | 2    | 2466 | \n",
       "| 1    | 27   | 130  | 2    | 0    | 0    | 0    | 1    | 0    | 2187 | \n",
       "| 0    | 28   | 250  | 3    | 1    | 0    | 0    | 0    | 6    | 3303 | \n",
       "| 0    | 33   | 155  | 3    | 0    | 0    | 0    | 0    | 3    | 2551 | \n",
       "| 0    | 17   | 113  | 2    | 0    | 0    | 0    | 0    | 1    | 2920 | \n",
       "| 0    | 22   |  95  | 3    | 0    | 0    | 1    | 0    | 0    | 2750 | \n",
       "| 0    | 28   | 140  | 1    | 0    | 0    | 0    | 0    | 0    | 3234 | \n",
       "| 0    | 21   | 110  | 3    | 1    | 0    | 0    | 1    | 0    | 3203 | \n",
       "| 0    | 21   | 108  | 1    | 1    | 0    | 0    | 1    | 2    | 2594 | \n",
       "| 0    | 20   | 120  | 3    | 0    | 0    | 0    | 1    | 0    | 2807 | \n",
       "| 0    | 23   | 115  | 3    | 1    | 0    | 0    | 0    | 1    | 3331 | \n",
       "| 1    | 30   | 142  | 1    | 1    | 1    | 0    | 0    | 0    | 2410 | \n",
       "| 1    | 20   | 125  | 3    | 0    | 0    | 0    | 1    | 0    | 2055 | \n",
       "| 0    | 19   |  95  | 3    | 0    | 0    | 0    | 0    | 0    | 2722 | \n",
       "| 0    | 25   | 120  | 1    | 0    | 0    | 0    | 0    | 2    | 3983 | \n",
       "| 0    | 19   | 105  | 3    | 0    | 0    | 0    | 0    | 0    | 3572 | \n",
       "| 1    | 23   | 110  | 1    | 1    | 1    | 0    | 0    | 0    | 2424 | \n",
       "| 1    | 17   | 110  | 1    | 1    | 0    | 0    | 0    | 0    | 2225 | \n",
       "| 1    | 29   | 130  | 1    | 0    | 0    | 0    | 1    | 2    | 1021 | \n",
       "| 1    | 19   | 102  | 1    | 0    | 0    | 0    | 0    | 2    | 2082 | \n",
       "| 1    | 24   | 105  | 2    | 1    | 0    | 0    | 0    | 0    | 2381 | \n",
       "| 0    | 24   | 110  | 3    | 0    | 0    | 0    | 0    | 0    | 3232 | \n",
       "| 1    | 24   | 132  | 3    | 0    | 0    | 1    | 0    | 0    | 1729 | \n",
       "| 1    | 25   | 115  | 3    | 0    | 0    | 0    | 0    | 0    | 1893 | \n",
       "| 0    | 14   | 135  | 1    | 0    | 0    | 0    | 0    | 0    | 3941 | \n",
       "| 1    | 17   | 120  | 1    | 1    | 0    | 0    | 0    | 3    | 2414 | \n",
       "| 0    | 16   | 135  | 1    | 1    | 0    | 0    | 0    | 0    | 3643 | \n",
       "| 0    | 18   | 100  | 1    | 1    | 0    | 0    | 0    | 0    | 2769 | \n",
       "| 0    | 22   | 125  | 1    | 0    | 0    | 0    | 0    | 1    | 3614 | \n",
       "| 0    | 30   |  95  | 1    | 1    | 0    | 0    | 0    | 2    | 3147 | \n",
       "\n",
       "\n"
      ],
      "text/plain": [
       "    LOW AGE LWT RACE SMOKE PTL HT UI FTV BWT \n",
       "1   0   29  140 1    1     0   0  0  2   2977\n",
       "2   0   32  132 1    0     0   0  0  4   3080\n",
       "3   0   36  175 1    0     0   0  0  0   3600\n",
       "4   1   14  100 3    0     0   0  0  2   2495\n",
       "5   0   25  130 1    0     0   0  0  2   4153\n",
       "6   0   26  168 2    1     0   0  0  0   2920\n",
       "7   0   22  131 1    0     0   0  0  1   3460\n",
       "8   1   32  105 1    1     0   0  0  0   1818\n",
       "9   0   32  170 1    0     0   0  0  0   3473\n",
       "10  0   32  134 1    1     1   0  0  4   3430\n",
       "11  1   26  154 3    0     1   1  0  1   2442\n",
       "12  1   25  105 3    0     1   1  0  0   1330\n",
       "13  1   24  138 1    0     0   0  0  0   2100\n",
       "14  1   23   94 3    1     0   0  0  0   2495\n",
       "15  0   17  119 3    0     0   0  0  0   3225\n",
       "16  0   25  120 3    0     0   0  1  2   2877\n",
       "17  0   17  113 2    0     0   0  0  1   2920\n",
       "18  1   21  103 3    0     0   0  0  0   1970\n",
       "19  1   25   85 3    0     0   0  1  0   1474\n",
       "20  0   33  109 1    1     0   0  0  1   3033\n",
       "21  0   20  105 1    1     0   0  0  1   2557\n",
       "22  0   19  235 1    1     0   1  0  0   3629\n",
       "23  0   16  110 3    0     0   0  0  0   3175\n",
       "24  1   20  109 3    0     0   0  0  0   2240\n",
       "25  0   23  190 1    0     0   0  0  0   3459\n",
       "26  0   30  107 3    0     1   0  1  2   2750\n",
       "27  0   22  112 1    1     2   0  0  0   3317\n",
       "28  1   20  122 2    1     0   0  0  0   2381\n",
       "29  0   18  120 1    1     0   0  0  2   3856\n",
       "30  0   19  138 1    1     0   0  0  2   2977\n",
       "⋮   ⋮   ⋮   ⋮   ⋮    ⋮     ⋮   ⋮  ⋮  ⋮   ⋮   \n",
       "160 1   28   95 1    1     0   0  0  2   2466\n",
       "161 1   27  130 2    0     0   0  1  0   2187\n",
       "162 0   28  250 3    1     0   0  0  6   3303\n",
       "163 0   33  155 3    0     0   0  0  3   2551\n",
       "164 0   17  113 2    0     0   0  0  1   2920\n",
       "165 0   22   95 3    0     0   1  0  0   2750\n",
       "166 0   28  140 1    0     0   0  0  0   3234\n",
       "167 0   21  110 3    1     0   0  1  0   3203\n",
       "168 0   21  108 1    1     0   0  1  2   2594\n",
       "169 0   20  120 3    0     0   0  1  0   2807\n",
       "170 0   23  115 3    1     0   0  0  1   3331\n",
       "171 1   30  142 1    1     1   0  0  0   2410\n",
       "172 1   20  125 3    0     0   0  1  0   2055\n",
       "173 0   19   95 3    0     0   0  0  0   2722\n",
       "174 0   25  120 1    0     0   0  0  2   3983\n",
       "175 0   19  105 3    0     0   0  0  0   3572\n",
       "176 1   23  110 1    1     1   0  0  0   2424\n",
       "177 1   17  110 1    1     0   0  0  0   2225\n",
       "178 1   29  130 1    0     0   0  1  2   1021\n",
       "179 1   19  102 1    0     0   0  0  2   2082\n",
       "180 1   24  105 2    1     0   0  0  0   2381\n",
       "181 0   24  110 3    0     0   0  0  0   3232\n",
       "182 1   24  132 3    0     0   1  0  0   1729\n",
       "183 1   25  115 3    0     0   0  0  0   1893\n",
       "184 0   14  135 1    0     0   0  0  0   3941\n",
       "185 1   17  120 1    1     0   0  0  3   2414\n",
       "186 0   16  135 1    1     0   0  0  0   3643\n",
       "187 0   18  100 1    1     0   0  0  0   2769\n",
       "188 0   22  125 1    0     0   0  0  1   3614\n",
       "189 0   30   95 1    1     0   0  0  2   3147"
      ]
     },
     "metadata": {},
     "output_type": "display_data"
    },
    {
     "data": {
      "text/html": [
       "8"
      ],
      "text/latex": [
       "8"
      ],
      "text/markdown": [
       "8"
      ],
      "text/plain": [
       "[1] 8"
      ]
     },
     "metadata": {},
     "output_type": "display_data"
    }
   ],
   "source": [
    "#data\n",
    "data[1:10]\n",
    "sum(data[1:10,]$LOW == '0')"
   ]
  },
  {
   "cell_type": "code",
   "execution_count": 13,
   "metadata": {},
   "outputs": [
    {
     "data": {
      "text/html": [
       "32"
      ],
      "text/latex": [
       "32"
      ],
      "text/markdown": [
       "32"
      ],
      "text/plain": [
       "[1] 32"
      ]
     },
     "metadata": {},
     "output_type": "display_data"
    }
   ],
   "source": [
    "data[which(data[0:10,]$BWT == min(data[0:10,]$BWT)),]$AGE"
   ]
  },
  {
   "cell_type": "code",
   "execution_count": 12,
   "metadata": {},
   "outputs": [
    {
     "data": {
      "text/html": [
       "<table>\n",
       "<thead><tr><th scope=col>LOW</th><th scope=col>AGE</th><th scope=col>LWT</th><th scope=col>RACE</th><th scope=col>SMOKE</th><th scope=col>PTL</th><th scope=col>HT</th><th scope=col>UI</th><th scope=col>FTV</th><th scope=col>BWT</th></tr></thead>\n",
       "<tbody>\n",
       "\t<tr><td>0   </td><td>29  </td><td>140 </td><td>1   </td><td>1   </td><td>0   </td><td>0   </td><td>0   </td><td>2   </td><td>2977</td></tr>\n",
       "\t<tr><td>0   </td><td>32  </td><td>132 </td><td>1   </td><td>0   </td><td>0   </td><td>0   </td><td>0   </td><td>4   </td><td>3080</td></tr>\n",
       "\t<tr><td>0   </td><td>36  </td><td>175 </td><td>1   </td><td>0   </td><td>0   </td><td>0   </td><td>0   </td><td>0   </td><td>3600</td></tr>\n",
       "\t<tr><td>1   </td><td>14  </td><td>100 </td><td>3   </td><td>0   </td><td>0   </td><td>0   </td><td>0   </td><td>2   </td><td>2495</td></tr>\n",
       "\t<tr><td>0   </td><td>25  </td><td>130 </td><td>1   </td><td>0   </td><td>0   </td><td>0   </td><td>0   </td><td>2   </td><td>4153</td></tr>\n",
       "\t<tr><td>0   </td><td>26  </td><td>168 </td><td>2   </td><td>1   </td><td>0   </td><td>0   </td><td>0   </td><td>0   </td><td>2920</td></tr>\n",
       "\t<tr><td>0   </td><td>22  </td><td>131 </td><td>1   </td><td>0   </td><td>0   </td><td>0   </td><td>0   </td><td>1   </td><td>3460</td></tr>\n",
       "\t<tr><td>1   </td><td>32  </td><td>105 </td><td>1   </td><td>1   </td><td>0   </td><td>0   </td><td>0   </td><td>0   </td><td>1818</td></tr>\n",
       "\t<tr><td>0   </td><td>32  </td><td>170 </td><td>1   </td><td>0   </td><td>0   </td><td>0   </td><td>0   </td><td>0   </td><td>3473</td></tr>\n",
       "\t<tr><td>0   </td><td>32  </td><td>134 </td><td>1   </td><td>1   </td><td>1   </td><td>0   </td><td>0   </td><td>4   </td><td>3430</td></tr>\n",
       "</tbody>\n",
       "</table>\n"
      ],
      "text/latex": [
       "\\begin{tabular}{r|llllllllll}\n",
       " LOW & AGE & LWT & RACE & SMOKE & PTL & HT & UI & FTV & BWT\\\\\n",
       "\\hline\n",
       "\t 0    & 29   & 140  & 1    & 1    & 0    & 0    & 0    & 2    & 2977\\\\\n",
       "\t 0    & 32   & 132  & 1    & 0    & 0    & 0    & 0    & 4    & 3080\\\\\n",
       "\t 0    & 36   & 175  & 1    & 0    & 0    & 0    & 0    & 0    & 3600\\\\\n",
       "\t 1    & 14   & 100  & 3    & 0    & 0    & 0    & 0    & 2    & 2495\\\\\n",
       "\t 0    & 25   & 130  & 1    & 0    & 0    & 0    & 0    & 2    & 4153\\\\\n",
       "\t 0    & 26   & 168  & 2    & 1    & 0    & 0    & 0    & 0    & 2920\\\\\n",
       "\t 0    & 22   & 131  & 1    & 0    & 0    & 0    & 0    & 1    & 3460\\\\\n",
       "\t 1    & 32   & 105  & 1    & 1    & 0    & 0    & 0    & 0    & 1818\\\\\n",
       "\t 0    & 32   & 170  & 1    & 0    & 0    & 0    & 0    & 0    & 3473\\\\\n",
       "\t 0    & 32   & 134  & 1    & 1    & 1    & 0    & 0    & 4    & 3430\\\\\n",
       "\\end{tabular}\n"
      ],
      "text/markdown": [
       "\n",
       "LOW | AGE | LWT | RACE | SMOKE | PTL | HT | UI | FTV | BWT | \n",
       "|---|---|---|---|---|---|---|---|---|---|\n",
       "| 0    | 29   | 140  | 1    | 1    | 0    | 0    | 0    | 2    | 2977 | \n",
       "| 0    | 32   | 132  | 1    | 0    | 0    | 0    | 0    | 4    | 3080 | \n",
       "| 0    | 36   | 175  | 1    | 0    | 0    | 0    | 0    | 0    | 3600 | \n",
       "| 1    | 14   | 100  | 3    | 0    | 0    | 0    | 0    | 2    | 2495 | \n",
       "| 0    | 25   | 130  | 1    | 0    | 0    | 0    | 0    | 2    | 4153 | \n",
       "| 0    | 26   | 168  | 2    | 1    | 0    | 0    | 0    | 0    | 2920 | \n",
       "| 0    | 22   | 131  | 1    | 0    | 0    | 0    | 0    | 1    | 3460 | \n",
       "| 1    | 32   | 105  | 1    | 1    | 0    | 0    | 0    | 0    | 1818 | \n",
       "| 0    | 32   | 170  | 1    | 0    | 0    | 0    | 0    | 0    | 3473 | \n",
       "| 0    | 32   | 134  | 1    | 1    | 1    | 0    | 0    | 4    | 3430 | \n",
       "\n",
       "\n"
      ],
      "text/plain": [
       "   LOW AGE LWT RACE SMOKE PTL HT UI FTV BWT \n",
       "1  0   29  140 1    1     0   0  0  2   2977\n",
       "2  0   32  132 1    0     0   0  0  4   3080\n",
       "3  0   36  175 1    0     0   0  0  0   3600\n",
       "4  1   14  100 3    0     0   0  0  2   2495\n",
       "5  0   25  130 1    0     0   0  0  2   4153\n",
       "6  0   26  168 2    1     0   0  0  0   2920\n",
       "7  0   22  131 1    0     0   0  0  1   3460\n",
       "8  1   32  105 1    1     0   0  0  0   1818\n",
       "9  0   32  170 1    0     0   0  0  0   3473\n",
       "10 0   32  134 1    1     1   0  0  4   3430"
      ]
     },
     "metadata": {},
     "output_type": "display_data"
    }
   ],
   "source": [
    "data[0:10,]"
   ]
  },
  {
   "cell_type": "code",
   "execution_count": 20,
   "metadata": {},
   "outputs": [
    {
     "data": {
      "text/html": [
       "6"
      ],
      "text/latex": [
       "6"
      ],
      "text/markdown": [
       "6"
      ],
      "text/plain": [
       "[1] 6"
      ]
     },
     "metadata": {},
     "output_type": "display_data"
    }
   ],
   "source": [
    "sum(data[data$FTV == 0,][0:10,]$LOW)"
   ]
  },
  {
   "cell_type": "code",
   "execution_count": 21,
   "metadata": {
    "collapsed": true
   },
   "outputs": [],
   "source": [
    "tbl = table(data.frame(data$SMOKE,data$LOW))"
   ]
  },
  {
   "cell_type": "code",
   "execution_count": 22,
   "metadata": {},
   "outputs": [
    {
     "data": {
      "text/plain": [
       "          data.LOW\n",
       "data.SMOKE  0  1\n",
       "         0 86 29\n",
       "         1 44 30"
      ]
     },
     "metadata": {},
     "output_type": "display_data"
    }
   ],
   "source": [
    "tbl"
   ]
  },
  {
   "cell_type": "code",
   "execution_count": 23,
   "metadata": {},
   "outputs": [
    {
     "data": {
      "text/plain": [
       "          data.LOW\n",
       "data.SMOKE        0        1\n",
       "         0 74.78261 25.21739\n",
       "         1 59.45946 40.54054"
      ]
     },
     "metadata": {},
     "output_type": "display_data"
    }
   ],
   "source": [
    "100*tbl/rowSums(tbl)"
   ]
  },
  {
   "cell_type": "code",
   "execution_count": 24,
   "metadata": {},
   "outputs": [
    {
     "data": {
      "text/plain": [
       "\n",
       "\tPearson's Chi-squared test\n",
       "\n",
       "data:  tbl\n",
       "X-squared = 4.9237, df = 1, p-value = 0.02649\n"
      ]
     },
     "metadata": {},
     "output_type": "display_data"
    }
   ],
   "source": [
    "chisq.test(tbl, correct=FALSE)"
   ]
  },
  {
   "cell_type": "code",
   "execution_count": 27,
   "metadata": {},
   "outputs": [
    {
     "data": {
      "text/plain": [
       "         data.LOW\n",
       "data.RACE  0  1\n",
       "        1 73 23\n",
       "        2 15 11\n",
       "        3 42 25"
      ]
     },
     "metadata": {},
     "output_type": "display_data"
    },
    {
     "data": {
      "text/plain": [
       "\n",
       "\tPearson's Chi-squared test\n",
       "\n",
       "data:  tbl\n",
       "X-squared = 5.0048, df = 2, p-value = 0.08189\n"
      ]
     },
     "metadata": {},
     "output_type": "display_data"
    },
    {
     "data": {
      "text/plain": [
       "         data.LOW\n",
       "data.RACE         0         1\n",
       "        1 0.7604167 0.2395833\n",
       "        2 0.5769231 0.4230769\n",
       "        3 0.6268657 0.3731343"
      ]
     },
     "metadata": {},
     "output_type": "display_data"
    }
   ],
   "source": [
    "tbl = table(data.frame(data$RACE,data$LOW)); tbl; chisq.test(tbl, correct=FALSE); tbl/rowSums(tbl)"
   ]
  },
  {
   "cell_type": "code",
   "execution_count": 32,
   "metadata": {},
   "outputs": [
    {
     "data": {
      "image/png": "[encoded data removed]",
      "text/plain": [
       "plot without title"
      ]
     },
     "metadata": {},
     "output_type": "display_data"
    }
   ],
   "source": [
    "plot(factor(data$LOW),data$AGE)"
   ]
  },
  {
   "cell_type": "code",
   "execution_count": 33,
   "metadata": {
    "collapsed": true
   },
   "outputs": [],
   "source": [
    "help(tapply)"
   ]
  },
  {
   "cell_type": "code",
   "execution_count": 35,
   "metadata": {},
   "outputs": [
    {
     "data": {
      "text/plain": [
       "$`0`\n",
       "   Min. 1st Qu.  Median    Mean 3rd Qu.    Max. \n",
       "  14.00   19.00   23.00   23.66   28.00   45.00 \n",
       "\n",
       "$`1`\n",
       "   Min. 1st Qu.  Median    Mean 3rd Qu.    Max. \n",
       "  14.00   19.50   22.00   22.31   25.00   34.00 \n"
      ]
     },
     "metadata": {},
     "output_type": "display_data"
    }
   ],
   "source": [
    "tapply(data$AGE,factor(data$LOW), summary)"
   ]
  },
  {
   "cell_type": "markdown",
   "metadata": {},
   "source": [
    "Normal weight\n",
    "   Min. 1st Qu.  Median    Mean 3rd Qu.    Max. \n",
    "  14.00   19.00   23.00   23.66   28.00   45.00 \n",
    "\n",
    "Low weight\n",
    "   Min. 1st Qu.  Median    Mean 3rd Qu.    Max. \n",
    "  14.00   19.50   22.00   22.31   25.00   34.00 \n",
    "\n",
    "We see that both distributions are normally distributed with two outliers each. Normal weight ages are between 19 and 28, while low weight ages are between 19.5 and 25. The two usual age regions (between Q3 and Q1) intersect."
   ]
  },
  {
   "cell_type": "markdown",
   "metadata": {},
   "source": [
    "Normal weight\n",
    "   Min. 1st Qu.  Median    Mean 3rd Qu.    Max. \n",
    "  14.00   19.00   23.00   23.66   28.00   45.00 \n",
    "\n",
    "Low weight\n",
    "   Min. 1st Qu.  Median    Mean 3rd Qu.    Max. \n",
    "  14.00   19.50   22.00   22.31   25.00   34.00 \n",
    "\n",
    "We see that both distributions are normally distributed with two outliers each. Normal weight ages are between 19 and 28, while low weight ages are between 19.5 and 25. The two usual age regions (between Q3 and Q1) intersect."
   ]
  },
  {
   "cell_type": "code",
   "execution_count": 39,
   "metadata": {},
   "outputs": [
    {
     "data": {
      "text/plain": [
       "\n",
       "\tWelch Two Sample t-test\n",
       "\n",
       "data:  data$AGE by data$LOW\n",
       "t = 1.7737, df = 136.94, p-value = 0.07834\n",
       "alternative hypothesis: true difference in means is not equal to 0\n",
       "95 percent confidence interval:\n",
       " -0.1558349  2.8687423\n",
       "sample estimates:\n",
       "mean in group 0 mean in group 1 \n",
       "       23.66154        22.30508 \n"
      ]
     },
     "metadata": {},
     "output_type": "display_data"
    }
   ],
   "source": [
    "t.test(data$AGE~data$LOW) # if divided up by the second one, else comma delimit both groups"
   ]
  },
  {
   "cell_type": "code",
   "execution_count": 38,
   "metadata": {},
   "outputs": [
    {
     "data": {
      "text/plain": [
       "data$AGE ~ data$LOW"
      ]
     },
     "metadata": {},
     "output_type": "display_data"
    }
   ],
   "source": [
    "data$AGE~data$LOW "
   ]
  },
  {
   "cell_type": "code",
   "execution_count": null,
   "metadata": {
    "collapsed": true
   },
   "outputs": [],
   "source": []
  }
 ],
 "metadata": {
  "kernelspec": {
   "display_name": "R",
   "language": "R",
   "name": "ir"
  },
  "language_info": {
   "codemirror_mode": "r",
   "file_extension": ".r",
   "mimetype": "text/x-r-source",
   "name": "R",
   "pygments_lexer": "r",
   "version": "3.4.0"
  }
 },
 "nbformat": 4,
 "nbformat_minor": 2
}
