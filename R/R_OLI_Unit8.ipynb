{
 "cells": [
  {
   "cell_type": "code",
   "execution_count": 44,
   "metadata": {
    "collapsed": true
   },
   "outputs": [],
   "source": [
    "load('cell_phones.RData')"
   ]
  },
  {
   "cell_type": "code",
   "execution_count": 2,
   "metadata": {},
   "outputs": [
    {
     "data": {
      "text/html": [
       "'data'"
      ],
      "text/latex": [
       "'data'"
      ],
      "text/markdown": [
       "'data'"
      ],
      "text/plain": [
       "[1] \"data\""
      ]
     },
     "metadata": {},
     "output_type": "display_data"
    }
   ],
   "source": [
    "ls()"
   ]
  },
  {
   "cell_type": "code",
   "execution_count": 3,
   "metadata": {},
   "outputs": [
    {
     "name": "stdout",
     "output_type": "stream",
     "text": [
      "    Math Verbal Credits Year Exer Sleep Veg. Cell\n",
      "1    640    470      15    1   60   7.0   no  yes\n",
      "2    660    650      14    1   20   7.5   no  yes\n",
      "3    550    580      15    2    0   9.0   no   no\n",
      "4    560    660      16    1   30   7.0   no  yes\n",
      "5    600    790      15    4   45   6.5 some   no\n",
      "6    560    640      16    2   75   4.5  yes   no\n",
      "7    550    660      14    1   30   7.0   no  yes\n",
      "8    600    560      13    1    0   7.0  yes  yes\n",
      "9    540    560      16    1   30   7.0   no   no\n",
      "10   540    540      14    1   30   8.0   no  yes\n",
      "11   600    620      16    1   30   8.0 some  yes\n",
      "12   670    640      17    1   20   8.5   no   no\n",
      "13   680    550      15    1    0   6.5   no  yes\n",
      "14   400    400      18    2   20   7.5   no  yes\n",
      "15   450    430      13    3    0   8.0   no  yes\n",
      "16   660    630      16    3   15   8.0 some  yes\n",
      "17   620    630      16    1    0   6.5   no   no\n",
      "18   720    720      17    3   45   6.5   no   no\n",
      "19    NA     NA      16    4   45   9.0   no   no\n",
      "20   660    660      16    1   20   7.5   no  yes\n",
      "21   680    520      15    1   90   8.0   no  yes\n",
      "22   520    640      17    1   20   7.5       yes\n",
      "23   580    580      16    1  120   8.0   no  yes\n",
      "24   710    730      18    1   45   8.0        no\n",
      "25   550    550      17    2   60   8.0   no  yes\n",
      "26   560    600      16    1    0  15.0   no   no\n",
      "27   560    530      15    1    0   6.0   no  yes\n",
      "28   690    650      18    1  150   6.5   no   no\n",
      "29   740    800      16    3    0   6.0   no   no\n",
      "30   710    730      17    1   90   7.0 some   no\n",
      "31   700    730      14    2   60   6.0   no  yes\n",
      "32   650    610      16    2    0   8.5   no   no\n",
      "33   580    530      16    1    0   6.0   no  yes\n",
      "34   500    550      15    1   45   7.0   no  yes\n",
      "35   680    590      15    1    0   6.5   no  yes\n",
      "36   500    650      12    3    0   7.0   no   no\n",
      "37    NA     NA      18    2   60   7.0   no  yes\n",
      "38   660    690      17    1    0   5.0   no  yes\n",
      "39   650    600      17    1   45   7.0   no  yes\n",
      "40    NA     NA      15    1    0   7.0   no  yes\n",
      "41    NA     NA      16    3    0   4.5 some  yes\n",
      "42   490    510      17    1   10   6.5   no  yes\n",
      "43   460    530      NA    3    0   5.5   no  yes\n",
      "44   680    700      15    1    0   8.0   no  yes\n",
      "45   590    550      16    1  120   6.5   no  yes\n",
      "46   680    660      14    1   60   7.5   no  yes\n",
      "47    NA     NA      17    3   30   4.0   no   no\n",
      "48   590    600      15    1    0   6.0   no  yes\n",
      "49   560    680      16    2    0   7.0   no   no\n",
      "50   540    560      16    1    0   7.0   no  yes\n",
      "51   530    530      13    1   30   8.0   no  yes\n",
      "52   670    550      16    1   50   9.0   no  yes\n",
      "53   540    600      14    2    0   9.0   no  yes\n",
      "54   650    630      16    2   90   4.0   no   no\n",
      "55   550    540      16    1    0   7.0   no  yes\n",
      "56   580    580      17    1   60   6.0   no  yes\n",
      "57   520    710      16    1    0   6.0   no  yes\n",
      "58   610    750      16    1   45   9.0   no   no\n",
      "59   590    600      15    3   30   6.5   no  yes\n",
      "60   740    650      NA   NA   NA   8.0  yes   no\n",
      "61   680    680      16    1    0   8.0   no  yes\n",
      "62    NA     NA      16    2   20   8.0   no   no\n",
      "63   620    580      15    2   60  11.5   no  yes\n",
      "64   480    480      16    3  120   7.0   no  yes\n",
      "65   690    600      20    3    0   7.0   no   no\n",
      "66   610    600      14    2   75   9.0   no  yes\n",
      "67   550    510      17   NA   60   6.0   no  yes\n",
      "68   580    610      18    4   60   7.0   no  yes\n",
      "69   550    650      12   NA   30   6.0   no  yes\n",
      "70   450    520      16    2   35   7.0   no  yes\n",
      "71   670    540      17    2    0   7.5   no  yes\n",
      "72   640    650      17    2   60   8.0   no  yes\n",
      "73   780    610      19    1    0   8.5   no  yes\n",
      "74   610    540      16    1    0   8.0   no   no\n",
      "75   610    680      15    3   30   6.5   no  yes\n",
      "76   600    580      16    2  120   9.0   no  yes\n",
      "77   640    640      12   NA    0   7.0   no  yes\n",
      "78   680    400      13    2  120   8.0   no  yes\n",
      "79    NA     NA      17    2    0   8.0   no  yes\n",
      "80   620    670      16    4   30   8.0   no  yes\n",
      "81   670    640      13    1    0   8.5   no  yes\n",
      "82   630    720      17    2  120   6.0   no  yes\n",
      "83    NA     NA      16    4   30   6.5   no  yes\n",
      "84   700    770      16    2   10   6.5   no   no\n",
      "85   590    520      16    1    0   7.5   no  yes\n",
      "86   620    630      17    1   40   5.5   no  yes\n",
      "87   550    480      16    1   15   8.0   no  yes\n",
      "88    NA     NA      16    3    0   7.5   no  yes\n",
      "89   680    660      16    2    0   8.0   no  yes\n",
      "90   590    700      16    1   30   9.0   no  yes\n",
      "91   620    490      17    3   30   7.5   no  yes\n",
      "92   650    670      17    2    0   7.0 some   no\n",
      "93   720    660      17    2  120   7.0  yes   no\n",
      "94   760    550      18    2  180   8.0   no  yes\n",
      "95   650    650      12    2   30   7.5   no   no\n",
      "96   570    620      15    2    0   8.0   no  yes\n",
      "97   520    610      16    1    0   8.5   no   no\n",
      "98   710    450      16    4   30   9.0   no  yes\n",
      "99   650    530      16    1    0   7.5   no  yes\n",
      "100  680    580      14    3   60   7.0   no  yes\n",
      "101  720    630      15    1    0   7.0   no  yes\n",
      "102  680    620      16    1    0   9.5   no  yes\n",
      "103  590    600      14    2  300   5.5   no  yes\n",
      "104  500    500      16    2   30   7.5   no   no\n",
      "105  640    620      14    3   90   5.5   no  yes\n",
      "106  690    710      18    1   60   8.5   no  yes\n",
      "107  590    580      15    2    0   8.0   no  yes\n",
      "108  580    580      16    1    0   6.0   no  yes\n",
      "109  650    590      16    1    0   9.0   no   no\n",
      "110  540    560      14    2    0   7.0   no  yes\n",
      "111  590    460      16    1    0   5.0   no   no\n",
      "112   NA     NA      15    1    0   8.0   no  yes\n",
      "113  600    560      15    1    0   8.5 some  yes\n",
      "114  500    590      15    1   30   6.0  yes   no\n",
      "115  600    600      16    2    0   8.5  yes  yes\n",
      "116  730    560      19   NA    0   8.0   no  yes\n",
      "117  550    540       7   NA   15   9.0  yes   no\n",
      "118  770    710      16    4   30   8.0   no  yes\n",
      "119  670    500      13    1    0   9.5   no  yes\n",
      "120  620    640      17    2    0   8.5 some  yes\n",
      "121  600    530      13    2   60   9.0   no   no\n",
      "122  700    480      16    1   20   9.0   no  yes\n",
      "123  650    540      14    2  120   5.5   no  yes\n",
      "124  580    540      17    1    0  12.0   no  yes\n",
      "125  660    740      17    2    0   8.0   no  yes\n",
      "126  680    650      14    3    0   8.0   no  yes\n",
      "127   NA     NA      18    2   45   7.0   no  yes\n",
      "128  540    550      16    3   15   8.5   no  yes\n",
      "129  570    540      17    1   90   5.0   no   no\n",
      "130  600    490      14    1    0   7.0   no   no\n",
      "131  550    580      14    2   90   8.0   no  yes\n",
      "132  650    650      16    3    5   7.0 some  yes\n",
      "133  620    540      18    1   45   9.0   no  yes\n",
      "134  540    520      12    4   75   8.5   no  yes\n",
      "135  550    560      17    2   60   6.0   no  yes\n",
      "136   NA     NA      10    2    0   9.0   no  yes\n",
      "137  680    670      18    2   30   8.0   no  yes\n",
      "138  560    550      13    3    0   7.0   no  yes\n",
      "139  500    600      15    1    1   6.0   no  yes\n",
      "140  620    520      16    2   60   8.0   no  yes\n",
      "141  590    590      16    2    0   8.5   no  yes\n",
      "142  670    670      15    1   75   8.0   no  yes\n",
      "143  630    570      16    1   60   6.0   no  yes\n",
      "144  550    550      17    2   15   8.0   no  yes\n",
      "145  530    700      16    2    0   7.0   no  yes\n",
      "146  670    700      17    1    0   6.0   no  yes\n",
      "147  650    670      16    2   50   9.5   no  yes\n",
      "148  680    720      16    1    0   8.0   no  yes\n",
      "149  670    630      13    2    0   9.5   no  yes\n",
      "150  750    760      12    3  120   7.5   no  yes\n",
      "151  650    490      17    2  150   6.0   no  yes\n",
      "152  590    580      17    4   40   5.0   no   no\n",
      "153   NA     NA      13   NA   40   7.0   no  yes\n",
      "154  600    580      11    3    0   7.0   no  yes\n",
      "155  750    700      15    1   20   8.0   no   no\n",
      "156  480    530      12    3    0   7.0   no  yes\n",
      "157  760    670      15    1   90   8.0   no  yes\n",
      "158  640    720      18    1   80   7.5   no   no\n",
      "159  680    590      18    1    0   8.0  yes   no\n",
      "160  570    570      17    1   90   4.5  yes  yes\n",
      "161  700    700      15    1  120   7.0   no  yes\n",
      "162  700    750      17    2   30   7.0   no   no\n",
      "163  650    650      16    2   15   6.0   no  yes\n",
      "164  720    610      18   NA   NA   7.5 some   no\n",
      "165  780    680      15    2   60   5.5   no  yes\n",
      "166  520    580      16    1    0   9.0   no  yes\n",
      "167  720    640      14    2    0   5.5   no  yes\n",
      "168  720    610      18    2   20   7.5 some   no\n",
      "169  580    720      16    1   20   8.0 some  yes\n",
      "170  500    600      16    1   30   7.0   no  yes\n",
      "171  650    550      15    1   60   7.5   no  yes\n",
      "172  640    670      15    2   40   7.0 some  yes\n",
      "173  660    560      14    2    0   8.0   no  yes\n",
      "174  660    520      16    2   30   8.5   no  yes\n",
      "175  670    570      16    1   30   8.5   no  yes\n",
      "176  560    560      15    2   50   7.0 some  yes\n",
      "177  700    530      15    3   90   7.0   no  yes\n",
      "178  690    600      16    1    0   6.5   no  yes\n",
      "179  580    560      17    1    0   8.5   no  yes\n",
      "180  780    560      18    2   90   6.0   no  yes\n",
      "181  720    670      14    1   10   7.5   no  yes\n",
      "182  580    500      17    3   15   7.5   no  yes\n",
      "183  570    640      13   NA   30   8.0   no  yes\n",
      "184  710    550      17    2   35   7.0   no  yes\n",
      "185  540    730      19    1    0   8.0   no  yes\n",
      "186  680    660      15    3   90   8.0   no  yes\n",
      "187  630    660      15    2    0   7.0   no  yes\n",
      "188  700    720      16    4    0   4.5   no  yes\n",
      "189  700    520      15    1    0   8.0   no  yes\n",
      "190  550    490      17    2   30  11.0   no  yes\n",
      "191  710    600      16    1   30   7.0   no  yes\n",
      "192  520    760      16    3   30   7.0 some   no\n",
      "193  630    660      16    1    0   4.5   no  yes\n",
      "194  590    570      16    1   70   7.0   no  yes\n",
      "195  480    500      12    3   30   9.0   no  yes\n",
      "196  600    700      15    2   50   8.0   no  yes\n",
      "197  520    590      15    1   60   7.0   no  yes\n",
      "198  530    580      14    3   25   6.0 some   no\n",
      "199  490    490      16    1    0   7.5   no  yes\n",
      "200  630    590      13    4   60   5.0   no   no\n",
      "201  650    550      17    1   60   8.0   no  yes\n",
      "202  660    540      16    1  120   8.0   no   no\n",
      "203  540    600      16    1   20   6.5   no  yes\n",
      "204  600    580      14    2    0   6.0   no  yes\n",
      "205  660    750      17    1    0   3.0   no  yes\n",
      "206  640    540      13    1   75   7.5   no  yes\n",
      "207  650    600      14    1   60   8.0   no   no\n",
      "208  590    560      17    1    0   7.0   no   no\n",
      "209  770    640      17    1   45   7.5   no  yes\n",
      "210  650    600      17    1    0   5.0   no  yes\n",
      "211   NA     NA       4   NA    0   7.5   no  yes\n",
      "212  520    600      16    2    0   4.5   no  yes\n",
      "213  470    520      16    3   30   7.0   no  yes\n",
      "214  620    640      16    1   30   8.5   no  yes\n",
      "215  520    640      17    2    0   7.0   no   no\n",
      "216  700    800      16    1   60   5.0   no   no\n",
      "217  540    570      16    1   30   7.0   no  yes\n",
      "218  400    600      17    4   60   6.0   no  yes\n",
      "219  700    650      16    2    0   6.5   no  yes\n",
      "220  670    720      17   NA    0   4.5 some   no\n",
      "221  560    540      16    2   45   5.5   no  yes\n",
      "222  650    630      16    1   15   7.0   no  yes\n",
      "223  680    680      17    1   35   6.5 some  yes\n",
      "224  670    610      16    1   20   5.0   no <NA>\n",
      "225  790    690      18    1   75   7.0   no  yes\n",
      "226   NA     NA      13    4   25   6.5   no  yes\n",
      "227  650    700      16    1   55   8.0   no   no\n",
      "228  550    620      14    1   30   8.0   no  yes\n",
      "229  730    580      16    1    0   8.0   no  yes\n",
      "230  650    520      15    1   50   5.0   no  yes\n",
      "231  680    550      13    2   30   6.0   no  yes\n",
      "232  540    550      15    1   45   8.0   no  yes\n",
      "233  760    680      17    1  150   7.0   no  yes\n",
      "234   NA     NA      18    1    0   8.0   no  yes\n",
      "235   NA     NA      16    2   30   7.0   no   no\n",
      "236  490    490      16    1    0   6.0   no   no\n",
      "237  720    740      16   NA   20   7.0   no  yes\n",
      "238  710    630      17    1    0   8.0   no  yes\n",
      "239  710    550      16    2    0   5.0 some   no\n",
      "240  670    600      15    1    0   3.0   no  yes\n",
      "241  670    590      16    2    0   5.5   no  yes\n",
      "242  540    610      16    2   25   7.5  yes  yes\n",
      "243  550    400      15    2   30   6.5   no  yes\n",
      "244  740    750      14    2    0   7.0   no  yes\n",
      "245  580    610      15    1    0   6.5   no   no\n",
      "246   NA     NA      16    4    0   4.0   no  yes\n",
      "247  600    540      16    2   30   8.0   no  yes\n",
      "248  530    600      17    3  135   8.5   no  yes\n",
      "249  600    400      14   NA   15   5.0   no  yes\n",
      "250  610    590      15    1   60   8.5   no   no\n",
      "251  710    635      17    4    0   5.5   no  yes\n",
      "252  550    550      15    1   45   4.0   no  yes\n",
      "253  590    610      14    1    0   8.0   no   no\n",
      "254  620    490      15    1  150   6.5   no  yes\n",
      "255   NA     NA      17    1   20   8.0 some  yes\n",
      "256  650    610      15    2  125   8.0   no <NA>\n",
      "257  570    690      16    1    0   9.0   no  yes\n",
      "258  620    540      15    1   60   5.0   no  yes\n",
      "259  610    550      17    1    0   8.5   no  yes\n",
      "260  540    460      17    3    0   6.5 some  yes\n",
      "261  610    580      14    1   15   7.0 some  yes\n",
      "262  580    600      12    3   40   8.5 some   no\n",
      "263  680    600      14    2   45   6.0   no  yes\n",
      "264  750    430      17    1  180   8.0   no   no\n",
      "265  570    600      16    3   30   6.0   no   no\n",
      "266  660    570      17    1   30   7.0   no  yes\n",
      "267  540    670      18    2    0   8.0   no   no\n",
      "268  550    540      15    1  180   9.0   no   no\n",
      "269  630    560      17    3  110   7.5   no  yes\n",
      "270  600    550      16    1   20   8.0  yes  yes\n",
      "271   NA     NA      17    1    0   6.0 some  yes\n",
      "272  540    660      17    1  120   6.0   no  yes\n",
      "273   NA     NA      13    4    0   8.0   no  yes\n",
      "274  480    590      15    2    0   7.0   no  yes\n",
      "275  620    530      16    4    0   7.0   no  yes\n",
      "276  570    500      16    4    0   6.0   no  yes\n",
      "277  560    620      14    1   60   6.0 some  yes\n",
      "278  570    560      16    1    0   4.0   no  yes\n",
      "279  350    600      12   NA   95   8.0   no  yes\n",
      "280  570    570      16    2    0   7.5   no  yes\n",
      "281  550    600      16    3   30  10.0   no  yes\n",
      "282   NA    550      15    4   60   7.5   no  yes\n",
      "283  650    650      13    2   30   5.0   no  yes\n",
      "284  500    670      18    3  210   8.0   no  yes\n",
      "285  600    570      15    2    0   7.5   no  yes\n",
      "286  480    510      19    3  120   7.0   no  yes\n",
      "287  600    600      14    2   45   6.0   no   no\n",
      "288  660    510      14    1   70   8.5   no  yes\n",
      "289  480    490      18    2   15   7.0   no  yes\n",
      "290  705    555      13    3    0   8.0   no  yes\n",
      "291  510    500      16    1   60   8.0 some  yes\n",
      "292  710    670      14    2   15   7.0   no  yes\n",
      "293  560    600      16    2   60   5.0   no  yes\n",
      "294  540    540      13    4  180   8.0   no  yes\n",
      "295   NA     NA      14    1  120   7.0   no  yes\n",
      "296  690    580      16    3   30   8.5  yes  yes\n",
      "297  300    400      16    2    0   8.0   no  yes\n",
      "298  460    580      17    4   48   5.0 some  yes\n",
      "299  640    560      17    1   30  10.0 some   no\n",
      "300  650    540      16    2    0   7.0   no  yes\n",
      "301  740    520      15    3   20   9.0   no   no\n",
      "302  590    620      18    2   45   5.5   no  yes\n",
      "303   NA     NA      19    2    0   5.5   no  yes\n",
      "304  580    800      17    2   80   5.5  yes  yes\n",
      "305  540    510      16    2    0   4.5  yes  yes\n",
      "306  580    520      14    2   45   5.5   no  yes\n",
      "307  702    480      14    3   30   7.5   no  yes\n",
      "308  570    500      16    2    0   9.0   no  yes\n",
      "309   NA     NA      12    4   40   7.0   no  yes\n",
      "310   NA     NA      13    1   50   6.0   no  yes\n",
      "311  550    560      16    3    0  10.0  yes  yes\n",
      "312   NA     NA       9    4   60   7.0   no  yes\n"
     ]
    }
   ],
   "source": [
    "print(data)"
   ]
  },
  {
   "cell_type": "code",
   "execution_count": 8,
   "metadata": {},
   "outputs": [
    {
     "data": {
      "text/html": [
       "7"
      ],
      "text/latex": [
       "7"
      ],
      "text/markdown": [
       "7"
      ],
      "text/plain": [
       "[1] 7"
      ]
     },
     "metadata": {},
     "output_type": "display_data"
    }
   ],
   "source": [
    "sum(data$Math[1:11] < data$Verbal[1:11])"
   ]
  },
  {
   "cell_type": "code",
   "execution_count": 20,
   "metadata": {},
   "outputs": [
    {
     "data": {
      "text/html": [
       "1"
      ],
      "text/latex": [
       "1"
      ],
      "text/markdown": [
       "1"
      ],
      "text/plain": [
       "[1] 1"
      ]
     },
     "metadata": {},
     "output_type": "display_data"
    },
    {
     "data": {
      "text/html": [
       "<ol class=list-inline>\n",
       "\t<li>no</li>\n",
       "\t<li>no</li>\n",
       "\t<li>no</li>\n",
       "\t<li>no</li>\n",
       "\t<li>some</li>\n",
       "\t<li>yes</li>\n",
       "\t<li>no</li>\n",
       "\t<li>yes</li>\n",
       "\t<li>no</li>\n",
       "\t<li>no</li>\n",
       "</ol>\n"
      ],
      "text/latex": [
       "\\begin{enumerate*}\n",
       "\\item no\n",
       "\\item no\n",
       "\\item no\n",
       "\\item no\n",
       "\\item some\n",
       "\\item yes\n",
       "\\item no\n",
       "\\item yes\n",
       "\\item no\n",
       "\\item no\n",
       "\\end{enumerate*}\n"
      ],
      "text/markdown": [
       "1. no\n",
       "2. no\n",
       "3. no\n",
       "4. no\n",
       "5. some\n",
       "6. yes\n",
       "7. no\n",
       "8. yes\n",
       "9. no\n",
       "10. no\n",
       "\n",
       "\n"
      ],
      "text/plain": [
       " [1] no   no   no   no   some yes  no   yes  no   no  \n",
       "Levels:  no some yes"
      ]
     },
     "metadata": {},
     "output_type": "display_data"
    },
    {
     "data": {
      "text/html": [
       "<table>\n",
       "<thead><tr><th></th><th scope=col>Math</th><th scope=col>Verbal</th><th scope=col>Credits</th><th scope=col>Year</th><th scope=col>Exer</th><th scope=col>Sleep</th><th scope=col>Veg.</th><th scope=col>Cell</th></tr></thead>\n",
       "<tbody>\n",
       "\t<tr><th scope=row>1</th><td>640 </td><td>470 </td><td>15  </td><td>1   </td><td> 60 </td><td> 7.0</td><td>no  </td><td>yes </td></tr>\n",
       "\t<tr><th scope=row>2</th><td>660 </td><td>650 </td><td>14  </td><td>1   </td><td> 20 </td><td> 7.5</td><td>no  </td><td>yes </td></tr>\n",
       "\t<tr><th scope=row>3</th><td>550 </td><td>580 </td><td>15  </td><td>2   </td><td>  0 </td><td> 9.0</td><td>no  </td><td>no  </td></tr>\n",
       "\t<tr><th scope=row>4</th><td>560 </td><td>660 </td><td>16  </td><td>1   </td><td> 30 </td><td> 7.0</td><td>no  </td><td>yes </td></tr>\n",
       "\t<tr><th scope=row>5</th><td>600 </td><td>790 </td><td>15  </td><td>4   </td><td> 45 </td><td> 6.5</td><td>some</td><td>no  </td></tr>\n",
       "\t<tr><th scope=row>6</th><td>560 </td><td>640 </td><td>16  </td><td>2   </td><td> 75 </td><td> 4.5</td><td>yes </td><td>no  </td></tr>\n",
       "\t<tr><th scope=row>7</th><td>550 </td><td>660 </td><td>14  </td><td>1   </td><td> 30 </td><td> 7.0</td><td>no  </td><td>yes </td></tr>\n",
       "\t<tr><th scope=row>8</th><td>600 </td><td>560 </td><td>13  </td><td>1   </td><td>  0 </td><td> 7.0</td><td>yes </td><td>yes </td></tr>\n",
       "\t<tr><th scope=row>9</th><td>540 </td><td>560 </td><td>16  </td><td>1   </td><td> 30 </td><td> 7.0</td><td>no  </td><td>no  </td></tr>\n",
       "\t<tr><th scope=row>10</th><td>540 </td><td>540 </td><td>14  </td><td>1   </td><td> 30 </td><td> 8.0</td><td>no  </td><td>yes </td></tr>\n",
       "\t<tr><th scope=row>11</th><td>600 </td><td>620 </td><td>16  </td><td>1   </td><td> 30 </td><td> 8.0</td><td>some</td><td>yes </td></tr>\n",
       "\t<tr><th scope=row>12</th><td>670 </td><td>640 </td><td>17  </td><td>1   </td><td> 20 </td><td> 8.5</td><td>no  </td><td>no  </td></tr>\n",
       "\t<tr><th scope=row>13</th><td>680 </td><td>550 </td><td>15  </td><td>1   </td><td>  0 </td><td> 6.5</td><td>no  </td><td>yes </td></tr>\n",
       "\t<tr><th scope=row>14</th><td>400 </td><td>400 </td><td>18  </td><td>2   </td><td> 20 </td><td> 7.5</td><td>no  </td><td>yes </td></tr>\n",
       "\t<tr><th scope=row>15</th><td>450 </td><td>430 </td><td>13  </td><td>3   </td><td>  0 </td><td> 8.0</td><td>no  </td><td>yes </td></tr>\n",
       "\t<tr><th scope=row>16</th><td>660 </td><td>630 </td><td>16  </td><td>3   </td><td> 15 </td><td> 8.0</td><td>some</td><td>yes </td></tr>\n",
       "\t<tr><th scope=row>17</th><td>620 </td><td>630 </td><td>16  </td><td>1   </td><td>  0 </td><td> 6.5</td><td>no  </td><td>no  </td></tr>\n",
       "\t<tr><th scope=row>18</th><td>720 </td><td>720 </td><td>17  </td><td>3   </td><td> 45 </td><td> 6.5</td><td>no  </td><td>no  </td></tr>\n",
       "\t<tr><th scope=row>19</th><td> NA </td><td> NA </td><td>16  </td><td>4   </td><td> 45 </td><td> 9.0</td><td>no  </td><td>no  </td></tr>\n",
       "\t<tr><th scope=row>20</th><td>660 </td><td>660 </td><td>16  </td><td>1   </td><td> 20 </td><td> 7.5</td><td>no  </td><td>yes </td></tr>\n",
       "\t<tr><th scope=row>21</th><td>680 </td><td>520 </td><td>15  </td><td>1   </td><td> 90 </td><td> 8.0</td><td>no  </td><td>yes </td></tr>\n",
       "\t<tr><th scope=row>22</th><td>520 </td><td>640 </td><td>17  </td><td>1   </td><td> 20 </td><td> 7.5</td><td>    </td><td>yes </td></tr>\n",
       "\t<tr><th scope=row>23</th><td>580 </td><td>580 </td><td>16  </td><td>1   </td><td>120 </td><td> 8.0</td><td>no  </td><td>yes </td></tr>\n",
       "\t<tr><th scope=row>24</th><td>710 </td><td>730 </td><td>18  </td><td>1   </td><td> 45 </td><td> 8.0</td><td>    </td><td>no  </td></tr>\n",
       "\t<tr><th scope=row>25</th><td>550 </td><td>550 </td><td>17  </td><td>2   </td><td> 60 </td><td> 8.0</td><td>no  </td><td>yes </td></tr>\n",
       "\t<tr><th scope=row>26</th><td>560 </td><td>600 </td><td>16  </td><td>1   </td><td>  0 </td><td>15.0</td><td>no  </td><td>no  </td></tr>\n",
       "\t<tr><th scope=row>27</th><td>560 </td><td>530 </td><td>15  </td><td>1   </td><td>  0 </td><td> 6.0</td><td>no  </td><td>yes </td></tr>\n",
       "\t<tr><th scope=row>28</th><td>690 </td><td>650 </td><td>18  </td><td>1   </td><td>150 </td><td> 6.5</td><td>no  </td><td>no  </td></tr>\n",
       "\t<tr><th scope=row>29</th><td>740 </td><td>800 </td><td>16  </td><td>3   </td><td>  0 </td><td> 6.0</td><td>no  </td><td>no  </td></tr>\n",
       "\t<tr><th scope=row>30</th><td>710 </td><td>730 </td><td>17  </td><td>1   </td><td> 90 </td><td> 7.0</td><td>some</td><td>no  </td></tr>\n",
       "\t<tr><th scope=row>⋮</th><td>⋮</td><td>⋮</td><td>⋮</td><td>⋮</td><td>⋮</td><td>⋮</td><td>⋮</td><td>⋮</td></tr>\n",
       "\t<tr><th scope=row>283</th><td>650 </td><td>650 </td><td>13  </td><td>2   </td><td> 30 </td><td> 5.0</td><td>no  </td><td>yes </td></tr>\n",
       "\t<tr><th scope=row>284</th><td>500 </td><td>670 </td><td>18  </td><td>3   </td><td>210 </td><td> 8.0</td><td>no  </td><td>yes </td></tr>\n",
       "\t<tr><th scope=row>285</th><td>600 </td><td>570 </td><td>15  </td><td>2   </td><td>  0 </td><td> 7.5</td><td>no  </td><td>yes </td></tr>\n",
       "\t<tr><th scope=row>286</th><td>480 </td><td>510 </td><td>19  </td><td>3   </td><td>120 </td><td> 7.0</td><td>no  </td><td>yes </td></tr>\n",
       "\t<tr><th scope=row>287</th><td>600 </td><td>600 </td><td>14  </td><td>2   </td><td> 45 </td><td> 6.0</td><td>no  </td><td>no  </td></tr>\n",
       "\t<tr><th scope=row>288</th><td>660 </td><td>510 </td><td>14  </td><td>1   </td><td> 70 </td><td> 8.5</td><td>no  </td><td>yes </td></tr>\n",
       "\t<tr><th scope=row>289</th><td>480 </td><td>490 </td><td>18  </td><td>2   </td><td> 15 </td><td> 7.0</td><td>no  </td><td>yes </td></tr>\n",
       "\t<tr><th scope=row>290</th><td>705 </td><td>555 </td><td>13  </td><td>3   </td><td>  0 </td><td> 8.0</td><td>no  </td><td>yes </td></tr>\n",
       "\t<tr><th scope=row>291</th><td>510 </td><td>500 </td><td>16  </td><td>1   </td><td> 60 </td><td> 8.0</td><td>some</td><td>yes </td></tr>\n",
       "\t<tr><th scope=row>292</th><td>710 </td><td>670 </td><td>14  </td><td>2   </td><td> 15 </td><td> 7.0</td><td>no  </td><td>yes </td></tr>\n",
       "\t<tr><th scope=row>293</th><td>560 </td><td>600 </td><td>16  </td><td>2   </td><td> 60 </td><td> 5.0</td><td>no  </td><td>yes </td></tr>\n",
       "\t<tr><th scope=row>294</th><td>540 </td><td>540 </td><td>13  </td><td>4   </td><td>180 </td><td> 8.0</td><td>no  </td><td>yes </td></tr>\n",
       "\t<tr><th scope=row>295</th><td> NA </td><td> NA </td><td>14  </td><td>1   </td><td>120 </td><td> 7.0</td><td>no  </td><td>yes </td></tr>\n",
       "\t<tr><th scope=row>296</th><td>690 </td><td>580 </td><td>16  </td><td>3   </td><td> 30 </td><td> 8.5</td><td>yes </td><td>yes </td></tr>\n",
       "\t<tr><th scope=row>297</th><td>300 </td><td>400 </td><td>16  </td><td>2   </td><td>  0 </td><td> 8.0</td><td>no  </td><td>yes </td></tr>\n",
       "\t<tr><th scope=row>298</th><td>460 </td><td>580 </td><td>17  </td><td>4   </td><td> 48 </td><td> 5.0</td><td>some</td><td>yes </td></tr>\n",
       "\t<tr><th scope=row>299</th><td>640 </td><td>560 </td><td>17  </td><td>1   </td><td> 30 </td><td>10.0</td><td>some</td><td>no  </td></tr>\n",
       "\t<tr><th scope=row>300</th><td>650 </td><td>540 </td><td>16  </td><td>2   </td><td>  0 </td><td> 7.0</td><td>no  </td><td>yes </td></tr>\n",
       "\t<tr><th scope=row>301</th><td>740 </td><td>520 </td><td>15  </td><td>3   </td><td> 20 </td><td> 9.0</td><td>no  </td><td>no  </td></tr>\n",
       "\t<tr><th scope=row>302</th><td>590 </td><td>620 </td><td>18  </td><td>2   </td><td> 45 </td><td> 5.5</td><td>no  </td><td>yes </td></tr>\n",
       "\t<tr><th scope=row>303</th><td> NA </td><td> NA </td><td>19  </td><td>2   </td><td>  0 </td><td> 5.5</td><td>no  </td><td>yes </td></tr>\n",
       "\t<tr><th scope=row>304</th><td>580 </td><td>800 </td><td>17  </td><td>2   </td><td> 80 </td><td> 5.5</td><td>yes </td><td>yes </td></tr>\n",
       "\t<tr><th scope=row>305</th><td>540 </td><td>510 </td><td>16  </td><td>2   </td><td>  0 </td><td> 4.5</td><td>yes </td><td>yes </td></tr>\n",
       "\t<tr><th scope=row>306</th><td>580 </td><td>520 </td><td>14  </td><td>2   </td><td> 45 </td><td> 5.5</td><td>no  </td><td>yes </td></tr>\n",
       "\t<tr><th scope=row>307</th><td>702 </td><td>480 </td><td>14  </td><td>3   </td><td> 30 </td><td> 7.5</td><td>no  </td><td>yes </td></tr>\n",
       "\t<tr><th scope=row>308</th><td>570 </td><td>500 </td><td>16  </td><td>2   </td><td>  0 </td><td> 9.0</td><td>no  </td><td>yes </td></tr>\n",
       "\t<tr><th scope=row>309</th><td> NA </td><td> NA </td><td>12  </td><td>4   </td><td> 40 </td><td> 7.0</td><td>no  </td><td>yes </td></tr>\n",
       "\t<tr><th scope=row>310</th><td> NA </td><td> NA </td><td>13  </td><td>1   </td><td> 50 </td><td> 6.0</td><td>no  </td><td>yes </td></tr>\n",
       "\t<tr><th scope=row>311</th><td>550 </td><td>560 </td><td>16  </td><td>3   </td><td>  0 </td><td>10.0</td><td>yes </td><td>yes </td></tr>\n",
       "\t<tr><th scope=row>312</th><td> NA </td><td> NA </td><td> 9  </td><td>4   </td><td> 60 </td><td> 7.0</td><td>no  </td><td>yes </td></tr>\n",
       "</tbody>\n",
       "</table>\n"
      ],
      "text/latex": [
       "\\begin{tabular}{r|llllllll}\n",
       "  & Math & Verbal & Credits & Year & Exer & Sleep & Veg. & Cell\\\\\n",
       "\\hline\n",
       "\t1 & 640  & 470  & 15   & 1    &  60  &  7.0 & no   & yes \\\\\n",
       "\t2 & 660  & 650  & 14   & 1    &  20  &  7.5 & no   & yes \\\\\n",
       "\t3 & 550  & 580  & 15   & 2    &   0  &  9.0 & no   & no  \\\\\n",
       "\t4 & 560  & 660  & 16   & 1    &  30  &  7.0 & no   & yes \\\\\n",
       "\t5 & 600  & 790  & 15   & 4    &  45  &  6.5 & some & no  \\\\\n",
       "\t6 & 560  & 640  & 16   & 2    &  75  &  4.5 & yes  & no  \\\\\n",
       "\t7 & 550  & 660  & 14   & 1    &  30  &  7.0 & no   & yes \\\\\n",
       "\t8 & 600  & 560  & 13   & 1    &   0  &  7.0 & yes  & yes \\\\\n",
       "\t9 & 540  & 560  & 16   & 1    &  30  &  7.0 & no   & no  \\\\\n",
       "\t10 & 540  & 540  & 14   & 1    &  30  &  8.0 & no   & yes \\\\\n",
       "\t11 & 600  & 620  & 16   & 1    &  30  &  8.0 & some & yes \\\\\n",
       "\t12 & 670  & 640  & 17   & 1    &  20  &  8.5 & no   & no  \\\\\n",
       "\t13 & 680  & 550  & 15   & 1    &   0  &  6.5 & no   & yes \\\\\n",
       "\t14 & 400  & 400  & 18   & 2    &  20  &  7.5 & no   & yes \\\\\n",
       "\t15 & 450  & 430  & 13   & 3    &   0  &  8.0 & no   & yes \\\\\n",
       "\t16 & 660  & 630  & 16   & 3    &  15  &  8.0 & some & yes \\\\\n",
       "\t17 & 620  & 630  & 16   & 1    &   0  &  6.5 & no   & no  \\\\\n",
       "\t18 & 720  & 720  & 17   & 3    &  45  &  6.5 & no   & no  \\\\\n",
       "\t19 &  NA  &  NA  & 16   & 4    &  45  &  9.0 & no   & no  \\\\\n",
       "\t20 & 660  & 660  & 16   & 1    &  20  &  7.5 & no   & yes \\\\\n",
       "\t21 & 680  & 520  & 15   & 1    &  90  &  8.0 & no   & yes \\\\\n",
       "\t22 & 520  & 640  & 17   & 1    &  20  &  7.5 &      & yes \\\\\n",
       "\t23 & 580  & 580  & 16   & 1    & 120  &  8.0 & no   & yes \\\\\n",
       "\t24 & 710  & 730  & 18   & 1    &  45  &  8.0 &      & no  \\\\\n",
       "\t25 & 550  & 550  & 17   & 2    &  60  &  8.0 & no   & yes \\\\\n",
       "\t26 & 560  & 600  & 16   & 1    &   0  & 15.0 & no   & no  \\\\\n",
       "\t27 & 560  & 530  & 15   & 1    &   0  &  6.0 & no   & yes \\\\\n",
       "\t28 & 690  & 650  & 18   & 1    & 150  &  6.5 & no   & no  \\\\\n",
       "\t29 & 740  & 800  & 16   & 3    &   0  &  6.0 & no   & no  \\\\\n",
       "\t30 & 710  & 730  & 17   & 1    &  90  &  7.0 & some & no  \\\\\n",
       "\t⋮ & ⋮ & ⋮ & ⋮ & ⋮ & ⋮ & ⋮ & ⋮ & ⋮\\\\\n",
       "\t283 & 650  & 650  & 13   & 2    &  30  &  5.0 & no   & yes \\\\\n",
       "\t284 & 500  & 670  & 18   & 3    & 210  &  8.0 & no   & yes \\\\\n",
       "\t285 & 600  & 570  & 15   & 2    &   0  &  7.5 & no   & yes \\\\\n",
       "\t286 & 480  & 510  & 19   & 3    & 120  &  7.0 & no   & yes \\\\\n",
       "\t287 & 600  & 600  & 14   & 2    &  45  &  6.0 & no   & no  \\\\\n",
       "\t288 & 660  & 510  & 14   & 1    &  70  &  8.5 & no   & yes \\\\\n",
       "\t289 & 480  & 490  & 18   & 2    &  15  &  7.0 & no   & yes \\\\\n",
       "\t290 & 705  & 555  & 13   & 3    &   0  &  8.0 & no   & yes \\\\\n",
       "\t291 & 510  & 500  & 16   & 1    &  60  &  8.0 & some & yes \\\\\n",
       "\t292 & 710  & 670  & 14   & 2    &  15  &  7.0 & no   & yes \\\\\n",
       "\t293 & 560  & 600  & 16   & 2    &  60  &  5.0 & no   & yes \\\\\n",
       "\t294 & 540  & 540  & 13   & 4    & 180  &  8.0 & no   & yes \\\\\n",
       "\t295 &  NA  &  NA  & 14   & 1    & 120  &  7.0 & no   & yes \\\\\n",
       "\t296 & 690  & 580  & 16   & 3    &  30  &  8.5 & yes  & yes \\\\\n",
       "\t297 & 300  & 400  & 16   & 2    &   0  &  8.0 & no   & yes \\\\\n",
       "\t298 & 460  & 580  & 17   & 4    &  48  &  5.0 & some & yes \\\\\n",
       "\t299 & 640  & 560  & 17   & 1    &  30  & 10.0 & some & no  \\\\\n",
       "\t300 & 650  & 540  & 16   & 2    &   0  &  7.0 & no   & yes \\\\\n",
       "\t301 & 740  & 520  & 15   & 3    &  20  &  9.0 & no   & no  \\\\\n",
       "\t302 & 590  & 620  & 18   & 2    &  45  &  5.5 & no   & yes \\\\\n",
       "\t303 &  NA  &  NA  & 19   & 2    &   0  &  5.5 & no   & yes \\\\\n",
       "\t304 & 580  & 800  & 17   & 2    &  80  &  5.5 & yes  & yes \\\\\n",
       "\t305 & 540  & 510  & 16   & 2    &   0  &  4.5 & yes  & yes \\\\\n",
       "\t306 & 580  & 520  & 14   & 2    &  45  &  5.5 & no   & yes \\\\\n",
       "\t307 & 702  & 480  & 14   & 3    &  30  &  7.5 & no   & yes \\\\\n",
       "\t308 & 570  & 500  & 16   & 2    &   0  &  9.0 & no   & yes \\\\\n",
       "\t309 &  NA  &  NA  & 12   & 4    &  40  &  7.0 & no   & yes \\\\\n",
       "\t310 &  NA  &  NA  & 13   & 1    &  50  &  6.0 & no   & yes \\\\\n",
       "\t311 & 550  & 560  & 16   & 3    &   0  & 10.0 & yes  & yes \\\\\n",
       "\t312 &  NA  &  NA  &  9   & 4    &  60  &  7.0 & no   & yes \\\\\n",
       "\\end{tabular}\n"
      ],
      "text/markdown": [
       "\n",
       "| <!--/--> | Math | Verbal | Credits | Year | Exer | Sleep | Veg. | Cell | \n",
       "|---|---|---|---|---|---|---|---|---|---|---|---|---|---|---|---|---|---|---|---|---|---|---|---|---|---|---|---|---|---|---|---|---|---|---|---|---|---|---|---|---|---|---|---|---|---|---|---|---|---|---|---|---|---|---|---|---|---|---|---|---|\n",
       "| 1 | 640  | 470  | 15   | 1    |  60  |  7.0 | no   | yes  | \n",
       "| 2 | 660  | 650  | 14   | 1    |  20  |  7.5 | no   | yes  | \n",
       "| 3 | 550  | 580  | 15   | 2    |   0  |  9.0 | no   | no   | \n",
       "| 4 | 560  | 660  | 16   | 1    |  30  |  7.0 | no   | yes  | \n",
       "| 5 | 600  | 790  | 15   | 4    |  45  |  6.5 | some | no   | \n",
       "| 6 | 560  | 640  | 16   | 2    |  75  |  4.5 | yes  | no   | \n",
       "| 7 | 550  | 660  | 14   | 1    |  30  |  7.0 | no   | yes  | \n",
       "| 8 | 600  | 560  | 13   | 1    |   0  |  7.0 | yes  | yes  | \n",
       "| 9 | 540  | 560  | 16   | 1    |  30  |  7.0 | no   | no   | \n",
       "| 10 | 540  | 540  | 14   | 1    |  30  |  8.0 | no   | yes  | \n",
       "| 11 | 600  | 620  | 16   | 1    |  30  |  8.0 | some | yes  | \n",
       "| 12 | 670  | 640  | 17   | 1    |  20  |  8.5 | no   | no   | \n",
       "| 13 | 680  | 550  | 15   | 1    |   0  |  6.5 | no   | yes  | \n",
       "| 14 | 400  | 400  | 18   | 2    |  20  |  7.5 | no   | yes  | \n",
       "| 15 | 450  | 430  | 13   | 3    |   0  |  8.0 | no   | yes  | \n",
       "| 16 | 660  | 630  | 16   | 3    |  15  |  8.0 | some | yes  | \n",
       "| 17 | 620  | 630  | 16   | 1    |   0  |  6.5 | no   | no   | \n",
       "| 18 | 720  | 720  | 17   | 3    |  45  |  6.5 | no   | no   | \n",
       "| 19 |  NA  |  NA  | 16   | 4    |  45  |  9.0 | no   | no   | \n",
       "| 20 | 660  | 660  | 16   | 1    |  20  |  7.5 | no   | yes  | \n",
       "| 21 | 680  | 520  | 15   | 1    |  90  |  8.0 | no   | yes  | \n",
       "| 22 | 520  | 640  | 17   | 1    |  20  |  7.5 |      | yes  | \n",
       "| 23 | 580  | 580  | 16   | 1    | 120  |  8.0 | no   | yes  | \n",
       "| 24 | 710  | 730  | 18   | 1    |  45  |  8.0 |      | no   | \n",
       "| 25 | 550  | 550  | 17   | 2    |  60  |  8.0 | no   | yes  | \n",
       "| 26 | 560  | 600  | 16   | 1    |   0  | 15.0 | no   | no   | \n",
       "| 27 | 560  | 530  | 15   | 1    |   0  |  6.0 | no   | yes  | \n",
       "| 28 | 690  | 650  | 18   | 1    | 150  |  6.5 | no   | no   | \n",
       "| 29 | 740  | 800  | 16   | 3    |   0  |  6.0 | no   | no   | \n",
       "| 30 | 710  | 730  | 17   | 1    |  90  |  7.0 | some | no   | \n",
       "| ⋮ | ⋮ | ⋮ | ⋮ | ⋮ | ⋮ | ⋮ | ⋮ | ⋮ | \n",
       "| 283 | 650  | 650  | 13   | 2    |  30  |  5.0 | no   | yes  | \n",
       "| 284 | 500  | 670  | 18   | 3    | 210  |  8.0 | no   | yes  | \n",
       "| 285 | 600  | 570  | 15   | 2    |   0  |  7.5 | no   | yes  | \n",
       "| 286 | 480  | 510  | 19   | 3    | 120  |  7.0 | no   | yes  | \n",
       "| 287 | 600  | 600  | 14   | 2    |  45  |  6.0 | no   | no   | \n",
       "| 288 | 660  | 510  | 14   | 1    |  70  |  8.5 | no   | yes  | \n",
       "| 289 | 480  | 490  | 18   | 2    |  15  |  7.0 | no   | yes  | \n",
       "| 290 | 705  | 555  | 13   | 3    |   0  |  8.0 | no   | yes  | \n",
       "| 291 | 510  | 500  | 16   | 1    |  60  |  8.0 | some | yes  | \n",
       "| 292 | 710  | 670  | 14   | 2    |  15  |  7.0 | no   | yes  | \n",
       "| 293 | 560  | 600  | 16   | 2    |  60  |  5.0 | no   | yes  | \n",
       "| 294 | 540  | 540  | 13   | 4    | 180  |  8.0 | no   | yes  | \n",
       "| 295 |  NA  |  NA  | 14   | 1    | 120  |  7.0 | no   | yes  | \n",
       "| 296 | 690  | 580  | 16   | 3    |  30  |  8.5 | yes  | yes  | \n",
       "| 297 | 300  | 400  | 16   | 2    |   0  |  8.0 | no   | yes  | \n",
       "| 298 | 460  | 580  | 17   | 4    |  48  |  5.0 | some | yes  | \n",
       "| 299 | 640  | 560  | 17   | 1    |  30  | 10.0 | some | no   | \n",
       "| 300 | 650  | 540  | 16   | 2    |   0  |  7.0 | no   | yes  | \n",
       "| 301 | 740  | 520  | 15   | 3    |  20  |  9.0 | no   | no   | \n",
       "| 302 | 590  | 620  | 18   | 2    |  45  |  5.5 | no   | yes  | \n",
       "| 303 |  NA  |  NA  | 19   | 2    |   0  |  5.5 | no   | yes  | \n",
       "| 304 | 580  | 800  | 17   | 2    |  80  |  5.5 | yes  | yes  | \n",
       "| 305 | 540  | 510  | 16   | 2    |   0  |  4.5 | yes  | yes  | \n",
       "| 306 | 580  | 520  | 14   | 2    |  45  |  5.5 | no   | yes  | \n",
       "| 307 | 702  | 480  | 14   | 3    |  30  |  7.5 | no   | yes  | \n",
       "| 308 | 570  | 500  | 16   | 2    |   0  |  9.0 | no   | yes  | \n",
       "| 309 |  NA  |  NA  | 12   | 4    |  40  |  7.0 | no   | yes  | \n",
       "| 310 |  NA  |  NA  | 13   | 1    |  50  |  6.0 | no   | yes  | \n",
       "| 311 | 550  | 560  | 16   | 3    |   0  | 10.0 | yes  | yes  | \n",
       "| 312 |  NA  |  NA  |  9   | 4    |  60  |  7.0 | no   | yes  | \n",
       "\n",
       "\n"
      ],
      "text/plain": [
       "    Math Verbal Credits Year Exer Sleep Veg. Cell\n",
       "1   640  470    15      1     60   7.0  no   yes \n",
       "2   660  650    14      1     20   7.5  no   yes \n",
       "3   550  580    15      2      0   9.0  no   no  \n",
       "4   560  660    16      1     30   7.0  no   yes \n",
       "5   600  790    15      4     45   6.5  some no  \n",
       "6   560  640    16      2     75   4.5  yes  no  \n",
       "7   550  660    14      1     30   7.0  no   yes \n",
       "8   600  560    13      1      0   7.0  yes  yes \n",
       "9   540  560    16      1     30   7.0  no   no  \n",
       "10  540  540    14      1     30   8.0  no   yes \n",
       "11  600  620    16      1     30   8.0  some yes \n",
       "12  670  640    17      1     20   8.5  no   no  \n",
       "13  680  550    15      1      0   6.5  no   yes \n",
       "14  400  400    18      2     20   7.5  no   yes \n",
       "15  450  430    13      3      0   8.0  no   yes \n",
       "16  660  630    16      3     15   8.0  some yes \n",
       "17  620  630    16      1      0   6.5  no   no  \n",
       "18  720  720    17      3     45   6.5  no   no  \n",
       "19   NA   NA    16      4     45   9.0  no   no  \n",
       "20  660  660    16      1     20   7.5  no   yes \n",
       "21  680  520    15      1     90   8.0  no   yes \n",
       "22  520  640    17      1     20   7.5       yes \n",
       "23  580  580    16      1    120   8.0  no   yes \n",
       "24  710  730    18      1     45   8.0       no  \n",
       "25  550  550    17      2     60   8.0  no   yes \n",
       "26  560  600    16      1      0  15.0  no   no  \n",
       "27  560  530    15      1      0   6.0  no   yes \n",
       "28  690  650    18      1    150   6.5  no   no  \n",
       "29  740  800    16      3      0   6.0  no   no  \n",
       "30  710  730    17      1     90   7.0  some no  \n",
       "⋮   ⋮    ⋮      ⋮       ⋮    ⋮    ⋮     ⋮    ⋮   \n",
       "283 650  650    13      2     30   5.0  no   yes \n",
       "284 500  670    18      3    210   8.0  no   yes \n",
       "285 600  570    15      2      0   7.5  no   yes \n",
       "286 480  510    19      3    120   7.0  no   yes \n",
       "287 600  600    14      2     45   6.0  no   no  \n",
       "288 660  510    14      1     70   8.5  no   yes \n",
       "289 480  490    18      2     15   7.0  no   yes \n",
       "290 705  555    13      3      0   8.0  no   yes \n",
       "291 510  500    16      1     60   8.0  some yes \n",
       "292 710  670    14      2     15   7.0  no   yes \n",
       "293 560  600    16      2     60   5.0  no   yes \n",
       "294 540  540    13      4    180   8.0  no   yes \n",
       "295  NA   NA    14      1    120   7.0  no   yes \n",
       "296 690  580    16      3     30   8.5  yes  yes \n",
       "297 300  400    16      2      0   8.0  no   yes \n",
       "298 460  580    17      4     48   5.0  some yes \n",
       "299 640  560    17      1     30  10.0  some no  \n",
       "300 650  540    16      2      0   7.0  no   yes \n",
       "301 740  520    15      3     20   9.0  no   no  \n",
       "302 590  620    18      2     45   5.5  no   yes \n",
       "303  NA   NA    19      2      0   5.5  no   yes \n",
       "304 580  800    17      2     80   5.5  yes  yes \n",
       "305 540  510    16      2      0   4.5  yes  yes \n",
       "306 580  520    14      2     45   5.5  no   yes \n",
       "307 702  480    14      3     30   7.5  no   yes \n",
       "308 570  500    16      2      0   9.0  no   yes \n",
       "309  NA   NA    12      4     40   7.0  no   yes \n",
       "310  NA   NA    13      1     50   6.0  no   yes \n",
       "311 550  560    16      3      0  10.0  yes  yes \n",
       "312  NA   NA     9      4     60   7.0  no   yes "
      ]
     },
     "metadata": {},
     "output_type": "display_data"
    }
   ],
   "source": [
    "sum(data$Veg.[1:10] == 'some')\n",
    "\n",
    "data$Veg.[1:10]\n",
    "data[-256,] "
   ]
  },
  {
   "cell_type": "code",
   "execution_count": 10,
   "metadata": {},
   "outputs": [
    {
     "data": {
      "text/html": [
       "9"
      ],
      "text/latex": [
       "9"
      ],
      "text/markdown": [
       "9"
      ],
      "text/plain": [
       "[1] 9"
      ]
     },
     "metadata": {},
     "output_type": "display_data"
    }
   ],
   "source": [
    "data$Sleep[min(which(data$Cell == 'no'))]"
   ]
  },
  {
   "cell_type": "code",
   "execution_count": 50,
   "metadata": {},
   "outputs": [
    {
     "data": {
      "text/html": [
       "0.783870967741935"
      ],
      "text/latex": [
       "0.783870967741935"
      ],
      "text/markdown": [
       "0.783870967741935"
      ],
      "text/plain": [
       "[1] 0.783871"
      ]
     },
     "metadata": {},
     "output_type": "display_data"
    }
   ],
   "source": [
    "sum(data$Cell == 'yes')/length(data$Cell)"
   ]
  },
  {
   "cell_type": "code",
   "execution_count": 46,
   "metadata": {},
   "outputs": [
    {
     "data": {
      "text/html": [],
      "text/latex": [],
      "text/markdown": [],
      "text/plain": [
       "integer(0)"
      ]
     },
     "metadata": {},
     "output_type": "display_data"
    }
   ],
   "source": [
    "which(is.na(data$Cell))\n"
   ]
  },
  {
   "cell_type": "code",
   "execution_count": 45,
   "metadata": {
    "collapsed": true
   },
   "outputs": [],
   "source": [
    "data = data[-224,]\n",
    "data = data[-255,]"
   ]
  },
  {
   "cell_type": "code",
   "execution_count": 52,
   "metadata": {},
   "outputs": [
    {
     "data": {
      "text/html": [
       "0.22714271292992"
      ],
      "text/latex": [
       "0.22714271292992"
      ],
      "text/markdown": [
       "0.22714271292992"
      ],
      "text/plain": [
       "[1] 0.2271427"
      ]
     },
     "metadata": {},
     "output_type": "display_data"
    }
   ],
   "source": [
    "pnorm((.783-.8)/(.8*.2/310)^.5) "
   ]
  },
  {
   "cell_type": "code",
   "execution_count": 53,
   "metadata": {
    "collapsed": true
   },
   "outputs": [],
   "source": [
    "data <- read.csv('statcrunchusamplephp.csv')"
   ]
  },
  {
   "cell_type": "code",
   "execution_count": 54,
   "metadata": {},
   "outputs": [
    {
     "data": {
      "text/html": [
       "<table>\n",
       "<thead><tr><th scope=col>Gender</th><th scope=col>Class</th><th scope=col>Hours</th><th scope=col>Work</th><th scope=col>Loans</th><th scope=col>CC.Debt</th></tr></thead>\n",
       "<tbody>\n",
       "\t<tr><td>Female</td><td>3     </td><td>13    </td><td> 0.0  </td><td>    0 </td><td> 3661 </td></tr>\n",
       "\t<tr><td>Female</td><td>1     </td><td>16    </td><td> 7.0  </td><td> 3132 </td><td> 1195 </td></tr>\n",
       "\t<tr><td>Female</td><td>4     </td><td>14    </td><td> 0.0  </td><td>    0 </td><td> 7515 </td></tr>\n",
       "\t<tr><td>Female</td><td>1     </td><td>19    </td><td> 0.0  </td><td> 5102 </td><td> 1220 </td></tr>\n",
       "\t<tr><td>Female</td><td>4     </td><td>12    </td><td> 0.0  </td><td>14700 </td><td>    0 </td></tr>\n",
       "\t<tr><td>Female</td><td>2     </td><td> 6    </td><td>37.5  </td><td> 7633 </td><td> 2568 </td></tr>\n",
       "\t<tr><td>Female</td><td>4     </td><td>15    </td><td> 0.0  </td><td>    0 </td><td>    0 </td></tr>\n",
       "\t<tr><td>Male  </td><td>2     </td><td>12    </td><td> 0.0  </td><td>    0 </td><td>    0 </td></tr>\n",
       "\t<tr><td>Male  </td><td>4     </td><td>17    </td><td> 0.0  </td><td>    0 </td><td> 8128 </td></tr>\n",
       "\t<tr><td>Female</td><td>1     </td><td>18    </td><td> 0.0  </td><td>    0 </td><td> 1093 </td></tr>\n",
       "\t<tr><td>Female</td><td>4     </td><td>21    </td><td>10.0  </td><td>14732 </td><td> 4217 </td></tr>\n",
       "\t<tr><td>Female</td><td>4     </td><td>15    </td><td> 0.0  </td><td>17234 </td><td> 2215 </td></tr>\n",
       "\t<tr><td>Female</td><td>1     </td><td>16    </td><td> 0.0  </td><td>    0 </td><td> 1091 </td></tr>\n",
       "\t<tr><td>Male  </td><td>2     </td><td>15    </td><td> 0.0  </td><td>    0 </td><td> 4009 </td></tr>\n",
       "\t<tr><td>Female</td><td>2     </td><td>21    </td><td> 0.0  </td><td>    0 </td><td> 2977 </td></tr>\n",
       "\t<tr><td>Female</td><td>1     </td><td>13    </td><td>20.0  </td><td>    0 </td><td> 1326 </td></tr>\n",
       "\t<tr><td>Female</td><td>1     </td><td>11    </td><td>18.5  </td><td> 3455 </td><td> 1330 </td></tr>\n",
       "\t<tr><td>Male  </td><td>1     </td><td>11    </td><td>14.0  </td><td> 3289 </td><td> 1380 </td></tr>\n",
       "\t<tr><td>Male  </td><td>2     </td><td>11    </td><td>22.0  </td><td> 7905 </td><td> 3649 </td></tr>\n",
       "\t<tr><td>Male  </td><td>1     </td><td>15    </td><td>16.5  </td><td> 5362 </td><td> 1587 </td></tr>\n",
       "\t<tr><td>Male  </td><td>4     </td><td> 6    </td><td>39.0  </td><td>    0 </td><td>12849 </td></tr>\n",
       "\t<tr><td>Female</td><td>2     </td><td> 9    </td><td>32.0  </td><td>    0 </td><td>    0 </td></tr>\n",
       "\t<tr><td>Female</td><td>4     </td><td>12    </td><td>21.5  </td><td>    0 </td><td>    0 </td></tr>\n",
       "\t<tr><td>Male  </td><td>1     </td><td>12    </td><td> 0.0  </td><td>    0 </td><td> 1234 </td></tr>\n",
       "\t<tr><td>Female</td><td>2     </td><td>13    </td><td> 0.0  </td><td>    0 </td><td>    0 </td></tr>\n",
       "\t<tr><td>Male  </td><td>2     </td><td>12    </td><td> 0.0  </td><td>    0 </td><td>    0 </td></tr>\n",
       "\t<tr><td>Male  </td><td>2     </td><td>11    </td><td>21.5  </td><td> 7154 </td><td> 4201 </td></tr>\n",
       "\t<tr><td>Female</td><td>3     </td><td>15    </td><td> 0.0  </td><td>12370 </td><td> 4222 </td></tr>\n",
       "\t<tr><td>Male  </td><td>2     </td><td>17    </td><td>12.5  </td><td> 8125 </td><td>    0 </td></tr>\n",
       "\t<tr><td>Female</td><td>3     </td><td>12    </td><td> 0.0  </td><td>    0 </td><td> 3907 </td></tr>\n",
       "\t<tr><td>⋮</td><td>⋮</td><td>⋮</td><td>⋮</td><td>⋮</td><td>⋮</td></tr>\n",
       "\t<tr><td>Female</td><td>1     </td><td>12    </td><td> 0.0  </td><td>    0 </td><td> 1484 </td></tr>\n",
       "\t<tr><td>Female</td><td>1     </td><td>12    </td><td> 0.0  </td><td>    0 </td><td> 1281 </td></tr>\n",
       "\t<tr><td>Female</td><td>3     </td><td>14    </td><td> 0.0  </td><td>    0 </td><td> 3648 </td></tr>\n",
       "\t<tr><td>Male  </td><td>1     </td><td>18    </td><td> 0.0  </td><td>    0 </td><td> 1130 </td></tr>\n",
       "\t<tr><td>Male  </td><td>3     </td><td>12    </td><td>21.0  </td><td>    0 </td><td> 7781 </td></tr>\n",
       "\t<tr><td>Male  </td><td>1     </td><td>19    </td><td>11.5  </td><td> 3406 </td><td> 1848 </td></tr>\n",
       "\t<tr><td>Female</td><td>1     </td><td>15    </td><td>16.0  </td><td> 4710 </td><td> 1280 </td></tr>\n",
       "\t<tr><td>Female</td><td>2     </td><td>15    </td><td> 0.0  </td><td> 6134 </td><td> 3428 </td></tr>\n",
       "\t<tr><td>Male  </td><td>4     </td><td>15    </td><td> 0.0  </td><td>    0 </td><td>21912 </td></tr>\n",
       "\t<tr><td>Male  </td><td>2     </td><td> 8    </td><td>33.0  </td><td> 6432 </td><td> 2644 </td></tr>\n",
       "\t<tr><td>Male  </td><td>3     </td><td> 8    </td><td>32.5  </td><td>11509 </td><td> 7264 </td></tr>\n",
       "\t<tr><td>Male  </td><td>4     </td><td>16    </td><td> 0.0  </td><td>    0 </td><td>    0 </td></tr>\n",
       "\t<tr><td>Female</td><td>3     </td><td>16    </td><td> 0.0  </td><td>12004 </td><td> 5947 </td></tr>\n",
       "\t<tr><td>Female</td><td>2     </td><td>12    </td><td> 0.0  </td><td>    0 </td><td> 1859 </td></tr>\n",
       "\t<tr><td>Male  </td><td>4     </td><td> 9    </td><td> 0.0  </td><td>    0 </td><td> 3308 </td></tr>\n",
       "\t<tr><td>Male  </td><td>4     </td><td> 7    </td><td>28.5  </td><td>15271 </td><td> 9569 </td></tr>\n",
       "\t<tr><td>Female</td><td>1     </td><td>15    </td><td>17.5  </td><td> 4532 </td><td> 1166 </td></tr>\n",
       "\t<tr><td>Female</td><td>4     </td><td>10    </td><td>20.5  </td><td>    0 </td><td> 4849 </td></tr>\n",
       "\t<tr><td>Male  </td><td>1     </td><td>11    </td><td>24.5  </td><td> 5140 </td><td> 1395 </td></tr>\n",
       "\t<tr><td>Female</td><td>2     </td><td> 9    </td><td>26.0  </td><td> 7222 </td><td>    0 </td></tr>\n",
       "\t<tr><td>Female</td><td>1     </td><td>15    </td><td> 0.0  </td><td>    0 </td><td> 1407 </td></tr>\n",
       "\t<tr><td>Male  </td><td>4     </td><td>18    </td><td>11.5  </td><td>18290 </td><td> 5964 </td></tr>\n",
       "\t<tr><td>Male  </td><td>4     </td><td> 7    </td><td>30.0  </td><td>15829 </td><td> 8635 </td></tr>\n",
       "\t<tr><td>Male  </td><td>2     </td><td> 6    </td><td>35.5  </td><td>    0 </td><td> 2455 </td></tr>\n",
       "\t<tr><td>Female</td><td>1     </td><td>11    </td><td>14.0  </td><td> 4298 </td><td> 1051 </td></tr>\n",
       "\t<tr><td>Female</td><td>2     </td><td>15    </td><td> 0.0  </td><td>    0 </td><td> 2631 </td></tr>\n",
       "\t<tr><td>Male  </td><td>3     </td><td>19    </td><td>10.5  </td><td> 9314 </td><td> 4898 </td></tr>\n",
       "\t<tr><td>Female</td><td>3     </td><td>21    </td><td> 9.0  </td><td>    0 </td><td> 3163 </td></tr>\n",
       "\t<tr><td>Female</td><td>4     </td><td>15    </td><td> 0.0  </td><td>    0 </td><td> 6444 </td></tr>\n",
       "\t<tr><td>Male  </td><td>4     </td><td>15    </td><td> 0.0  </td><td>    0 </td><td> 2084 </td></tr>\n",
       "</tbody>\n",
       "</table>\n"
      ],
      "text/latex": [
       "\\begin{tabular}{r|llllll}\n",
       " Gender & Class & Hours & Work & Loans & CC.Debt\\\\\n",
       "\\hline\n",
       "\t Female & 3      & 13     &  0.0   &     0  &  3661 \\\\\n",
       "\t Female & 1      & 16     &  7.0   &  3132  &  1195 \\\\\n",
       "\t Female & 4      & 14     &  0.0   &     0  &  7515 \\\\\n",
       "\t Female & 1      & 19     &  0.0   &  5102  &  1220 \\\\\n",
       "\t Female & 4      & 12     &  0.0   & 14700  &     0 \\\\\n",
       "\t Female & 2      &  6     & 37.5   &  7633  &  2568 \\\\\n",
       "\t Female & 4      & 15     &  0.0   &     0  &     0 \\\\\n",
       "\t Male   & 2      & 12     &  0.0   &     0  &     0 \\\\\n",
       "\t Male   & 4      & 17     &  0.0   &     0  &  8128 \\\\\n",
       "\t Female & 1      & 18     &  0.0   &     0  &  1093 \\\\\n",
       "\t Female & 4      & 21     & 10.0   & 14732  &  4217 \\\\\n",
       "\t Female & 4      & 15     &  0.0   & 17234  &  2215 \\\\\n",
       "\t Female & 1      & 16     &  0.0   &     0  &  1091 \\\\\n",
       "\t Male   & 2      & 15     &  0.0   &     0  &  4009 \\\\\n",
       "\t Female & 2      & 21     &  0.0   &     0  &  2977 \\\\\n",
       "\t Female & 1      & 13     & 20.0   &     0  &  1326 \\\\\n",
       "\t Female & 1      & 11     & 18.5   &  3455  &  1330 \\\\\n",
       "\t Male   & 1      & 11     & 14.0   &  3289  &  1380 \\\\\n",
       "\t Male   & 2      & 11     & 22.0   &  7905  &  3649 \\\\\n",
       "\t Male   & 1      & 15     & 16.5   &  5362  &  1587 \\\\\n",
       "\t Male   & 4      &  6     & 39.0   &     0  & 12849 \\\\\n",
       "\t Female & 2      &  9     & 32.0   &     0  &     0 \\\\\n",
       "\t Female & 4      & 12     & 21.5   &     0  &     0 \\\\\n",
       "\t Male   & 1      & 12     &  0.0   &     0  &  1234 \\\\\n",
       "\t Female & 2      & 13     &  0.0   &     0  &     0 \\\\\n",
       "\t Male   & 2      & 12     &  0.0   &     0  &     0 \\\\\n",
       "\t Male   & 2      & 11     & 21.5   &  7154  &  4201 \\\\\n",
       "\t Female & 3      & 15     &  0.0   & 12370  &  4222 \\\\\n",
       "\t Male   & 2      & 17     & 12.5   &  8125  &     0 \\\\\n",
       "\t Female & 3      & 12     &  0.0   &     0  &  3907 \\\\\n",
       "\t ⋮ & ⋮ & ⋮ & ⋮ & ⋮ & ⋮\\\\\n",
       "\t Female & 1      & 12     &  0.0   &     0  &  1484 \\\\\n",
       "\t Female & 1      & 12     &  0.0   &     0  &  1281 \\\\\n",
       "\t Female & 3      & 14     &  0.0   &     0  &  3648 \\\\\n",
       "\t Male   & 1      & 18     &  0.0   &     0  &  1130 \\\\\n",
       "\t Male   & 3      & 12     & 21.0   &     0  &  7781 \\\\\n",
       "\t Male   & 1      & 19     & 11.5   &  3406  &  1848 \\\\\n",
       "\t Female & 1      & 15     & 16.0   &  4710  &  1280 \\\\\n",
       "\t Female & 2      & 15     &  0.0   &  6134  &  3428 \\\\\n",
       "\t Male   & 4      & 15     &  0.0   &     0  & 21912 \\\\\n",
       "\t Male   & 2      &  8     & 33.0   &  6432  &  2644 \\\\\n",
       "\t Male   & 3      &  8     & 32.5   & 11509  &  7264 \\\\\n",
       "\t Male   & 4      & 16     &  0.0   &     0  &     0 \\\\\n",
       "\t Female & 3      & 16     &  0.0   & 12004  &  5947 \\\\\n",
       "\t Female & 2      & 12     &  0.0   &     0  &  1859 \\\\\n",
       "\t Male   & 4      &  9     &  0.0   &     0  &  3308 \\\\\n",
       "\t Male   & 4      &  7     & 28.5   & 15271  &  9569 \\\\\n",
       "\t Female & 1      & 15     & 17.5   &  4532  &  1166 \\\\\n",
       "\t Female & 4      & 10     & 20.5   &     0  &  4849 \\\\\n",
       "\t Male   & 1      & 11     & 24.5   &  5140  &  1395 \\\\\n",
       "\t Female & 2      &  9     & 26.0   &  7222  &     0 \\\\\n",
       "\t Female & 1      & 15     &  0.0   &     0  &  1407 \\\\\n",
       "\t Male   & 4      & 18     & 11.5   & 18290  &  5964 \\\\\n",
       "\t Male   & 4      &  7     & 30.0   & 15829  &  8635 \\\\\n",
       "\t Male   & 2      &  6     & 35.5   &     0  &  2455 \\\\\n",
       "\t Female & 1      & 11     & 14.0   &  4298  &  1051 \\\\\n",
       "\t Female & 2      & 15     &  0.0   &     0  &  2631 \\\\\n",
       "\t Male   & 3      & 19     & 10.5   &  9314  &  4898 \\\\\n",
       "\t Female & 3      & 21     &  9.0   &     0  &  3163 \\\\\n",
       "\t Female & 4      & 15     &  0.0   &     0  &  6444 \\\\\n",
       "\t Male   & 4      & 15     &  0.0   &     0  &  2084 \\\\\n",
       "\\end{tabular}\n"
      ],
      "text/markdown": [
       "\n",
       "Gender | Class | Hours | Work | Loans | CC.Debt | \n",
       "|---|---|---|---|---|---|---|---|---|---|---|---|---|---|---|---|---|---|---|---|---|---|---|---|---|---|---|---|---|---|---|---|---|---|---|---|---|---|---|---|---|---|---|---|---|---|---|---|---|---|---|---|---|---|---|---|---|---|---|---|---|\n",
       "| Female | 3      | 13     |  0.0   |     0  |  3661  | \n",
       "| Female | 1      | 16     |  7.0   |  3132  |  1195  | \n",
       "| Female | 4      | 14     |  0.0   |     0  |  7515  | \n",
       "| Female | 1      | 19     |  0.0   |  5102  |  1220  | \n",
       "| Female | 4      | 12     |  0.0   | 14700  |     0  | \n",
       "| Female | 2      |  6     | 37.5   |  7633  |  2568  | \n",
       "| Female | 4      | 15     |  0.0   |     0  |     0  | \n",
       "| Male   | 2      | 12     |  0.0   |     0  |     0  | \n",
       "| Male   | 4      | 17     |  0.0   |     0  |  8128  | \n",
       "| Female | 1      | 18     |  0.0   |     0  |  1093  | \n",
       "| Female | 4      | 21     | 10.0   | 14732  |  4217  | \n",
       "| Female | 4      | 15     |  0.0   | 17234  |  2215  | \n",
       "| Female | 1      | 16     |  0.0   |     0  |  1091  | \n",
       "| Male   | 2      | 15     |  0.0   |     0  |  4009  | \n",
       "| Female | 2      | 21     |  0.0   |     0  |  2977  | \n",
       "| Female | 1      | 13     | 20.0   |     0  |  1326  | \n",
       "| Female | 1      | 11     | 18.5   |  3455  |  1330  | \n",
       "| Male   | 1      | 11     | 14.0   |  3289  |  1380  | \n",
       "| Male   | 2      | 11     | 22.0   |  7905  |  3649  | \n",
       "| Male   | 1      | 15     | 16.5   |  5362  |  1587  | \n",
       "| Male   | 4      |  6     | 39.0   |     0  | 12849  | \n",
       "| Female | 2      |  9     | 32.0   |     0  |     0  | \n",
       "| Female | 4      | 12     | 21.5   |     0  |     0  | \n",
       "| Male   | 1      | 12     |  0.0   |     0  |  1234  | \n",
       "| Female | 2      | 13     |  0.0   |     0  |     0  | \n",
       "| Male   | 2      | 12     |  0.0   |     0  |     0  | \n",
       "| Male   | 2      | 11     | 21.5   |  7154  |  4201  | \n",
       "| Female | 3      | 15     |  0.0   | 12370  |  4222  | \n",
       "| Male   | 2      | 17     | 12.5   |  8125  |     0  | \n",
       "| Female | 3      | 12     |  0.0   |     0  |  3907  | \n",
       "| ⋮ | ⋮ | ⋮ | ⋮ | ⋮ | ⋮ | \n",
       "| Female | 1      | 12     |  0.0   |     0  |  1484  | \n",
       "| Female | 1      | 12     |  0.0   |     0  |  1281  | \n",
       "| Female | 3      | 14     |  0.0   |     0  |  3648  | \n",
       "| Male   | 1      | 18     |  0.0   |     0  |  1130  | \n",
       "| Male   | 3      | 12     | 21.0   |     0  |  7781  | \n",
       "| Male   | 1      | 19     | 11.5   |  3406  |  1848  | \n",
       "| Female | 1      | 15     | 16.0   |  4710  |  1280  | \n",
       "| Female | 2      | 15     |  0.0   |  6134  |  3428  | \n",
       "| Male   | 4      | 15     |  0.0   |     0  | 21912  | \n",
       "| Male   | 2      |  8     | 33.0   |  6432  |  2644  | \n",
       "| Male   | 3      |  8     | 32.5   | 11509  |  7264  | \n",
       "| Male   | 4      | 16     |  0.0   |     0  |     0  | \n",
       "| Female | 3      | 16     |  0.0   | 12004  |  5947  | \n",
       "| Female | 2      | 12     |  0.0   |     0  |  1859  | \n",
       "| Male   | 4      |  9     |  0.0   |     0  |  3308  | \n",
       "| Male   | 4      |  7     | 28.5   | 15271  |  9569  | \n",
       "| Female | 1      | 15     | 17.5   |  4532  |  1166  | \n",
       "| Female | 4      | 10     | 20.5   |     0  |  4849  | \n",
       "| Male   | 1      | 11     | 24.5   |  5140  |  1395  | \n",
       "| Female | 2      |  9     | 26.0   |  7222  |     0  | \n",
       "| Female | 1      | 15     |  0.0   |     0  |  1407  | \n",
       "| Male   | 4      | 18     | 11.5   | 18290  |  5964  | \n",
       "| Male   | 4      |  7     | 30.0   | 15829  |  8635  | \n",
       "| Male   | 2      |  6     | 35.5   |     0  |  2455  | \n",
       "| Female | 1      | 11     | 14.0   |  4298  |  1051  | \n",
       "| Female | 2      | 15     |  0.0   |     0  |  2631  | \n",
       "| Male   | 3      | 19     | 10.5   |  9314  |  4898  | \n",
       "| Female | 3      | 21     |  9.0   |     0  |  3163  | \n",
       "| Female | 4      | 15     |  0.0   |     0  |  6444  | \n",
       "| Male   | 4      | 15     |  0.0   |     0  |  2084  | \n",
       "\n",
       "\n"
      ],
      "text/plain": [
       "    Gender Class Hours Work Loans CC.Debt\n",
       "1   Female 3     13     0.0     0  3661  \n",
       "2   Female 1     16     7.0  3132  1195  \n",
       "3   Female 4     14     0.0     0  7515  \n",
       "4   Female 1     19     0.0  5102  1220  \n",
       "5   Female 4     12     0.0 14700     0  \n",
       "6   Female 2      6    37.5  7633  2568  \n",
       "7   Female 4     15     0.0     0     0  \n",
       "8   Male   2     12     0.0     0     0  \n",
       "9   Male   4     17     0.0     0  8128  \n",
       "10  Female 1     18     0.0     0  1093  \n",
       "11  Female 4     21    10.0 14732  4217  \n",
       "12  Female 4     15     0.0 17234  2215  \n",
       "13  Female 1     16     0.0     0  1091  \n",
       "14  Male   2     15     0.0     0  4009  \n",
       "15  Female 2     21     0.0     0  2977  \n",
       "16  Female 1     13    20.0     0  1326  \n",
       "17  Female 1     11    18.5  3455  1330  \n",
       "18  Male   1     11    14.0  3289  1380  \n",
       "19  Male   2     11    22.0  7905  3649  \n",
       "20  Male   1     15    16.5  5362  1587  \n",
       "21  Male   4      6    39.0     0 12849  \n",
       "22  Female 2      9    32.0     0     0  \n",
       "23  Female 4     12    21.5     0     0  \n",
       "24  Male   1     12     0.0     0  1234  \n",
       "25  Female 2     13     0.0     0     0  \n",
       "26  Male   2     12     0.0     0     0  \n",
       "27  Male   2     11    21.5  7154  4201  \n",
       "28  Female 3     15     0.0 12370  4222  \n",
       "29  Male   2     17    12.5  8125     0  \n",
       "30  Female 3     12     0.0     0  3907  \n",
       "⋮   ⋮      ⋮     ⋮     ⋮    ⋮     ⋮      \n",
       "71  Female 1     12     0.0     0  1484  \n",
       "72  Female 1     12     0.0     0  1281  \n",
       "73  Female 3     14     0.0     0  3648  \n",
       "74  Male   1     18     0.0     0  1130  \n",
       "75  Male   3     12    21.0     0  7781  \n",
       "76  Male   1     19    11.5  3406  1848  \n",
       "77  Female 1     15    16.0  4710  1280  \n",
       "78  Female 2     15     0.0  6134  3428  \n",
       "79  Male   4     15     0.0     0 21912  \n",
       "80  Male   2      8    33.0  6432  2644  \n",
       "81  Male   3      8    32.5 11509  7264  \n",
       "82  Male   4     16     0.0     0     0  \n",
       "83  Female 3     16     0.0 12004  5947  \n",
       "84  Female 2     12     0.0     0  1859  \n",
       "85  Male   4      9     0.0     0  3308  \n",
       "86  Male   4      7    28.5 15271  9569  \n",
       "87  Female 1     15    17.5  4532  1166  \n",
       "88  Female 4     10    20.5     0  4849  \n",
       "89  Male   1     11    24.5  5140  1395  \n",
       "90  Female 2      9    26.0  7222     0  \n",
       "91  Female 1     15     0.0     0  1407  \n",
       "92  Male   4     18    11.5 18290  5964  \n",
       "93  Male   4      7    30.0 15829  8635  \n",
       "94  Male   2      6    35.5     0  2455  \n",
       "95  Female 1     11    14.0  4298  1051  \n",
       "96  Female 2     15     0.0     0  2631  \n",
       "97  Male   3     19    10.5  9314  4898  \n",
       "98  Female 3     21     9.0     0  3163  \n",
       "99  Female 4     15     0.0     0  6444  \n",
       "100 Male   4     15     0.0     0  2084  "
      ]
     },
     "metadata": {},
     "output_type": "display_data"
    }
   ],
   "source": [
    "data\n"
   ]
  },
  {
   "cell_type": "code",
   "execution_count": 55,
   "metadata": {},
   "outputs": [
    {
     "data": {
      "text/html": [
       "58"
      ],
      "text/latex": [
       "58"
      ],
      "text/markdown": [
       "58"
      ],
      "text/plain": [
       "[1] 58"
      ]
     },
     "metadata": {},
     "output_type": "display_data"
    }
   ],
   "source": [
    "sum(data$Gender == 'Female')"
   ]
  },
  {
   "cell_type": "code",
   "execution_count": 59,
   "metadata": {},
   "outputs": [
    {
     "name": "stdout",
     "output_type": "stream",
     "text": [
      "[1] 0.05479929\n"
     ]
    }
   ],
   "source": [
    "p_val = (1-pnorm((.58-.5)/(.5*.5/100)^.5))\n",
    "print(p_val)"
   ]
  },
  {
   "cell_type": "code",
   "execution_count": 60,
   "metadata": {},
   "outputs": [
    {
     "data": {
      "text/html": [
       "0.954499736103642"
      ],
      "text/latex": [
       "0.954499736103642"
      ],
      "text/markdown": [
       "0.954499736103642"
      ],
      "text/plain": [
       "[1] 0.9544997"
      ]
     },
     "metadata": {},
     "output_type": "display_data"
    }
   ],
   "source": [
    "pnorm(2)-pnorm(-2)"
   ]
  },
  {
   "cell_type": "code",
   "execution_count": 75,
   "metadata": {},
   "outputs": [
    {
     "name": "stdout",
     "output_type": "stream",
     "text": [
      "[1] \"[ 0.481288298565975 , 0.678711701434024 ]\"\n"
     ]
    }
   ],
   "source": [
    "z = 2;\n",
    "p = .58;\n",
    "n = 100;\n",
    "SE = (p*(1-p)/n)^.5;\n",
    "print(paste(c('[',p-z*SE,',',p+2*SE,']'),collapse= ' '));"
   ]
  },
  {
   "cell_type": "code",
   "execution_count": null,
   "metadata": {
    "collapsed": true
   },
   "outputs": [],
   "source": []
  }
 ],
 "metadata": {
  "kernelspec": {
   "display_name": "R",
   "language": "R",
   "name": "ir"
  },
  "language_info": {
   "codemirror_mode": "r",
   "file_extension": ".r",
   "mimetype": "text/x-r-source",
   "name": "R",
   "pygments_lexer": "r",
   "version": "3.4.0"
  }
 },
 "nbformat": 4,
 "nbformat_minor": 2
}
