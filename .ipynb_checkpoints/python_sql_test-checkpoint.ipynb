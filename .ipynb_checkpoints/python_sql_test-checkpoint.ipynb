{
 "cells": [
  {
   "cell_type": "code",
   "execution_count": 4,
   "metadata": {
    "collapsed": true
   },
   "outputs": [],
   "source": [
    "#https://pythonspot.com/en/tag/sql/\n",
    "import sqlite3 as lite\n",
    "import sys\n",
    " \n",
    "con = None"
   ]
  },
  {
   "cell_type": "code",
   "execution_count": 5,
   "metadata": {},
   "outputs": [
    {
     "name": "stdout",
     "output_type": "stream",
     "text": [
      "SQLite version: 3.13.0\n"
     ]
    }
   ],
   "source": [
    "try:\n",
    "    con = lite.connect('test.db')\n",
    "    cur = con.cursor()    \n",
    "    cur.execute('SELECT SQLITE_VERSION()')\n",
    "    data = cur.fetchone()\n",
    "    print(\"SQLite version: %s\" % data)             \n",
    "except e:   \n",
    "    print(\"Error %s:\" % e.args[0])\n",
    "    sys.exit(1)\n",
    "finally:    \n",
    "    if con:\n",
    "        con.close()"
   ]
  },
  {
   "cell_type": "code",
   "execution_count": 6,
   "metadata": {
    "collapsed": true
   },
   "outputs": [],
   "source": [
    "global cur\n",
    "def inputCommands(lines):\n",
    "    for line in lines.splitlines():\n",
    "        cur.execute(line)"
   ]
  },
  {
   "cell_type": "code",
   "execution_count": 7,
   "metadata": {
    "collapsed": true
   },
   "outputs": [],
   "source": [
    "con = lite.connect('test.db')"
   ]
  },
  {
   "cell_type": "code",
   "execution_count": 8,
   "metadata": {},
   "outputs": [
    {
     "ename": "OperationalError",
     "evalue": "table Users already exists",
     "output_type": "error",
     "traceback": [
      "\u001b[0;31m---------------------------------------------------------------------------\u001b[0m",
      "\u001b[0;31mOperationalError\u001b[0m                          Traceback (most recent call last)",
      "\u001b[0;32m<ipython-input-8-3bed6df17def>\u001b[0m in \u001b[0;36m<module>\u001b[0;34m()\u001b[0m\n\u001b[1;32m      6\u001b[0m     \u001b[0mINSERT\u001b[0m \u001b[0mINTO\u001b[0m \u001b[0mUsers\u001b[0m \u001b[0mVALUES\u001b[0m\u001b[0;34m(\u001b[0m\u001b[0;36m3\u001b[0m\u001b[0;34m,\u001b[0m\u001b[0;34m'Greg'\u001b[0m\u001b[0;34m)\u001b[0m\u001b[0;34m\u001b[0m\u001b[0m\n\u001b[1;32m      7\u001b[0m     \"\"\"\n\u001b[0;32m----> 8\u001b[0;31m     \u001b[0minputCommands\u001b[0m\u001b[0;34m(\u001b[0m\u001b[0mcommands\u001b[0m\u001b[0;34m)\u001b[0m\u001b[0;34m\u001b[0m\u001b[0m\n\u001b[0m",
      "\u001b[0;32m<ipython-input-6-698c0fc6c8c9>\u001b[0m in \u001b[0;36minputCommands\u001b[0;34m(lines)\u001b[0m\n\u001b[1;32m      2\u001b[0m \u001b[0;32mdef\u001b[0m \u001b[0minputCommands\u001b[0m\u001b[0;34m(\u001b[0m\u001b[0mlines\u001b[0m\u001b[0;34m)\u001b[0m\u001b[0;34m:\u001b[0m\u001b[0;34m\u001b[0m\u001b[0m\n\u001b[1;32m      3\u001b[0m     \u001b[0;32mfor\u001b[0m \u001b[0mline\u001b[0m \u001b[0;32min\u001b[0m \u001b[0mlines\u001b[0m\u001b[0;34m.\u001b[0m\u001b[0msplitlines\u001b[0m\u001b[0;34m(\u001b[0m\u001b[0;34m)\u001b[0m\u001b[0;34m:\u001b[0m\u001b[0;34m\u001b[0m\u001b[0m\n\u001b[0;32m----> 4\u001b[0;31m         \u001b[0mcur\u001b[0m\u001b[0;34m.\u001b[0m\u001b[0mexecute\u001b[0m\u001b[0;34m(\u001b[0m\u001b[0mline\u001b[0m\u001b[0;34m)\u001b[0m\u001b[0;34m\u001b[0m\u001b[0m\n\u001b[0m",
      "\u001b[0;31mOperationalError\u001b[0m: table Users already exists"
     ]
    }
   ],
   "source": [
    "with con:\n",
    "    cur = con.cursor()\n",
    "    commands = \"\"\"CREATE TABLE Users(Id INT, Name TEXT)\n",
    "    INSERT INTO Users VALUES(1,'Michelle')\n",
    "    INSERT INTO Users VALUES(2,'Sonya')\n",
    "    INSERT INTO Users VALUES(3,'Greg')\n",
    "    \"\"\"\n",
    "    inputCommands(commands)"
   ]
  },
  {
   "cell_type": "code",
   "execution_count": 8,
   "metadata": {},
   "outputs": [
    {
     "name": "stdout",
     "output_type": "stream",
     "text": [
      "<sqlite3.Connection object at 0x10e7132d0>\n"
     ]
    }
   ],
   "source": [
    "print(con)"
   ]
  },
  {
   "cell_type": "code",
   "execution_count": 11,
   "metadata": {},
   "outputs": [
    {
     "name": "stdout",
     "output_type": "stream",
     "text": [
      "Users\n",
      "1|Michelle\n",
      "2|Sonya\n",
      "3|Greg\n"
     ]
    }
   ],
   "source": [
    "%%bash\n",
    "sqlite3 test.db\n",
    ".tables\n",
    "SELECT * FROM Users;"
   ]
  },
  {
   "cell_type": "code",
   "execution_count": null,
   "metadata": {},
   "outputs": [],
   "source": [
    "%%bash\n",
    "sqlite_bro"
   ]
  },
  {
   "cell_type": "code",
   "execution_count": null,
   "metadata": {
    "collapsed": true
   },
   "outputs": [],
   "source": [
    "%%bash \n",
    "sqlite3 test.db;\n",
    "SELECT * FROM test.db;\n",
    "SELECT count(*) FROM Users;\n",
    "SELECT name FROM Users;\n",
    "SELECT * FROM Users WHERE id = 2;\n",
    "SELECT * FROM Users WHERE id = 6;"
   ]
  },
  {
   "cell_type": "code",
   "execution_count": 9,
   "metadata": {},
   "outputs": [
    {
     "name": "stdout",
     "output_type": "stream",
     "text": [
      "(1, 'Michelle')\n",
      "(2, 'Sonya')\n",
      "(3, 'Greg')\n"
     ]
    }
   ],
   "source": [
    "con = lite.connect('test.db')\n",
    "with con:\n",
    "    cur = con.cursor()\n",
    "    cur.execute('SELECT * FROM Users')\n",
    "    rows = cur.fetchall()\n",
    "    for row in rows:\n",
    "        print(row)"
   ]
  },
  {
   "cell_type": "code",
   "execution_count": 10,
   "metadata": {
    "collapsed": true
   },
   "outputs": [],
   "source": [
    "with con:\n",
    "    cur = con.cursor()\n",
    "    inputCommands(\"\"\"CREATE TABLE Jobs(Id INT, Uid INT, Profession TEXT)\n",
    "    INSERT INTO Jobs VALUES(1,1,'Scientist')\n",
    "    INSERT INTO Jobs VALUES(2, 2, 'Marketeer')\n",
    "    INSERT INTO Jobs VALUES(3, 3, 'Developer')\"\"\")"
   ]
  },
  {
   "cell_type": "code",
   "execution_count": 11,
   "metadata": {},
   "outputs": [
    {
     "name": "stdout",
     "output_type": "stream",
     "text": [
      "('Michelle', 'Scientist')\n",
      "('Sonya', 'Marketeer')\n",
      "('Greg', 'Developer')\n"
     ]
    }
   ],
   "source": [
    "with con:\n",
    "    cur = con.cursor()\n",
    "    cur.execute('SELECT users.name, jobs.profession FROM jobs INNER JOIN users ON users.ID = jobs.uid')\n",
    "    rows = cur.fetchall()\n",
    "    for row in rows:\n",
    "        print(row)\n",
    "    "
   ]
  },
  {
   "cell_type": "code",
   "execution_count": null,
   "metadata": {
    "collapsed": true
   },
   "outputs": [],
   "source": [
    "# Object Relational Mapping\n",
    "from sqlalchemy import *\n",
    "from sqlalchemy import create_engine, ForeignKey\n",
    "from sqlalchemy import Column, Date, Integer, String\n",
    "from sqlalchemy.ext.declarative import declarative_base\n",
    "from sqlalchemy.orm import relationship, backref\n",
    "\n",
    "engine = create_engine('sqlite:///student.db',echo=True)\n",
    "Base = declarative_base()\n",
    "\n",
    "#########\n",
    "class Student(Base):\n",
    "    \"\"\"\"\"\"\n",
    "    __tablename__ = 'student'\n",
    "    \n",
    "    id = Column(Integer, primary_key = True)\n",
    "    username = Column(String)\n",
    "    firstname = Column(String)\n",
    "    lastname = Column(String)\n",
    "    university = Column(String)\n",
    "    \n",
    "    # ----------------------------------\n",
    "    \n",
    "    def __init__(self, username, firstname, lastname, university):\n",
    "        \"\"\"\"\"\"\n",
    "        self.username = username\n",
    "        self.firstname = firstname\n",
    "        self.lastname = lastname\n",
    "        self.university = university\n",
    "        \n",
    "# create tables\n",
    "Base.metadata.create_all(engine)\n",
    "\"\"\"CREATE TABLE student (\n",
    "\tid INTEGER NOT NULL, \n",
    "\tusername VARCHAR, \n",
    "\tfirstname VARCHAR, \n",
    "\tlastname VARCHAR, \n",
    "\tuniversity VARCHAR, \n",
    "\tPRIMARY KEY (id)\n",
    ")\n",
    "\"\"\""
   ]
  },
  {
   "cell_type": "code",
   "execution_count": null,
   "metadata": {
    "collapsed": true
   },
   "outputs": [],
   "source": [
    "import datetime\n",
    "from sqlalchemy import create_engine\n",
    "from sqlalchemy.orm import sessionmaker\n",
    "from sql.test import *\n",
    "#from tabledef import * # this import statement just inserts the class from above\n",
    "\n",
    "engine = create_engine('sqlite:///student.db', echo=True)\n",
    "\n",
    "# create a Session\n",
    "Session = sessionmaker(bind=engine)\n",
    "session = Session()\n",
    "\n",
    "# create a Session\n",
    "Session = sessionmaker(bind=engine)\n",
    "session = Session()\n",
    " \n",
    "# Create objects  \n",
    "user = Student(\"james\",\"James\",\"Boogie\",\"MIT\")\n",
    "session.add(user)\n",
    " \n",
    "user = Student(\"lara\",\"Lara\",\"Miami\",\"UU\")\n",
    "session.add(user)\n",
    " \n",
    "user = Student(\"eric\",\"Eric\",\"York\",\"Stanford\")\n",
    "session.add(user)\n",
    " \n",
    "# commit the record the database\n",
    "session.commit()"
   ]
  },
  {
   "cell_type": "code",
   "execution_count": null,
   "metadata": {
    "collapsed": true
   },
   "outputs": [],
   "source": [
    "# I JUST COPIED THE REST OF TUTORIAL BELOW\n",
    "\n",
    "import datetime\n",
    "from sqlalchemy import create_engine\n",
    "from sqlalchemy.orm import sessionmaker\n",
    "from tabledef import *\n",
    " \n",
    "engine = create_engine('sqlite:///student.db', echo=True)\n",
    " \n",
    "# create a Session\n",
    "Session = sessionmaker(bind=engine)\n",
    "session = Session()\n",
    " \n",
    "# Create objects  \n",
    "for student in session.query(Student).order_by(Student.id):\n",
    "    print student.firstname, student.lastname\n",
    "    \n",
    "\n",
    "    \n",
    "########################\n",
    "\n",
    "import datetime\n",
    "from sqlalchemy import create_engine\n",
    "from sqlalchemy.orm import sessionmaker\n",
    "from tabledef import *\n",
    " \n",
    "engine = create_engine('sqlite:///student.db', echo=True)\n",
    " \n",
    "# create a Session\n",
    "Session = sessionmaker(bind=engine)\n",
    "session = Session()\n",
    " \n",
    "# Select objects  \n",
    "for student in session.query(Student).filter(Student.firstname == 'Eric'):\n",
    "    print student.firstname, student.lastname"
   ]
  }
 ],
 "metadata": {
  "kernelspec": {
   "display_name": "Python 3",
   "language": "python",
   "name": "python3"
  },
  "language_info": {
   "codemirror_mode": {
    "name": "ipython",
    "version": 3
   },
   "file_extension": ".py",
   "mimetype": "text/x-python",
   "name": "python",
   "nbconvert_exporter": "python",
   "pygments_lexer": "ipython3",
   "version": "3.6.2"
  }
 },
 "nbformat": 4,
 "nbformat_minor": 2
}
