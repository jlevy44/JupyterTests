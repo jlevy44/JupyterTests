{
 "cells": [
  {
   "cell_type": "code",
   "execution_count": 2,
   "metadata": {},
   "outputs": [],
   "source": [
    "data = read.csv('statcrunchusample.csv')"
   ]
  },
  {
   "cell_type": "code",
   "execution_count": 12,
   "metadata": {},
   "outputs": [
    {
     "data": {
      "text/html": [
       "0"
      ],
      "text/latex": [
       "0"
      ],
      "text/markdown": [
       "0"
      ],
      "text/plain": [
       "[1] 0"
      ]
     },
     "metadata": {},
     "output_type": "display_data"
    }
   ],
   "source": [
    "sum(data[data$Gender == 'Female',]$Hours == 40)"
   ]
  },
  {
   "cell_type": "code",
   "execution_count": 17,
   "metadata": {},
   "outputs": [
    {
     "data": {
      "text/html": [
       "<table>\n",
       "<thead><tr><th></th><th scope=col>Gender</th><th scope=col>Class</th><th scope=col>Hours</th><th scope=col>Work</th><th scope=col>Loans</th><th scope=col>CC.Debt</th><th scope=col>FS</th></tr></thead>\n",
       "<tbody>\n",
       "\t<tr><th scope=row>1</th><td>Female</td><td>2     </td><td>14    </td><td> 0.0  </td><td>    0 </td><td>2377  </td><td> TRUE </td></tr>\n",
       "\t<tr><th scope=row>2</th><td>Female</td><td>4     </td><td>16    </td><td> 0.0  </td><td>    0 </td><td>7040  </td><td> TRUE </td></tr>\n",
       "\t<tr><th scope=row>3</th><td>Female</td><td>2     </td><td> 9    </td><td>28.5  </td><td> 7982 </td><td>2481  </td><td>FALSE </td></tr>\n",
       "\t<tr><th scope=row>4</th><td>Female</td><td>2     </td><td>16    </td><td> 0.0  </td><td>    0 </td><td>   0  </td><td> TRUE </td></tr>\n",
       "\t<tr><th scope=row>5</th><td>Female</td><td>3     </td><td> 8    </td><td>33.0  </td><td>13051 </td><td>6146  </td><td>FALSE </td></tr>\n",
       "\t<tr><th scope=row>8</th><td>Female</td><td>1     </td><td>14    </td><td>19.0  </td><td> 3815 </td><td>1294  </td><td> TRUE </td></tr>\n",
       "\t<tr><th scope=row>9</th><td>Female</td><td>3     </td><td>11    </td><td>18.5  </td><td>14885 </td><td>2292  </td><td>FALSE </td></tr>\n",
       "\t<tr><th scope=row>10</th><td>Female</td><td>3     </td><td>17    </td><td>14.0  </td><td>11766 </td><td>3636  </td><td> TRUE </td></tr>\n",
       "\t<tr><th scope=row>12</th><td>Female</td><td>1     </td><td>18    </td><td> 0.0  </td><td> 4543 </td><td>   0  </td><td> TRUE </td></tr>\n",
       "\t<tr><th scope=row>13</th><td>Female</td><td>3     </td><td>12    </td><td> 0.0  </td><td>12066 </td><td>4733  </td><td> TRUE </td></tr>\n",
       "\t<tr><th scope=row>16</th><td>Female</td><td>2     </td><td>14    </td><td>15.5  </td><td> 9118 </td><td>2490  </td><td> TRUE </td></tr>\n",
       "\t<tr><th scope=row>17</th><td>Female</td><td>1     </td><td>14    </td><td>10.5  </td><td> 3927 </td><td>1272  </td><td> TRUE </td></tr>\n",
       "\t<tr><th scope=row>18</th><td>Female</td><td>1     </td><td> 9    </td><td>25.5  </td><td>    0 </td><td>1304  </td><td>FALSE </td></tr>\n",
       "\t<tr><th scope=row>20</th><td>Female</td><td>3     </td><td>19    </td><td> 0.0  </td><td>    0 </td><td>2326  </td><td> TRUE </td></tr>\n",
       "\t<tr><th scope=row>22</th><td>Female</td><td>3     </td><td> 6    </td><td>34.5  </td><td>11623 </td><td>3484  </td><td>FALSE </td></tr>\n",
       "\t<tr><th scope=row>23</th><td>Female</td><td>1     </td><td>16    </td><td> 0.0  </td><td>    0 </td><td>1209  </td><td> TRUE </td></tr>\n",
       "\t<tr><th scope=row>24</th><td>Female</td><td>3     </td><td>12    </td><td> 0.0  </td><td>    0 </td><td>   0  </td><td> TRUE </td></tr>\n",
       "\t<tr><th scope=row>27</th><td>Female</td><td>3     </td><td>15    </td><td>19.0  </td><td>    0 </td><td>2291  </td><td> TRUE </td></tr>\n",
       "\t<tr><th scope=row>29</th><td>Female</td><td>1     </td><td>15    </td><td> 0.0  </td><td> 4515 </td><td>1120  </td><td> TRUE </td></tr>\n",
       "\t<tr><th scope=row>30</th><td>Female</td><td>4     </td><td> 3    </td><td>35.5  </td><td>    0 </td><td>7893  </td><td>FALSE </td></tr>\n",
       "\t<tr><th scope=row>31</th><td>Female</td><td>1     </td><td>15    </td><td> 0.0  </td><td>    0 </td><td>1355  </td><td> TRUE </td></tr>\n",
       "\t<tr><th scope=row>32</th><td>Female</td><td>1     </td><td>15    </td><td> 0.0  </td><td>    0 </td><td>1071  </td><td> TRUE </td></tr>\n",
       "\t<tr><th scope=row>35</th><td>Female</td><td>4     </td><td>10    </td><td>26.5  </td><td>    0 </td><td>2377  </td><td>FALSE </td></tr>\n",
       "\t<tr><th scope=row>36</th><td>Female</td><td>4     </td><td> 3    </td><td> 0.0  </td><td>    0 </td><td>6560  </td><td>FALSE </td></tr>\n",
       "\t<tr><th scope=row>37</th><td>Female</td><td>4     </td><td>12    </td><td> 0.0  </td><td>    0 </td><td>6204  </td><td> TRUE </td></tr>\n",
       "\t<tr><th scope=row>38</th><td>Female</td><td>2     </td><td>11    </td><td>22.5  </td><td> 8131 </td><td>1896  </td><td>FALSE </td></tr>\n",
       "\t<tr><th scope=row>39</th><td>Female</td><td>2     </td><td>14    </td><td>21.0  </td><td>    0 </td><td>2952  </td><td> TRUE </td></tr>\n",
       "\t<tr><th scope=row>40</th><td>Female</td><td>1     </td><td>16    </td><td> 0.0  </td><td>    0 </td><td>   0  </td><td> TRUE </td></tr>\n",
       "\t<tr><th scope=row>42</th><td>Female</td><td>2     </td><td>15    </td><td>16.0  </td><td> 8292 </td><td>2514  </td><td> TRUE </td></tr>\n",
       "\t<tr><th scope=row>43</th><td>Female</td><td>4     </td><td> 3    </td><td>33.0  </td><td>14360 </td><td>6756  </td><td>FALSE </td></tr>\n",
       "\t<tr><th scope=row>⋮</th><td>⋮</td><td>⋮</td><td>⋮</td><td>⋮</td><td>⋮</td><td>⋮</td><td>⋮</td></tr>\n",
       "\t<tr><th scope=row>951</th><td>Female</td><td>4     </td><td>17    </td><td> 0.0  </td><td>17608 </td><td>6983  </td><td> TRUE </td></tr>\n",
       "\t<tr><th scope=row>952</th><td>Female</td><td>1     </td><td>15    </td><td> 0.0  </td><td>    0 </td><td>1215  </td><td> TRUE </td></tr>\n",
       "\t<tr><th scope=row>953</th><td>Female</td><td>3     </td><td>11    </td><td>22.0  </td><td>11096 </td><td>2821  </td><td>FALSE </td></tr>\n",
       "\t<tr><th scope=row>954</th><td>Female</td><td>4     </td><td> 5    </td><td>32.5  </td><td>15233 </td><td>4462  </td><td>FALSE </td></tr>\n",
       "\t<tr><th scope=row>955</th><td>Female</td><td>2     </td><td>16    </td><td> 0.0  </td><td>    0 </td><td>2667  </td><td> TRUE </td></tr>\n",
       "\t<tr><th scope=row>956</th><td>Female</td><td>2     </td><td>14    </td><td>19.5  </td><td> 8514 </td><td>2304  </td><td> TRUE </td></tr>\n",
       "\t<tr><th scope=row>958</th><td>Female</td><td>2     </td><td>15    </td><td>13.5  </td><td> 8215 </td><td>2293  </td><td> TRUE </td></tr>\n",
       "\t<tr><th scope=row>959</th><td>Female</td><td>4     </td><td>11    </td><td>20.5  </td><td>15270 </td><td>   0  </td><td>FALSE </td></tr>\n",
       "\t<tr><th scope=row>960</th><td>Female</td><td>3     </td><td>17    </td><td>12.0  </td><td>12626 </td><td>4105  </td><td> TRUE </td></tr>\n",
       "\t<tr><th scope=row>961</th><td>Female</td><td>4     </td><td>17    </td><td> 0.0  </td><td>    0 </td><td>5236  </td><td> TRUE </td></tr>\n",
       "\t<tr><th scope=row>963</th><td>Female</td><td>4     </td><td> 7    </td><td>31.5  </td><td>15761 </td><td>3450  </td><td>FALSE </td></tr>\n",
       "\t<tr><th scope=row>964</th><td>Female</td><td>2     </td><td>13    </td><td> 0.0  </td><td>    0 </td><td>1684  </td><td> TRUE </td></tr>\n",
       "\t<tr><th scope=row>965</th><td>Female</td><td>2     </td><td> 9    </td><td>23.5  </td><td> 7846 </td><td>2320  </td><td>FALSE </td></tr>\n",
       "\t<tr><th scope=row>966</th><td>Female</td><td>2     </td><td>13    </td><td> 0.0  </td><td>    0 </td><td>1617  </td><td> TRUE </td></tr>\n",
       "\t<tr><th scope=row>969</th><td>Female</td><td>2     </td><td>12    </td><td>18.5  </td><td> 8827 </td><td>2177  </td><td> TRUE </td></tr>\n",
       "\t<tr><th scope=row>974</th><td>Female</td><td>4     </td><td>17    </td><td> 0.0  </td><td>    0 </td><td>   0  </td><td> TRUE </td></tr>\n",
       "\t<tr><th scope=row>975</th><td>Female</td><td>1     </td><td>16    </td><td> 0.0  </td><td>    0 </td><td>1117  </td><td> TRUE </td></tr>\n",
       "\t<tr><th scope=row>976</th><td>Female</td><td>4     </td><td>16    </td><td>19.0  </td><td>18658 </td><td>6064  </td><td> TRUE </td></tr>\n",
       "\t<tr><th scope=row>977</th><td>Female</td><td>4     </td><td>15    </td><td> 0.0  </td><td>    0 </td><td>5790  </td><td> TRUE </td></tr>\n",
       "\t<tr><th scope=row>981</th><td>Female</td><td>2     </td><td>14    </td><td>20.5  </td><td> 8687 </td><td>2315  </td><td> TRUE </td></tr>\n",
       "\t<tr><th scope=row>983</th><td>Female</td><td>3     </td><td>17    </td><td> 0.0  </td><td>    0 </td><td>2099  </td><td> TRUE </td></tr>\n",
       "\t<tr><th scope=row>984</th><td>Female</td><td>3     </td><td>14    </td><td>17.0  </td><td>12704 </td><td>4590  </td><td> TRUE </td></tr>\n",
       "\t<tr><th scope=row>985</th><td>Female</td><td>4     </td><td>14    </td><td> 0.0  </td><td>    0 </td><td>6269  </td><td> TRUE </td></tr>\n",
       "\t<tr><th scope=row>986</th><td>Female</td><td>3     </td><td>16    </td><td>19.0  </td><td>12224 </td><td>8030  </td><td> TRUE </td></tr>\n",
       "\t<tr><th scope=row>987</th><td>Female</td><td>1     </td><td>18    </td><td> 0.0  </td><td>    0 </td><td>1431  </td><td> TRUE </td></tr>\n",
       "\t<tr><th scope=row>988</th><td>Female</td><td>1     </td><td>18    </td><td> 0.0  </td><td>    0 </td><td>1297  </td><td> TRUE </td></tr>\n",
       "\t<tr><th scope=row>989</th><td>Female</td><td>4     </td><td> 8    </td><td>23.5  </td><td>    0 </td><td>2589  </td><td>FALSE </td></tr>\n",
       "\t<tr><th scope=row>990</th><td>Female</td><td>4     </td><td>18    </td><td> 0.0  </td><td>16080 </td><td>8086  </td><td> TRUE </td></tr>\n",
       "\t<tr><th scope=row>996</th><td>Female</td><td>1     </td><td> 9    </td><td>21.5  </td><td>    0 </td><td>1035  </td><td>FALSE </td></tr>\n",
       "\t<tr><th scope=row>998</th><td>Female</td><td>2     </td><td>14    </td><td> 0.0  </td><td> 6423 </td><td>1962  </td><td> TRUE </td></tr>\n",
       "</tbody>\n",
       "</table>\n"
      ],
      "text/latex": [
       "\\begin{tabular}{r|lllllll}\n",
       "  & Gender & Class & Hours & Work & Loans & CC.Debt & FS\\\\\n",
       "\\hline\n",
       "\t1 & Female & 2      & 14     &  0.0   &     0  & 2377   &  TRUE \\\\\n",
       "\t2 & Female & 4      & 16     &  0.0   &     0  & 7040   &  TRUE \\\\\n",
       "\t3 & Female & 2      &  9     & 28.5   &  7982  & 2481   & FALSE \\\\\n",
       "\t4 & Female & 2      & 16     &  0.0   &     0  &    0   &  TRUE \\\\\n",
       "\t5 & Female & 3      &  8     & 33.0   & 13051  & 6146   & FALSE \\\\\n",
       "\t8 & Female & 1      & 14     & 19.0   &  3815  & 1294   &  TRUE \\\\\n",
       "\t9 & Female & 3      & 11     & 18.5   & 14885  & 2292   & FALSE \\\\\n",
       "\t10 & Female & 3      & 17     & 14.0   & 11766  & 3636   &  TRUE \\\\\n",
       "\t12 & Female & 1      & 18     &  0.0   &  4543  &    0   &  TRUE \\\\\n",
       "\t13 & Female & 3      & 12     &  0.0   & 12066  & 4733   &  TRUE \\\\\n",
       "\t16 & Female & 2      & 14     & 15.5   &  9118  & 2490   &  TRUE \\\\\n",
       "\t17 & Female & 1      & 14     & 10.5   &  3927  & 1272   &  TRUE \\\\\n",
       "\t18 & Female & 1      &  9     & 25.5   &     0  & 1304   & FALSE \\\\\n",
       "\t20 & Female & 3      & 19     &  0.0   &     0  & 2326   &  TRUE \\\\\n",
       "\t22 & Female & 3      &  6     & 34.5   & 11623  & 3484   & FALSE \\\\\n",
       "\t23 & Female & 1      & 16     &  0.0   &     0  & 1209   &  TRUE \\\\\n",
       "\t24 & Female & 3      & 12     &  0.0   &     0  &    0   &  TRUE \\\\\n",
       "\t27 & Female & 3      & 15     & 19.0   &     0  & 2291   &  TRUE \\\\\n",
       "\t29 & Female & 1      & 15     &  0.0   &  4515  & 1120   &  TRUE \\\\\n",
       "\t30 & Female & 4      &  3     & 35.5   &     0  & 7893   & FALSE \\\\\n",
       "\t31 & Female & 1      & 15     &  0.0   &     0  & 1355   &  TRUE \\\\\n",
       "\t32 & Female & 1      & 15     &  0.0   &     0  & 1071   &  TRUE \\\\\n",
       "\t35 & Female & 4      & 10     & 26.5   &     0  & 2377   & FALSE \\\\\n",
       "\t36 & Female & 4      &  3     &  0.0   &     0  & 6560   & FALSE \\\\\n",
       "\t37 & Female & 4      & 12     &  0.0   &     0  & 6204   &  TRUE \\\\\n",
       "\t38 & Female & 2      & 11     & 22.5   &  8131  & 1896   & FALSE \\\\\n",
       "\t39 & Female & 2      & 14     & 21.0   &     0  & 2952   &  TRUE \\\\\n",
       "\t40 & Female & 1      & 16     &  0.0   &     0  &    0   &  TRUE \\\\\n",
       "\t42 & Female & 2      & 15     & 16.0   &  8292  & 2514   &  TRUE \\\\\n",
       "\t43 & Female & 4      &  3     & 33.0   & 14360  & 6756   & FALSE \\\\\n",
       "\t⋮ & ⋮ & ⋮ & ⋮ & ⋮ & ⋮ & ⋮ & ⋮\\\\\n",
       "\t951 & Female & 4      & 17     &  0.0   & 17608  & 6983   &  TRUE \\\\\n",
       "\t952 & Female & 1      & 15     &  0.0   &     0  & 1215   &  TRUE \\\\\n",
       "\t953 & Female & 3      & 11     & 22.0   & 11096  & 2821   & FALSE \\\\\n",
       "\t954 & Female & 4      &  5     & 32.5   & 15233  & 4462   & FALSE \\\\\n",
       "\t955 & Female & 2      & 16     &  0.0   &     0  & 2667   &  TRUE \\\\\n",
       "\t956 & Female & 2      & 14     & 19.5   &  8514  & 2304   &  TRUE \\\\\n",
       "\t958 & Female & 2      & 15     & 13.5   &  8215  & 2293   &  TRUE \\\\\n",
       "\t959 & Female & 4      & 11     & 20.5   & 15270  &    0   & FALSE \\\\\n",
       "\t960 & Female & 3      & 17     & 12.0   & 12626  & 4105   &  TRUE \\\\\n",
       "\t961 & Female & 4      & 17     &  0.0   &     0  & 5236   &  TRUE \\\\\n",
       "\t963 & Female & 4      &  7     & 31.5   & 15761  & 3450   & FALSE \\\\\n",
       "\t964 & Female & 2      & 13     &  0.0   &     0  & 1684   &  TRUE \\\\\n",
       "\t965 & Female & 2      &  9     & 23.5   &  7846  & 2320   & FALSE \\\\\n",
       "\t966 & Female & 2      & 13     &  0.0   &     0  & 1617   &  TRUE \\\\\n",
       "\t969 & Female & 2      & 12     & 18.5   &  8827  & 2177   &  TRUE \\\\\n",
       "\t974 & Female & 4      & 17     &  0.0   &     0  &    0   &  TRUE \\\\\n",
       "\t975 & Female & 1      & 16     &  0.0   &     0  & 1117   &  TRUE \\\\\n",
       "\t976 & Female & 4      & 16     & 19.0   & 18658  & 6064   &  TRUE \\\\\n",
       "\t977 & Female & 4      & 15     &  0.0   &     0  & 5790   &  TRUE \\\\\n",
       "\t981 & Female & 2      & 14     & 20.5   &  8687  & 2315   &  TRUE \\\\\n",
       "\t983 & Female & 3      & 17     &  0.0   &     0  & 2099   &  TRUE \\\\\n",
       "\t984 & Female & 3      & 14     & 17.0   & 12704  & 4590   &  TRUE \\\\\n",
       "\t985 & Female & 4      & 14     &  0.0   &     0  & 6269   &  TRUE \\\\\n",
       "\t986 & Female & 3      & 16     & 19.0   & 12224  & 8030   &  TRUE \\\\\n",
       "\t987 & Female & 1      & 18     &  0.0   &     0  & 1431   &  TRUE \\\\\n",
       "\t988 & Female & 1      & 18     &  0.0   &     0  & 1297   &  TRUE \\\\\n",
       "\t989 & Female & 4      &  8     & 23.5   &     0  & 2589   & FALSE \\\\\n",
       "\t990 & Female & 4      & 18     &  0.0   & 16080  & 8086   &  TRUE \\\\\n",
       "\t996 & Female & 1      &  9     & 21.5   &     0  & 1035   & FALSE \\\\\n",
       "\t998 & Female & 2      & 14     &  0.0   &  6423  & 1962   &  TRUE \\\\\n",
       "\\end{tabular}\n"
      ],
      "text/markdown": [
       "\n",
       "| <!--/--> | Gender | Class | Hours | Work | Loans | CC.Debt | FS | \n",
       "|---|---|---|---|---|---|---|---|---|---|---|---|---|---|---|---|---|---|---|---|---|---|---|---|---|---|---|---|---|---|---|---|---|---|---|---|---|---|---|---|---|---|---|---|---|---|---|---|---|---|---|---|---|---|---|---|---|---|---|---|---|\n",
       "| 1 | Female | 2      | 14     |  0.0   |     0  | 2377   |  TRUE  | \n",
       "| 2 | Female | 4      | 16     |  0.0   |     0  | 7040   |  TRUE  | \n",
       "| 3 | Female | 2      |  9     | 28.5   |  7982  | 2481   | FALSE  | \n",
       "| 4 | Female | 2      | 16     |  0.0   |     0  |    0   |  TRUE  | \n",
       "| 5 | Female | 3      |  8     | 33.0   | 13051  | 6146   | FALSE  | \n",
       "| 8 | Female | 1      | 14     | 19.0   |  3815  | 1294   |  TRUE  | \n",
       "| 9 | Female | 3      | 11     | 18.5   | 14885  | 2292   | FALSE  | \n",
       "| 10 | Female | 3      | 17     | 14.0   | 11766  | 3636   |  TRUE  | \n",
       "| 12 | Female | 1      | 18     |  0.0   |  4543  |    0   |  TRUE  | \n",
       "| 13 | Female | 3      | 12     |  0.0   | 12066  | 4733   |  TRUE  | \n",
       "| 16 | Female | 2      | 14     | 15.5   |  9118  | 2490   |  TRUE  | \n",
       "| 17 | Female | 1      | 14     | 10.5   |  3927  | 1272   |  TRUE  | \n",
       "| 18 | Female | 1      |  9     | 25.5   |     0  | 1304   | FALSE  | \n",
       "| 20 | Female | 3      | 19     |  0.0   |     0  | 2326   |  TRUE  | \n",
       "| 22 | Female | 3      |  6     | 34.5   | 11623  | 3484   | FALSE  | \n",
       "| 23 | Female | 1      | 16     |  0.0   |     0  | 1209   |  TRUE  | \n",
       "| 24 | Female | 3      | 12     |  0.0   |     0  |    0   |  TRUE  | \n",
       "| 27 | Female | 3      | 15     | 19.0   |     0  | 2291   |  TRUE  | \n",
       "| 29 | Female | 1      | 15     |  0.0   |  4515  | 1120   |  TRUE  | \n",
       "| 30 | Female | 4      |  3     | 35.5   |     0  | 7893   | FALSE  | \n",
       "| 31 | Female | 1      | 15     |  0.0   |     0  | 1355   |  TRUE  | \n",
       "| 32 | Female | 1      | 15     |  0.0   |     0  | 1071   |  TRUE  | \n",
       "| 35 | Female | 4      | 10     | 26.5   |     0  | 2377   | FALSE  | \n",
       "| 36 | Female | 4      |  3     |  0.0   |     0  | 6560   | FALSE  | \n",
       "| 37 | Female | 4      | 12     |  0.0   |     0  | 6204   |  TRUE  | \n",
       "| 38 | Female | 2      | 11     | 22.5   |  8131  | 1896   | FALSE  | \n",
       "| 39 | Female | 2      | 14     | 21.0   |     0  | 2952   |  TRUE  | \n",
       "| 40 | Female | 1      | 16     |  0.0   |     0  |    0   |  TRUE  | \n",
       "| 42 | Female | 2      | 15     | 16.0   |  8292  | 2514   |  TRUE  | \n",
       "| 43 | Female | 4      |  3     | 33.0   | 14360  | 6756   | FALSE  | \n",
       "| ⋮ | ⋮ | ⋮ | ⋮ | ⋮ | ⋮ | ⋮ | ⋮ | \n",
       "| 951 | Female | 4      | 17     |  0.0   | 17608  | 6983   |  TRUE  | \n",
       "| 952 | Female | 1      | 15     |  0.0   |     0  | 1215   |  TRUE  | \n",
       "| 953 | Female | 3      | 11     | 22.0   | 11096  | 2821   | FALSE  | \n",
       "| 954 | Female | 4      |  5     | 32.5   | 15233  | 4462   | FALSE  | \n",
       "| 955 | Female | 2      | 16     |  0.0   |     0  | 2667   |  TRUE  | \n",
       "| 956 | Female | 2      | 14     | 19.5   |  8514  | 2304   |  TRUE  | \n",
       "| 958 | Female | 2      | 15     | 13.5   |  8215  | 2293   |  TRUE  | \n",
       "| 959 | Female | 4      | 11     | 20.5   | 15270  |    0   | FALSE  | \n",
       "| 960 | Female | 3      | 17     | 12.0   | 12626  | 4105   |  TRUE  | \n",
       "| 961 | Female | 4      | 17     |  0.0   |     0  | 5236   |  TRUE  | \n",
       "| 963 | Female | 4      |  7     | 31.5   | 15761  | 3450   | FALSE  | \n",
       "| 964 | Female | 2      | 13     |  0.0   |     0  | 1684   |  TRUE  | \n",
       "| 965 | Female | 2      |  9     | 23.5   |  7846  | 2320   | FALSE  | \n",
       "| 966 | Female | 2      | 13     |  0.0   |     0  | 1617   |  TRUE  | \n",
       "| 969 | Female | 2      | 12     | 18.5   |  8827  | 2177   |  TRUE  | \n",
       "| 974 | Female | 4      | 17     |  0.0   |     0  |    0   |  TRUE  | \n",
       "| 975 | Female | 1      | 16     |  0.0   |     0  | 1117   |  TRUE  | \n",
       "| 976 | Female | 4      | 16     | 19.0   | 18658  | 6064   |  TRUE  | \n",
       "| 977 | Female | 4      | 15     |  0.0   |     0  | 5790   |  TRUE  | \n",
       "| 981 | Female | 2      | 14     | 20.5   |  8687  | 2315   |  TRUE  | \n",
       "| 983 | Female | 3      | 17     |  0.0   |     0  | 2099   |  TRUE  | \n",
       "| 984 | Female | 3      | 14     | 17.0   | 12704  | 4590   |  TRUE  | \n",
       "| 985 | Female | 4      | 14     |  0.0   |     0  | 6269   |  TRUE  | \n",
       "| 986 | Female | 3      | 16     | 19.0   | 12224  | 8030   |  TRUE  | \n",
       "| 987 | Female | 1      | 18     |  0.0   |     0  | 1431   |  TRUE  | \n",
       "| 988 | Female | 1      | 18     |  0.0   |     0  | 1297   |  TRUE  | \n",
       "| 989 | Female | 4      |  8     | 23.5   |     0  | 2589   | FALSE  | \n",
       "| 990 | Female | 4      | 18     |  0.0   | 16080  | 8086   |  TRUE  | \n",
       "| 996 | Female | 1      |  9     | 21.5   |     0  | 1035   | FALSE  | \n",
       "| 998 | Female | 2      | 14     |  0.0   |  6423  | 1962   |  TRUE  | \n",
       "\n",
       "\n"
      ],
      "text/plain": [
       "    Gender Class Hours Work Loans CC.Debt FS   \n",
       "1   Female 2     14     0.0     0 2377     TRUE\n",
       "2   Female 4     16     0.0     0 7040     TRUE\n",
       "3   Female 2      9    28.5  7982 2481    FALSE\n",
       "4   Female 2     16     0.0     0    0     TRUE\n",
       "5   Female 3      8    33.0 13051 6146    FALSE\n",
       "8   Female 1     14    19.0  3815 1294     TRUE\n",
       "9   Female 3     11    18.5 14885 2292    FALSE\n",
       "10  Female 3     17    14.0 11766 3636     TRUE\n",
       "12  Female 1     18     0.0  4543    0     TRUE\n",
       "13  Female 3     12     0.0 12066 4733     TRUE\n",
       "16  Female 2     14    15.5  9118 2490     TRUE\n",
       "17  Female 1     14    10.5  3927 1272     TRUE\n",
       "18  Female 1      9    25.5     0 1304    FALSE\n",
       "20  Female 3     19     0.0     0 2326     TRUE\n",
       "22  Female 3      6    34.5 11623 3484    FALSE\n",
       "23  Female 1     16     0.0     0 1209     TRUE\n",
       "24  Female 3     12     0.0     0    0     TRUE\n",
       "27  Female 3     15    19.0     0 2291     TRUE\n",
       "29  Female 1     15     0.0  4515 1120     TRUE\n",
       "30  Female 4      3    35.5     0 7893    FALSE\n",
       "31  Female 1     15     0.0     0 1355     TRUE\n",
       "32  Female 1     15     0.0     0 1071     TRUE\n",
       "35  Female 4     10    26.5     0 2377    FALSE\n",
       "36  Female 4      3     0.0     0 6560    FALSE\n",
       "37  Female 4     12     0.0     0 6204     TRUE\n",
       "38  Female 2     11    22.5  8131 1896    FALSE\n",
       "39  Female 2     14    21.0     0 2952     TRUE\n",
       "40  Female 1     16     0.0     0    0     TRUE\n",
       "42  Female 2     15    16.0  8292 2514     TRUE\n",
       "43  Female 4      3    33.0 14360 6756    FALSE\n",
       "⋮   ⋮      ⋮     ⋮     ⋮    ⋮     ⋮       ⋮    \n",
       "951 Female 4     17     0.0 17608 6983     TRUE\n",
       "952 Female 1     15     0.0     0 1215     TRUE\n",
       "953 Female 3     11    22.0 11096 2821    FALSE\n",
       "954 Female 4      5    32.5 15233 4462    FALSE\n",
       "955 Female 2     16     0.0     0 2667     TRUE\n",
       "956 Female 2     14    19.5  8514 2304     TRUE\n",
       "958 Female 2     15    13.5  8215 2293     TRUE\n",
       "959 Female 4     11    20.5 15270    0    FALSE\n",
       "960 Female 3     17    12.0 12626 4105     TRUE\n",
       "961 Female 4     17     0.0     0 5236     TRUE\n",
       "963 Female 4      7    31.5 15761 3450    FALSE\n",
       "964 Female 2     13     0.0     0 1684     TRUE\n",
       "965 Female 2      9    23.5  7846 2320    FALSE\n",
       "966 Female 2     13     0.0     0 1617     TRUE\n",
       "969 Female 2     12    18.5  8827 2177     TRUE\n",
       "974 Female 4     17     0.0     0    0     TRUE\n",
       "975 Female 1     16     0.0     0 1117     TRUE\n",
       "976 Female 4     16    19.0 18658 6064     TRUE\n",
       "977 Female 4     15     0.0     0 5790     TRUE\n",
       "981 Female 2     14    20.5  8687 2315     TRUE\n",
       "983 Female 3     17     0.0     0 2099     TRUE\n",
       "984 Female 3     14    17.0 12704 4590     TRUE\n",
       "985 Female 4     14     0.0     0 6269     TRUE\n",
       "986 Female 3     16    19.0 12224 8030     TRUE\n",
       "987 Female 1     18     0.0     0 1431     TRUE\n",
       "988 Female 1     18     0.0     0 1297     TRUE\n",
       "989 Female 4      8    23.5     0 2589    FALSE\n",
       "990 Female 4     18     0.0 16080 8086     TRUE\n",
       "996 Female 1      9    21.5     0 1035    FALSE\n",
       "998 Female 2     14     0.0  6423 1962     TRUE"
      ]
     },
     "metadata": {},
     "output_type": "display_data"
    }
   ],
   "source": [
    "data[data$Gender == 'Female',]"
   ]
  },
  {
   "cell_type": "code",
   "execution_count": 16,
   "metadata": {
    "collapsed": true
   },
   "outputs": [],
   "source": [
    "data$FS = data$Hours >= 12"
   ]
  },
  {
   "cell_type": "code",
   "execution_count": 24,
   "metadata": {},
   "outputs": [
    {
     "data": {
      "text/html": [
       "<ol class=list-inline>\n",
       "\t<li>482</li>\n",
       "\t<li>103</li>\n",
       "\t<li>333</li>\n",
       "\t<li>82</li>\n",
       "</ol>\n"
      ],
      "text/latex": [
       "\\begin{enumerate*}\n",
       "\\item 482\n",
       "\\item 103\n",
       "\\item 333\n",
       "\\item 82\n",
       "\\end{enumerate*}\n"
      ],
      "text/markdown": [
       "1. 482\n",
       "2. 103\n",
       "3. 333\n",
       "4. 82\n",
       "\n",
       "\n"
      ],
      "text/plain": [
       "[1] 482 103 333  82"
      ]
     },
     "metadata": {},
     "output_type": "display_data"
    },
    {
     "data": {
      "text/plain": [
       "        \n",
       "         FALSE TRUE\n",
       "  Female   103  482\n",
       "  Male      82  333"
      ]
     },
     "metadata": {},
     "output_type": "display_data"
    }
   ],
   "source": [
    "n1p1 = sum(data[data$Gender == 'Female',]$FS)\n",
    "n11mp1 = sum(data$Gender == 'Female')-n1p1\n",
    "n2p2 = sum(data[data$Gender == 'Male',]$FS)\n",
    "n21mp2 = sum(data$Gender == 'Male')-n2p2\n",
    "c(n1p1,n11mp1,n2p2,n21mp2)\n",
    "#table(n1p1,n11mp1,n2p2,n21mp2)\n",
    "table(data$Gender,data$FS)"
   ]
  },
  {
   "cell_type": "code",
   "execution_count": null,
   "metadata": {
    "collapsed": true
   },
   "outputs": [],
   "source": []
  }
 ],
 "metadata": {
  "kernelspec": {
   "display_name": "R",
   "language": "R",
   "name": "ir"
  },
  "language_info": {
   "codemirror_mode": "r",
   "file_extension": ".r",
   "mimetype": "text/x-r-source",
   "name": "R",
   "pygments_lexer": "r",
   "version": "3.4.0"
  }
 },
 "nbformat": 4,
 "nbformat_minor": 2
}
