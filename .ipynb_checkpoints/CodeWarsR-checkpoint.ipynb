{
 "cells": [
  {
   "cell_type": "code",
   "execution_count": 83,
   "metadata": {
    "collapsed": true
   },
   "outputs": [],
   "source": [
    "#https://www.codewars.com/kata/554a44516729e4d80b000012/train/r\n",
    "nbMonths <- function(priceOld, priceNew, saving, loss) {\n",
    "    # your code\n",
    "    totalSavings <- 0\n",
    "    loss <- loss/100\n",
    "    a <- 0\n",
    "    print(c(a,priceOld + totalSavings,priceNew,loss))\n",
    "    while (priceOld + totalSavings < priceNew){\n",
    "        if ((a+1) %% 2 == 0) {\n",
    "            loss <- loss * (1.005)\n",
    "        }\n",
    "        totalSavings <- totalSavings + saving\n",
    "        priceOld <- priceOld * (1 - loss)\n",
    "        priceNew <- priceNew * (1 - loss)\n",
    "        \n",
    "        \n",
    "        \n",
    "        print(c(a,priceOld + totalSavings,priceNew,loss))\n",
    "        a <- a + 1\n",
    "    }\n",
    "    \n",
    "    leftOver <- round(priceOld + totalSavings - priceNew)\n",
    "    \n",
    "    return(c(a,leftOver))\n",
    "}"
   ]
  },
  {
   "cell_type": "code",
   "execution_count": 84,
   "metadata": {},
   "outputs": [
    {
     "name": "stdout",
     "output_type": "stream",
     "text": [
      "[1] 0.0e+00 2.0e+03 8.0e+03 1.5e-02\n",
      "[1]    0.000 2970.000 7880.000    0.015\n",
      "[1]    1.000000 3940.302250 7761.209000    0.015075\n",
      "[1]    2.000000 4911.052194 7644.208774    0.015075\n",
      "[1] 3.000000e+00 5.882099e+03 7.528396e+03 1.515037e-02\n",
      "[1] 4.000000e+00 6.853585e+03 7.414338e+03 1.515037e-02\n",
      "[1] 5.000000e+00 7.825362e+03 7.301446e+03 1.522613e-02\n"
     ]
    },
    {
     "data": {
      "text/html": [
       "<ol class=list-inline>\n",
       "\t<li>6</li>\n",
       "\t<li>524</li>\n",
       "</ol>\n"
      ],
      "text/latex": [
       "\\begin{enumerate*}\n",
       "\\item 6\n",
       "\\item 524\n",
       "\\end{enumerate*}\n"
      ],
      "text/markdown": [
       "1. 6\n",
       "2. 524\n",
       "\n",
       "\n"
      ],
      "text/plain": [
       "[1]   6 524"
      ]
     },
     "metadata": {},
     "output_type": "display_data"
    }
   ],
   "source": [
    "nbMonths(2000, 8000, 1000, 1.5)"
   ]
  },
  {
   "cell_type": "code",
   "execution_count": 78,
   "metadata": {},
   "outputs": [
    {
     "data": {
      "text/html": [
       "<ol class=list-inline>\n",
       "\t<li>0</li>\n",
       "\t<li>4000</li>\n",
       "</ol>\n"
      ],
      "text/latex": [
       "\\begin{enumerate*}\n",
       "\\item 0\n",
       "\\item 4000\n",
       "\\end{enumerate*}\n"
      ],
      "text/markdown": [
       "1. 0\n",
       "2. 4000\n",
       "\n",
       "\n"
      ],
      "text/plain": [
       "[1]    0 4000"
      ]
     },
     "metadata": {},
     "output_type": "display_data"
    }
   ],
   "source": [
    "nbMonths(12000, 8000, 1000, 1.5)"
   ]
  },
  {
   "cell_type": "code",
   "execution_count": 65,
   "metadata": {},
   "outputs": [
    {
     "name": "stdout",
     "output_type": "stream",
     "text": [
      "[1]     1.00  8420.00 12000.00     0.01\n",
      "[1]     2.00  8840.80 12000.00     0.01\n",
      "[1]     3.00000  9262.39200 12000.00000     0.01005\n",
      "[1]     4.00000  9684.37996 12000.00000     0.01005\n",
      "[1] 5.000000e+00 1.010715e+04 1.200000e+04 1.010025e-02\n",
      "[1] 6.000000e+00 1.053032e+04 1.200000e+04 1.010025e-02\n",
      "[1] 7.000000e+00 1.095426e+04 1.200000e+04 1.015075e-02\n",
      "[1] 8.000000e+00 1.137859e+04 1.200000e+04 1.015075e-02\n",
      "[1] 9.000000e+00 1.180370e+04 1.200000e+04 1.020151e-02\n",
      "[1] 1.000000e+01 1.222919e+04 1.200000e+04 1.020151e-02\n"
     ]
    },
    {
     "data": {
      "text/html": [
       "<ol class=list-inline>\n",
       "\t<li>9</li>\n",
       "\t<li>229</li>\n",
       "</ol>\n"
      ],
      "text/latex": [
       "\\begin{enumerate*}\n",
       "\\item 9\n",
       "\\item 229\n",
       "\\end{enumerate*}\n"
      ],
      "text/markdown": [
       "1. 9\n",
       "2. 229\n",
       "\n",
       "\n"
      ],
      "text/plain": [
       "[1]   9 229"
      ]
     },
     "metadata": {},
     "output_type": "display_data"
    }
   ],
   "source": [
    "nbMonths(8000, 12000, 500, 1.0)"
   ]
  },
  {
   "cell_type": "code",
   "execution_count": 89,
   "metadata": {},
   "outputs": [
    {
     "data": {
      "text/html": [
       "0"
      ],
      "text/latex": [
       "0"
      ],
      "text/markdown": [
       "0"
      ],
      "text/plain": [
       "[1] 0"
      ]
     },
     "metadata": {},
     "output_type": "display_data"
    }
   ],
   "source": [
    "1 %% 1\n"
   ]
  },
  {
   "cell_type": "code",
   "execution_count": 105,
   "metadata": {
    "collapsed": true
   },
   "outputs": [],
   "source": [
    "nbYear <- function (p0, percent, aug, p) {\n",
    "  #♥ your code\n",
    "    \n",
    "  n_years <- 1\n",
    "  pop <- p0\n",
    "  while (pop < p && n_years >= 1){\n",
    "    sumz = 0\n",
    "    for (n in seq(1,n_years)) {\n",
    "        sumz <- sumz + (1+percent/100)^n\n",
    "    }\n",
    "    pop <- p0*(1+percent/100)^n_years + aug*sumz\n",
    "    print(pop)\n",
    "    n_years <- n_years + 1\n",
    "  }\n",
    "  return(n_years)\n",
    "}"
   ]
  },
  {
   "cell_type": "code",
   "execution_count": 106,
   "metadata": {},
   "outputs": [
    {
     "name": "stdout",
     "output_type": "stream",
     "text": [
      "[1] 1680\n",
      "[1] 1869\n",
      "[1] 2067.45\n",
      "[1] 2275.823\n",
      "[1] 2494.614\n",
      "[1] 2724.344\n",
      "[1] 2965.562\n",
      "[1] 3218.84\n",
      "[1] 3484.782\n",
      "[1] 3764.021\n",
      "[1] 4057.222\n",
      "[1] 4365.083\n",
      "[1] 4688.337\n",
      "[1] 5027.754\n"
     ]
    },
    {
     "data": {
      "text/html": [
       "15"
      ],
      "text/latex": [
       "15"
      ],
      "text/markdown": [
       "15"
      ],
      "text/plain": [
       "[1] 15"
      ]
     },
     "metadata": {},
     "output_type": "display_data"
    }
   ],
   "source": [
    "nbYear(1500, 5, 100, 5000)"
   ]
  },
  {
   "cell_type": "code",
   "execution_count": null,
   "metadata": {
    "collapsed": true
   },
   "outputs": [],
   "source": [
    "nbYear <- function (p0, percent, aug, p) {\n",
    "  #♥ your code\n",
    "  n_years <- 0\n",
    "  pop <- p0\n",
    "  while (pop < p){\n",
    "    pop <- pop*(1+percent/100) + aug\n",
    "    n_years <- n_years + 1\n",
    "  }\n",
    "  return(n_years)\n",
    "}"
   ]
  },
  {
   "cell_type": "code",
   "execution_count": 115,
   "metadata": {},
   "outputs": [
    {
     "ename": "ERROR",
     "evalue": "Error in list.append(data, as.vector(strsplit(line, \"\", \"\"))): could not find function \"list.append\"\n",
     "output_type": "error",
     "traceback": [
      "Error in list.append(data, as.vector(strsplit(line, \"\", \"\"))): could not find function \"list.append\"\nTraceback:\n"
     ]
    }
   ],
   "source": [
    "data <- list()\n",
    "for (line in strsplit('abcd\\nefgh\\nijkl\\nmnop','\\n')) {\n",
    "    list.append(data,as.vector(strsplit(line,'','')))\n",
    "    \n",
    "}\n",
    "\n"
   ]
  },
  {
   "cell_type": "code",
   "execution_count": 175,
   "metadata": {},
   "outputs": [
    {
     "name": "stdout",
     "output_type": "stream",
     "text": [
      "[[1]]\n",
      "[1] \"abcd\" \"efgh\" \"ijkl\" \"mnop\"\n",
      "\n",
      "     [,1] [,2] [,3] [,4]\n",
      "[1,] \"a\"  \"b\"  \"c\"  \"d\" \n",
      "[2,] \"e\"  \"f\"  \"g\"  \"h\" \n",
      "[3,] \"i\"  \"j\"  \"k\"  \"l\" \n",
      "[4,] \"m\"  \"n\"  \"o\"  \"p\" \n"
     ]
    },
    {
     "data": {
      "text/html": [
       "'miea'"
      ],
      "text/latex": [
       "'miea'"
      ],
      "text/markdown": [
       "'miea'"
      ],
      "text/plain": [
       "[1] \"miea\""
      ]
     },
     "metadata": {},
     "output_type": "display_data"
    },
    {
     "data": {
      "text/html": [
       "'ponm\\nlkji\\nhgfe\\ndcba'"
      ],
      "text/latex": [
       "'ponm\\textbackslash{}nlkji\\textbackslash{}nhgfe\\textbackslash{}ndcba'"
      ],
      "text/markdown": [
       "'ponm\\nlkji\\nhgfe\\ndcba'"
      ],
      "text/plain": [
       "[1] \"ponm\\nlkji\\nhgfe\\ndcba\""
      ]
     },
     "metadata": {},
     "output_type": "display_data"
    },
    {
     "data": {
      "text/html": [
       "'abcd\\nefgh\\nijkl\\nmnop'"
      ],
      "text/latex": [
       "'abcd\\textbackslash{}nefgh\\textbackslash{}nijkl\\textbackslash{}nmnop'"
      ],
      "text/markdown": [
       "'abcd\\nefgh\\nijkl\\nmnop'"
      ],
      "text/plain": [
       "[1] \"abcd\\nefgh\\nijkl\\nmnop\""
      ]
     },
     "metadata": {},
     "output_type": "display_data"
    }
   ],
   "source": [
    "#library(stringr)\n",
    "\n",
    "line <- 'abcd\\nefgh\\nijkl\\nmnop'\n",
    "lineVectors <- strsplit(line,'\\n','')\n",
    "#for (i in seq(1,4)){\n",
    "#    print(lineVectors[[1]][i])\n",
    "#    print(strsplit(lineVectors[[1]][i],'',''))\n",
    "#    lineVectors[[1]][i] <- strsplit(lineVectors[[1]][i],'','')\n",
    "#    \n",
    "#}\n",
    "print(lineVectors)\n",
    "strMat <- strsplit(gsub(\"[\\r\\n]\", \"\", line),'','')[[1]]\n",
    "\n",
    "#charMat <- as.matrix(strMat,nrow=4,ncol=4)\n",
    "dim(strMat) <- c(4,4)\n",
    "strMat <- t(strMat)\n",
    "print(strMat)\n",
    "\n",
    "paste(rev(strMat[ , 1]),collapse='')\n",
    "a=line\n",
    "paste(rev(substring(line,1:nchar(line),1:nchar(line))),collapse=\"\") \n",
    "paste(rev(strsplit(line,'',''))[[1]],collapse='')\n",
    "#print(matrix(strMat),nrows=4)"
   ]
  },
  {
   "cell_type": "code",
   "execution_count": 204,
   "metadata": {
    "collapsed": true
   },
   "outputs": [],
   "source": [
    "#https://www.codewars.com/trainer/r Moves in squared strings (II) https://cran.r-project.org/web/packages/stringr/vignettes/stringr.html\n",
    "rot <- function(s) {\n",
    "    # your code\n",
    "    return(paste(rev(substring(s,1:nchar(s),1:nchar(s))),collapse=\"\"))\n",
    "}\n",
    "selfieAndRot <- function(s) {\n",
    "    # your code\n",
    "    l = sum(str_count(s,'\\n'))+1\n",
    "    lineVectors <- strsplit(line,'\\n','')\n",
    "    selfie <- paste(lineVectors,collapse=paste(c(rep('.',times=l),'\\n'),collapse=''))\n",
    "    selfie <- paste(c(selfie,paste(rep('.',times=l),collapse='')),collapse='')\n",
    "    print(selfie)\n",
    "    rotLineVectors <- strsplit(rot(s),'\\n','')\n",
    "    rotLine <- paste(rotLineVectors,collapse=paste(c('\\n',rep('.',times=l)),collapse=''))\n",
    "    return(paste(c(selfie,rotLine),collapse=paste(c('\\n',rep('.',times=l)),collapse='')))\n",
    "    #print(l)\n",
    "    #return(paste(c(gsub('\\n',paste(c(rep('.',times=l),'\\n'),collapse=''),s),\n",
    "    #               gsub('\\n',paste(c('\\n',rep('.',times=l)),collapse='')),paste(rev(substring(s,1:nchar(s),1:nchar(s))),collapse=\"\")\n",
    "    #              ),collapse=paste(rep('.',times=l),collapse='')))\n",
    "    #strMat <- strsplit(gsub(\"[\\r\\n]\", \"\", s),'','')[[1]]\n",
    "    #dim(strMat) = c(4,4)\n",
    "    #strMat <- t(strMat)\n",
    "    \n",
    "}\n",
    "oper <- function(f, s) {\n",
    "    # your code\n",
    "}"
   ]
  },
  {
   "cell_type": "code",
   "execution_count": 205,
   "metadata": {},
   "outputs": [
    {
     "name": "stdout",
     "output_type": "stream",
     "text": [
      "[1] \"c(\\\"abcd\\\", \\\"efgh\\\", \\\"ijkl\\\", \\\"mnop\\\")....\"\n"
     ]
    },
    {
     "data": {
      "text/html": [
       "'c(\"abcd\", \"efgh\", \"ijkl\", \"mnop\")....\\n....c(\"ponm\", \"lkji\", \"hgfe\", \"dcba\")'"
      ],
      "text/latex": [
       "'c(\"abcd\", \"efgh\", \"ijkl\", \"mnop\")....\\textbackslash{}n....c(\"ponm\", \"lkji\", \"hgfe\", \"dcba\")'"
      ],
      "text/markdown": [
       "'c(\"abcd\", \"efgh\", \"ijkl\", \"mnop\")....\\n....c(\"ponm\", \"lkji\", \"hgfe\", \"dcba\")'"
      ],
      "text/plain": [
       "[1] \"c(\\\"abcd\\\", \\\"efgh\\\", \\\"ijkl\\\", \\\"mnop\\\")....\\n....c(\\\"ponm\\\", \\\"lkji\\\", \\\"hgfe\\\", \\\"dcba\\\")\""
      ]
     },
     "metadata": {},
     "output_type": "display_data"
    }
   ],
   "source": [
    "selfieAndRot('abcd\\nefgh\\nijkl\\nmnop')"
   ]
  },
  {
   "cell_type": "code",
   "execution_count": 194,
   "metadata": {
    "collapsed": true
   },
   "outputs": [],
   "source": [
    "library(stringr)"
   ]
  },
  {
   "cell_type": "code",
   "execution_count": null,
   "metadata": {
    "collapsed": true
   },
   "outputs": [],
   "source": []
  }
 ],
 "metadata": {
  "kernelspec": {
   "display_name": "R",
   "language": "R",
   "name": "ir"
  },
  "language_info": {
   "codemirror_mode": "r",
   "file_extension": ".r",
   "mimetype": "text/x-r-source",
   "name": "R",
   "pygments_lexer": "r",
   "version": "3.4.0"
  }
 },
 "nbformat": 4,
 "nbformat_minor": 2
}
