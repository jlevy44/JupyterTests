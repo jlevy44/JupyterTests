{
 "cells": [
  {
   "cell_type": "code",
   "execution_count": 42,
   "metadata": {},
   "outputs": [
    {
     "name": "stderr",
     "output_type": "stream",
     "text": [
      "also installing the dependencies ‘backports’, ‘rprojroot’, ‘rmarkdown’\n",
      "\n"
     ]
    },
    {
     "name": "stdout",
     "output_type": "stream",
     "text": [
      "\n",
      "The downloaded binary packages are in\n",
      "\t/var/folders/mj/jyvlrh717hdgms0mf1vy_8g80000gn/T//RtmpbuIG40/downloaded_packages\n"
     ]
    },
    {
     "ename": "ERROR",
     "evalue": "Error in formattable(scores): object 'scores' not found\n",
     "output_type": "error",
     "traceback": [
      "Error in formattable(scores): object 'scores' not found\nTraceback:\n",
      "1. formattable(scores)"
     ]
    }
   ],
   "source": [
    "help(sample)\n",
    "install.packages(\"formattable\")\n",
    "library(formattable)\n",
    "#formattable(scores)"
   ]
  },
  {
   "cell_type": "code",
   "execution_count": 16,
   "metadata": {},
   "outputs": [
    {
     "data": {
      "text/html": [
       "<ol class=list-inline>\n",
       "\t<li>1</li>\n",
       "\t<li>1</li>\n",
       "\t<li>0</li>\n",
       "\t<li>1</li>\n",
       "\t<li>0</li>\n",
       "\t<li>1</li>\n",
       "\t<li>0</li>\n",
       "\t<li>1</li>\n",
       "\t<li>0</li>\n",
       "\t<li>0</li>\n",
       "</ol>\n"
      ],
      "text/latex": [
       "\\begin{enumerate*}\n",
       "\\item 1\n",
       "\\item 1\n",
       "\\item 0\n",
       "\\item 1\n",
       "\\item 0\n",
       "\\item 1\n",
       "\\item 0\n",
       "\\item 1\n",
       "\\item 0\n",
       "\\item 0\n",
       "\\end{enumerate*}\n"
      ],
      "text/markdown": [
       "1. 1\n",
       "2. 1\n",
       "3. 0\n",
       "4. 1\n",
       "5. 0\n",
       "6. 1\n",
       "7. 0\n",
       "8. 1\n",
       "9. 0\n",
       "10. 0\n",
       "\n",
       "\n"
      ],
      "text/plain": [
       " [1] 1 1 0 1 0 1 0 1 0 0"
      ]
     },
     "metadata": {},
     "output_type": "display_data"
    }
   ],
   "source": [
    "sample(0:1,10,replace=TRUE)"
   ]
  },
  {
   "cell_type": "code",
   "execution_count": 18,
   "metadata": {},
   "outputs": [
    {
     "data": {
      "text/html": [
       "<table>\n",
       "<thead><tr><th scope=col>classifier1_correct</th><th scope=col>classifier2_correct</th></tr></thead>\n",
       "<tbody>\n",
       "\t<tr><td>1</td><td>0</td></tr>\n",
       "\t<tr><td>1</td><td>1</td></tr>\n",
       "\t<tr><td>1</td><td>0</td></tr>\n",
       "\t<tr><td>1</td><td>1</td></tr>\n",
       "\t<tr><td>0</td><td>0</td></tr>\n",
       "\t<tr><td>0</td><td>0</td></tr>\n",
       "\t<tr><td>0</td><td>0</td></tr>\n",
       "\t<tr><td>1</td><td>1</td></tr>\n",
       "\t<tr><td>1</td><td>1</td></tr>\n",
       "\t<tr><td>0</td><td>1</td></tr>\n",
       "</tbody>\n",
       "</table>\n"
      ],
      "text/latex": [
       "\\begin{tabular}{r|ll}\n",
       " classifier1\\_correct & classifier2\\_correct\\\\\n",
       "\\hline\n",
       "\t 1 & 0\\\\\n",
       "\t 1 & 1\\\\\n",
       "\t 1 & 0\\\\\n",
       "\t 1 & 1\\\\\n",
       "\t 0 & 0\\\\\n",
       "\t 0 & 0\\\\\n",
       "\t 0 & 0\\\\\n",
       "\t 1 & 1\\\\\n",
       "\t 1 & 1\\\\\n",
       "\t 0 & 1\\\\\n",
       "\\end{tabular}\n"
      ],
      "text/markdown": [
       "\n",
       "classifier1_correct | classifier2_correct | \n",
       "|---|---|---|---|---|---|---|---|---|---|\n",
       "| 1 | 0 | \n",
       "| 1 | 1 | \n",
       "| 1 | 0 | \n",
       "| 1 | 1 | \n",
       "| 0 | 0 | \n",
       "| 0 | 0 | \n",
       "| 0 | 0 | \n",
       "| 1 | 1 | \n",
       "| 1 | 1 | \n",
       "| 0 | 1 | \n",
       "\n",
       "\n"
      ],
      "text/plain": [
       "   classifier1_correct classifier2_correct\n",
       "1  1                   0                  \n",
       "2  1                   1                  \n",
       "3  1                   0                  \n",
       "4  1                   1                  \n",
       "5  0                   0                  \n",
       "6  0                   0                  \n",
       "7  0                   0                  \n",
       "8  1                   1                  \n",
       "9  1                   1                  \n",
       "10 0                   1                  "
      ]
     },
     "metadata": {},
     "output_type": "display_data"
    }
   ],
   "source": [
    "data.frame(classifier1_correct=sample(0:1,10,replace=TRUE),classifier2_correct=sample(0:1,10,replace=TRUE))"
   ]
  },
  {
   "cell_type": "code",
   "execution_count": 47,
   "metadata": {},
   "outputs": [
    {
     "name": "stderr",
     "output_type": "stream",
     "text": [
      "\n",
      "Attaching package: ‘xtable’\n",
      "\n",
      "The following object is masked from ‘package:formattable’:\n",
      "\n",
      "    digits\n",
      "\n"
     ]
    }
   ],
   "source": [
    "#install.packages(\"xtable\")\n",
    "library(xtable)\n"
   ]
  },
  {
   "cell_type": "code",
   "execution_count": 29,
   "metadata": {
    "collapsed": true
   },
   "outputs": [],
   "source": [
    "data=data.frame(actual_digits=sample(0:9,10,replace=TRUE),classifier1_output=sample(0:9,10,replace=TRUE),classifier2_output=sample(0:9,10,replace=TRUE))\n",
    "data$classifier1_correct = as.integer(data$actual_digits == data$classifier1_output)\n",
    "data$classifier2_correct = as.integer(data$actual_digits == data$classifier2_output)"
   ]
  },
  {
   "cell_type": "code",
   "execution_count": 30,
   "metadata": {},
   "outputs": [
    {
     "data": {
      "text/html": [
       "<table>\n",
       "<thead><tr><th scope=col>actual_digits</th><th scope=col>classifier1_output</th><th scope=col>classifier2_output</th><th scope=col>classifier1_correct</th><th scope=col>classifier2_correct</th></tr></thead>\n",
       "<tbody>\n",
       "\t<tr><td>0</td><td>5</td><td>2</td><td>0</td><td>0</td></tr>\n",
       "\t<tr><td>2</td><td>0</td><td>7</td><td>0</td><td>0</td></tr>\n",
       "\t<tr><td>8</td><td>4</td><td>8</td><td>0</td><td>1</td></tr>\n",
       "\t<tr><td>0</td><td>5</td><td>0</td><td>0</td><td>1</td></tr>\n",
       "\t<tr><td>4</td><td>6</td><td>4</td><td>0</td><td>1</td></tr>\n",
       "\t<tr><td>9</td><td>1</td><td>4</td><td>0</td><td>0</td></tr>\n",
       "\t<tr><td>7</td><td>9</td><td>9</td><td>0</td><td>0</td></tr>\n",
       "\t<tr><td>2</td><td>0</td><td>6</td><td>0</td><td>0</td></tr>\n",
       "\t<tr><td>5</td><td>5</td><td>5</td><td>1</td><td>1</td></tr>\n",
       "\t<tr><td>9</td><td>1</td><td>0</td><td>0</td><td>0</td></tr>\n",
       "</tbody>\n",
       "</table>\n"
      ],
      "text/latex": [
       "\\begin{tabular}{r|lllll}\n",
       " actual\\_digits & classifier1\\_output & classifier2\\_output & classifier1\\_correct & classifier2\\_correct\\\\\n",
       "\\hline\n",
       "\t 0 & 5 & 2 & 0 & 0\\\\\n",
       "\t 2 & 0 & 7 & 0 & 0\\\\\n",
       "\t 8 & 4 & 8 & 0 & 1\\\\\n",
       "\t 0 & 5 & 0 & 0 & 1\\\\\n",
       "\t 4 & 6 & 4 & 0 & 1\\\\\n",
       "\t 9 & 1 & 4 & 0 & 0\\\\\n",
       "\t 7 & 9 & 9 & 0 & 0\\\\\n",
       "\t 2 & 0 & 6 & 0 & 0\\\\\n",
       "\t 5 & 5 & 5 & 1 & 1\\\\\n",
       "\t 9 & 1 & 0 & 0 & 0\\\\\n",
       "\\end{tabular}\n"
      ],
      "text/markdown": [
       "\n",
       "actual_digits | classifier1_output | classifier2_output | classifier1_correct | classifier2_correct | \n",
       "|---|---|---|---|---|---|---|---|---|---|\n",
       "| 0 | 5 | 2 | 0 | 0 | \n",
       "| 2 | 0 | 7 | 0 | 0 | \n",
       "| 8 | 4 | 8 | 0 | 1 | \n",
       "| 0 | 5 | 0 | 0 | 1 | \n",
       "| 4 | 6 | 4 | 0 | 1 | \n",
       "| 9 | 1 | 4 | 0 | 0 | \n",
       "| 7 | 9 | 9 | 0 | 0 | \n",
       "| 2 | 0 | 6 | 0 | 0 | \n",
       "| 5 | 5 | 5 | 1 | 1 | \n",
       "| 9 | 1 | 0 | 0 | 0 | \n",
       "\n",
       "\n"
      ],
      "text/plain": [
       "   actual_digits classifier1_output classifier2_output classifier1_correct\n",
       "1  0             5                  2                  0                  \n",
       "2  2             0                  7                  0                  \n",
       "3  8             4                  8                  0                  \n",
       "4  0             5                  0                  0                  \n",
       "5  4             6                  4                  0                  \n",
       "6  9             1                  4                  0                  \n",
       "7  7             9                  9                  0                  \n",
       "8  2             0                  6                  0                  \n",
       "9  5             5                  5                  1                  \n",
       "10 9             1                  0                  0                  \n",
       "   classifier2_correct\n",
       "1  0                  \n",
       "2  0                  \n",
       "3  1                  \n",
       "4  1                  \n",
       "5  1                  \n",
       "6  0                  \n",
       "7  0                  \n",
       "8  0                  \n",
       "9  1                  \n",
       "10 0                  "
      ]
     },
     "metadata": {},
     "output_type": "display_data"
    }
   ],
   "source": [
    "data"
   ]
  },
  {
   "cell_type": "code",
   "execution_count": 50,
   "metadata": {
    "collapsed": true
   },
   "outputs": [],
   "source": [
    "tab = xtable(table(data$classifier1_correct,data$classifier2_correct))"
   ]
  },
  {
   "cell_type": "code",
   "execution_count": 54,
   "metadata": {
    "collapsed": true
   },
   "outputs": [],
   "source": [
    "rownames(tab) = c('classifier1_fail','classifier1_sucess')\n",
    "colnames(tab) = c('classifier2_fail','classifier2_sucess')"
   ]
  },
  {
   "cell_type": "code",
   "execution_count": 55,
   "metadata": {},
   "outputs": [
    {
     "data": {
      "text/html": [
       "<table>\n",
       "<thead><tr><th></th><th scope=col>classifier2_fail</th><th scope=col>classifier2_sucess</th></tr></thead>\n",
       "<tbody>\n",
       "\t<tr><th scope=row>classifier1_fail</th><td>6</td><td>3</td></tr>\n",
       "\t<tr><th scope=row>classifier1_sucess</th><td>0</td><td>1</td></tr>\n",
       "</tbody>\n",
       "</table>\n"
      ],
      "text/latex": [
       "\\begin{tabular}{r|ll}\n",
       "  & classifier2\\_fail & classifier2\\_sucess\\\\\n",
       "\\hline\n",
       "\tclassifier1\\_fail & 6 & 3\\\\\n",
       "\tclassifier1\\_sucess & 0 & 1\\\\\n",
       "\\end{tabular}\n"
      ],
      "text/markdown": [
       "\n",
       "| <!--/--> | classifier2_fail | classifier2_sucess | \n",
       "|---|---|\n",
       "| classifier1_fail | 6 | 3 | \n",
       "| classifier1_sucess | 0 | 1 | \n",
       "\n",
       "\n"
      ],
      "text/plain": [
       "                   classifier2_fail classifier2_sucess\n",
       "classifier1_fail   6                3                 \n",
       "classifier1_sucess 0                1                 "
      ]
     },
     "metadata": {},
     "output_type": "display_data"
    }
   ],
   "source": [
    "tab"
   ]
  },
  {
   "cell_type": "code",
   "execution_count": 57,
   "metadata": {},
   "outputs": [
    {
     "data": {
      "text/plain": [
       "\n",
       "\tMcNemar's Chi-squared test with continuity correction\n",
       "\n",
       "data:  data$classifier1_correct and data$classifier2_correct\n",
       "McNemar's chi-squared = 1.3333, df = 1, p-value = 0.2482\n"
      ]
     },
     "metadata": {},
     "output_type": "display_data"
    }
   ],
   "source": [
    "mcnemar.test(data$classifier1_correct,data$classifier2_correct)"
   ]
  },
  {
   "cell_type": "code",
   "execution_count": 60,
   "metadata": {
    "collapsed": true
   },
   "outputs": [],
   "source": [
    "help(sample)"
   ]
  },
  {
   "cell_type": "code",
   "execution_count": 62,
   "metadata": {},
   "outputs": [
    {
     "data": {
      "text/html": [
       "<ol class=list-inline>\n",
       "\t<li>35</li>\n",
       "\t<li>66</li>\n",
       "\t<li>33</li>\n",
       "\t<li>58</li>\n",
       "\t<li>16</li>\n",
       "\t<li>43</li>\n",
       "\t<li>65</li>\n",
       "\t<li>59</li>\n",
       "\t<li>74</li>\n",
       "\t<li>90</li>\n",
       "</ol>\n"
      ],
      "text/latex": [
       "\\begin{enumerate*}\n",
       "\\item 35\n",
       "\\item 66\n",
       "\\item 33\n",
       "\\item 58\n",
       "\\item 16\n",
       "\\item 43\n",
       "\\item 65\n",
       "\\item 59\n",
       "\\item 74\n",
       "\\item 90\n",
       "\\end{enumerate*}\n"
      ],
      "text/markdown": [
       "1. 35\n",
       "2. 66\n",
       "3. 33\n",
       "4. 58\n",
       "5. 16\n",
       "6. 43\n",
       "7. 65\n",
       "8. 59\n",
       "9. 74\n",
       "10. 90\n",
       "\n",
       "\n"
      ],
      "text/plain": [
       " [1] 35 66 33 58 16 43 65 59 74 90"
      ]
     },
     "metadata": {},
     "output_type": "display_data"
    }
   ],
   "source": [
    "sample(0:100,10)"
   ]
  },
  {
   "cell_type": "code",
   "execution_count": 13,
   "metadata": {},
   "outputs": [
    {
     "data": {
      "text/html": [
       "<table>\n",
       "<thead><tr><th scope=col>accuracy_model1</th><th scope=col>accuracy_model2</th><th scope=col>accuracy_diff</th></tr></thead>\n",
       "<tbody>\n",
       "\t<tr><td>73</td><td>63</td><td>10</td></tr>\n",
       "\t<tr><td>71</td><td>49</td><td>22</td></tr>\n",
       "\t<tr><td>62</td><td>58</td><td> 4</td></tr>\n",
       "\t<tr><td>66</td><td>74</td><td>-8</td></tr>\n",
       "\t<tr><td>72</td><td>63</td><td> 9</td></tr>\n",
       "\t<tr><td>69</td><td>58</td><td>11</td></tr>\n",
       "\t<tr><td>70</td><td>38</td><td>32</td></tr>\n",
       "\t<tr><td>52</td><td>52</td><td> 0</td></tr>\n",
       "\t<tr><td>83</td><td>64</td><td>19</td></tr>\n",
       "\t<tr><td>82</td><td>71</td><td>11</td></tr>\n",
       "</tbody>\n",
       "</table>\n"
      ],
      "text/latex": [
       "\\begin{tabular}{r|lll}\n",
       " accuracy\\_model1 & accuracy\\_model2 & accuracy\\_diff\\\\\n",
       "\\hline\n",
       "\t 73 & 63 & 10\\\\\n",
       "\t 71 & 49 & 22\\\\\n",
       "\t 62 & 58 &  4\\\\\n",
       "\t 66 & 74 & -8\\\\\n",
       "\t 72 & 63 &  9\\\\\n",
       "\t 69 & 58 & 11\\\\\n",
       "\t 70 & 38 & 32\\\\\n",
       "\t 52 & 52 &  0\\\\\n",
       "\t 83 & 64 & 19\\\\\n",
       "\t 82 & 71 & 11\\\\\n",
       "\\end{tabular}\n"
      ],
      "text/markdown": [
       "\n",
       "accuracy_model1 | accuracy_model2 | accuracy_diff | \n",
       "|---|---|---|---|---|---|---|---|---|---|\n",
       "| 73 | 63 | 10 | \n",
       "| 71 | 49 | 22 | \n",
       "| 62 | 58 |  4 | \n",
       "| 66 | 74 | -8 | \n",
       "| 72 | 63 |  9 | \n",
       "| 69 | 58 | 11 | \n",
       "| 70 | 38 | 32 | \n",
       "| 52 | 52 |  0 | \n",
       "| 83 | 64 | 19 | \n",
       "| 82 | 71 | 11 | \n",
       "\n",
       "\n"
      ],
      "text/plain": [
       "   accuracy_model1 accuracy_model2 accuracy_diff\n",
       "1  73              63              10           \n",
       "2  71              49              22           \n",
       "3  62              58               4           \n",
       "4  66              74              -8           \n",
       "5  72              63               9           \n",
       "6  69              58              11           \n",
       "7  70              38              32           \n",
       "8  52              52               0           \n",
       "9  83              64              19           \n",
       "10 82              71              11           "
      ]
     },
     "metadata": {},
     "output_type": "display_data"
    }
   ],
   "source": [
    "#data=data.frame(accuracy_model1=sample(0:100,10),accuracy_model2=sample(0:100,10))\n",
    "data=data.frame(accuracy_model1=as.integer(rnorm(10,75,10)),accuracy_model2=as.integer(rnorm(10,65,10)))\n",
    "data$accuracy_diff = data$accuracy_model1 - data$accuracy_model2\n",
    "data"
   ]
  },
  {
   "cell_type": "code",
   "execution_count": 14,
   "metadata": {},
   "outputs": [
    {
     "data": {
      "image/png": "[encoded data removed]",
      "text/plain": [
       "plot without title"
      ]
     },
     "metadata": {},
     "output_type": "display_data"
    }
   ],
   "source": [
    "#plot(hist(data$accuracy_diff))\n",
    "boxplot(data$accuracy_diff)"
   ]
  },
  {
   "cell_type": "code",
   "execution_count": 15,
   "metadata": {},
   "outputs": [
    {
     "data": {
      "text/plain": [
       "\n",
       "\tOne Sample t-test\n",
       "\n",
       "data:  data$accuracy_diff\n",
       "t = 3.0613, df = 9, p-value = 0.006771\n",
       "alternative hypothesis: true mean is greater than 0\n",
       "95 percent confidence interval:\n",
       " 4.413252      Inf\n",
       "sample estimates:\n",
       "mean of x \n",
       "       11 \n"
      ]
     },
     "metadata": {},
     "output_type": "display_data"
    }
   ],
   "source": [
    "t.test(data$accuracy_diff,alternative = 'greater')"
   ]
  },
  {
   "cell_type": "code",
   "execution_count": 16,
   "metadata": {},
   "outputs": [
    {
     "data": {
      "text/plain": [
       "\n",
       "\tPaired t-test\n",
       "\n",
       "data:  data$accuracy_model1 and data$accuracy_model2\n",
       "t = 3.0613, df = 9, p-value = 0.006771\n",
       "alternative hypothesis: true difference in means is greater than 0\n",
       "95 percent confidence interval:\n",
       " 4.413252      Inf\n",
       "sample estimates:\n",
       "mean of the differences \n",
       "                     11 \n"
      ]
     },
     "metadata": {},
     "output_type": "display_data"
    }
   ],
   "source": [
    "t.test(data$accuracy_model1,data$accuracy_model2,alternative = 'greater',paired=T)"
   ]
  },
  {
   "cell_type": "code",
   "execution_count": 5,
   "metadata": {},
   "outputs": [
    {
     "ename": "ERROR",
     "evalue": "Error in data$accuracy_model1: object of type 'closure' is not subsettable\n",
     "output_type": "error",
     "traceback": [
      "Error in data$accuracy_model1: object of type 'closure' is not subsettable\nTraceback:\n"
     ]
    }
   ],
   "source": [
    "data$accuracy_model1\n"
   ]
  },
  {
   "cell_type": "code",
   "execution_count": null,
   "metadata": {
    "collapsed": true
   },
   "outputs": [],
   "source": []
  }
 ],
 "metadata": {
  "kernelspec": {
   "display_name": "R",
   "language": "R",
   "name": "ir"
  },
  "language_info": {
   "codemirror_mode": "r",
   "file_extension": ".r",
   "mimetype": "text/x-r-source",
   "name": "R",
   "pygments_lexer": "r",
   "version": "3.4.0"
  }
 },
 "nbformat": 4,
 "nbformat_minor": 2
}
