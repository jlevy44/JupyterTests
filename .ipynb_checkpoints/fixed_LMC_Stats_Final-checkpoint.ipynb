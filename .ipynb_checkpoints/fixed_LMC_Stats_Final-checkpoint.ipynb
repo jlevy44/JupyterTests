{
 "cells": [
  {
   "cell_type": "code",
   "execution_count": 1,
   "metadata": {
    "collapsed": true
   },
   "outputs": [],
   "source": [
    "from sklearn.datasets import fetch_mldata\n",
    "from collections import Counter\n",
    "import tempfile\n",
    "from six.moves import urllib\n",
    "import pickle\n",
    "test_data_home = tempfile.mkdtemp()\n",
    "try:\n",
    "    mnist = fetch_mldata('MNIST original',data_home=test_data_home)\n",
    "except:\n",
    "    from scipy.io import loadmat\n",
    "    mnist_alternative_url = \"https://github.com/amplab/datascience-sp14/raw/master/lab7/mldata/mnist-original.mat\"\n",
    "    mnist_path = \"./mnist-original.mat\"\n",
    "    response = urllib.request.urlopen(mnist_alternative_url)\n",
    "    with open(mnist_path, \"wb\") as f:\n",
    "        content = response.read()\n",
    "        f.write(content)\n",
    "    mnist_raw = loadmat(mnist_path)\n",
    "    mnist = {\n",
    "        \"data\": mnist_raw[\"data\"].T,\n",
    "        \"target\": mnist_raw[\"label\"][0],\n",
    "        \"COL_NAMES\": [\"label\", \"data\"],\n",
    "        \"DESCR\": \"mldata.org dataset: mnist-original\",\n",
    "    }\n",
    "    pickle.dump(mnist,open('mnist.p'),2)"
   ]
  },
  {
   "cell_type": "code",
   "execution_count": 2,
   "metadata": {},
   "outputs": [
    {
     "name": "stderr",
     "output_type": "stream",
     "text": [
      "/Users/JoshuaLevy/anaconda/envs/py36/lib/python3.6/site-packages/sklearn/utils/validation.py:444: DataConversionWarning:\n",
      "\n",
      "Data with input dtype uint8 was converted to float64 by StandardScaler.\n",
      "\n"
     ]
    },
    {
     "name": "stdout",
     "output_type": "stream",
     "text": [
      "[[83, 81, 80, 86, 85, 84, 77, 86, 79, 84, 82, 85, 84, 83, 83, 82, 77, 84, 91, 82, 72, 81, 78, 79, 82, 86, 87, 82, 77, 83, 78, 76, 85, 87, 84, 81, 86, 81, 84, 85, 83, 82, 81, 80, 79, 82, 81, 79, 83, 89, 89, 81, 81, 79, 82, 81, 79, 80, 80, 87, 81, 91, 79, 89, 89, 83, 76, 82, 86, 81, 85, 82, 83, 80, 81, 81, 86, 78, 84, 86, 87, 83, 82, 85, 93, 79, 82, 83, 87, 76, 80, 79, 78, 82, 76, 82, 80, 76, 83, 82], [81, 82, 83, 88, 82, 92, 87, 85, 79, 83, 88, 83, 83, 91, 83, 81, 78, 80, 83, 88, 76, 83, 79, 83, 85, 91, 86, 87, 84, 87, 82, 89, 85, 86, 86, 81, 89, 82, 84, 86, 88, 78, 79, 88, 79, 82, 83, 81, 91, 87, 81, 84, 86, 85, 87, 89, 83, 81, 87, 88, 79, 89, 82, 89, 91, 89, 85, 83, 86, 84, 84, 82, 82, 82, 90, 83, 90, 89, 91, 86, 86, 91, 83, 89, 84, 84, 85, 88, 81, 85, 88, 83, 76, 88, 84, 85, 82, 71, 83, 85]]\n"
     ]
    }
   ],
   "source": [
    "import numpy as np\n",
    "from sklearn import neighbors, neural_network, preprocessing, decomposition, manifold\n",
    "import plotly.graph_objs as go\n",
    "import plotly.offline as py\n",
    "from sklearn.discriminant_analysis import LinearDiscriminantAnalysis\n",
    "#py.init_notebook_mode(connected=True)\n",
    "\n",
    "shuffled = np.arange(mnist.data.shape[0])\n",
    "np.random.shuffle(shuffled)\n",
    "data = mnist.data[shuffled,:]\n",
    "labels = mnist.target[shuffled]\n",
    "accuracy = [[],[]]\n",
    "N = 10\n",
    "c = ['hsl(' + str(h) + ',50%' + ',50%)' for h in np.linspace(0, 360, N + 1)]\n",
    "for j,i in enumerate(range(0,data.shape[0],700)):\n",
    "    scaler = preprocessing.StandardScaler()\n",
    "    train_data = data[i:i+600]\n",
    "    scaler.fit(train_data)\n",
    "    train_labels = labels[i:i+600]\n",
    "    test_data = data[i+600:i+700]\n",
    "    test_labels = labels[i+600:i+700]\n",
    "    models = [neighbors.KNeighborsClassifier(n_neighbors = 5, weights = 'uniform', metric = 'euclidean'),neural_network.MLPClassifier(hidden_layer_sizes = (50, 100, 50))]\n",
    "    colors = [np.vectorize(lambda x: c[int(x)])(test_labels)]\n",
    "    plot_names = np.vectorize(lambda x: 'Actual Handwritten Digit: %d'%(int(x)))(test_labels)\n",
    "    cluster_names = [np.vectorize(lambda x: 'Found Digit = %d'%(int(x)))(test_labels)]\n",
    "    labels_2 = [test_labels]\n",
    "    for idx, model in enumerate(models):\n",
    "        if idx == 0:\n",
    "            #pca = decomposition.PCA(n_components = 3)\n",
    "            #pca.fit(train_data)\n",
    "            #transformed_test_data = LinearDiscriminantAnalysis(n_components=3).fit(train_data,train_labels).transform(test_data)\n",
    "            #transformed_test_data = pca.transform(test_data)\n",
    "            #pca = decomposition.PCA(n_components = 10).fit(train_data)\n",
    "            #train_data2 = pca.transform(train_data)\n",
    "            #test_data2 = pca.transform(test_data)\n",
    "            transformed_test_data = decomposition.PCA(n_components = 3).fit(train_data).transform(test_data)\n",
    "            #model.fit(train_data2, train_labels)\n",
    "            #labels_predicted = model.predict(test_data2)\n",
    "            #tsne = manifold.TSNE(n_components = 3)\n",
    "            #tsne.fit_transform(t_data)\n",
    "            #transformed_test_data = tsne.transform(test_data)\n",
    "        if idx == 1:\n",
    "            train_data = scaler.transform(train_data)\n",
    "            test_data = scaler.transform(test_data)\n",
    "        model.fit(train_data, train_labels)\n",
    "        labels_predicted = model.predict(test_data)\n",
    "        labels_2.append(labels_predicted)\n",
    "        accuracy[idx].append(sum(labels_predicted == test_labels))\n",
    "        colors.append(np.vectorize(lambda x: c[int(x)])(labels_predicted))\n",
    "        cluster_names.append(np.vectorize(lambda x: 'Found Digit = %d'%(int(x)))(labels_predicted))\n",
    "    #pca = decomposition.PCA(n_components = 3)\n",
    "    #pca.fit(train_data)\n",
    "    #transformed_test_data = pca.transform(test_data)\n",
    "    \n",
    "    sliders_dict = {\n",
    "                'active': 0,\n",
    "                'yanchor': 'top',\n",
    "                'xanchor': 'left',\n",
    "                'currentvalue': {\n",
    "                    'font': {'size': 20},\n",
    "                    'prefix': 'Frame:',\n",
    "                    'visible': True,\n",
    "                    'xanchor': 'right'\n",
    "                },\n",
    "                'transition': {'duration': 300, 'easing': 'cubic-in-out'},\n",
    "                'pad': {'b': 10, 't': 50},\n",
    "                'len': 0.9,\n",
    "                'x': 0.1,\n",
    "                'y': 0,\n",
    "                'steps': [{'args': [\n",
    "            [str(nm)],\n",
    "            {'frame': {'duration': 300, 'redraw': False},\n",
    "             'mode': 'immediate',\n",
    "             'transition': {'duration': 300}}\n",
    "            ],\n",
    "            'label': str(nm),\n",
    "            'method': 'animate'} for nm in ['Actual Handwritten Digits','Nearest Neighbors Predicted Digits', 'Neural Network Predicted Digits']]\n",
    "            }\n",
    "    masterData = []\n",
    "    for idx,nm in enumerate(['Actual Handwritten Digits','Nearest Neighbors Predicted Digits', 'Neural Network Predicted Digits']):\n",
    "        masterData.append({'data': go.Data([go.Scatter3d(x=transformed_test_data[labels_2[idx] == k,0],y=transformed_test_data[labels_2[idx] == k,1],z=transformed_test_data[labels_2[idx] == k,2],mode='markers',name=cluster_names[idx][labels_2[idx] == k],\n",
    "                                      marker=go.Marker(symbol='dot',\n",
    "                                                       size=5,\n",
    "                                                       color=colors[idx][labels_2[idx] == k],\n",
    "                                                       line=go.Line(color='rgb(50,50,50)', width=0.5)\n",
    "                                                       ),\n",
    "                                      text=plot_names[labels_2[idx] == k],\n",
    "                                      hoverinfo='text'\n",
    "                                      ) for k in set(labels_2[idx])]), 'name': nm })\n",
    "    axis = dict(showbackground=False,\n",
    "            showline=False,\n",
    "            zeroline=False,\n",
    "            showgrid=False,\n",
    "            showticklabels=False,\n",
    "            title=''\n",
    "            )\n",
    "    masterLayout = dict(\n",
    "        title=\"Plots of Classifier Results For Training of 600 digits and Testing of 100 Digits\",\n",
    "        updatemenus=[{'direction': 'left',\n",
    "                      'pad': {'r': 10, 't': 87},\n",
    "                      'showactive': False,\n",
    "                      'type': 'buttons',\n",
    "                      'x': 0.1,\n",
    "                      'xanchor': 'right',\n",
    "                      'y': 0,\n",
    "                      'yanchor': 'top', 'buttons': [\n",
    "                {\n",
    "                    'args': [None, {'frame': {'duration': 500, 'redraw': False},\n",
    "                                    'fromcurrent': True,\n",
    "                                    'transition': {'duration': 300, 'easing': 'quadratic-in-out'}}],\n",
    "                    'label': 'Play',\n",
    "                    'method': 'animate'\n",
    "                },\n",
    "                {\n",
    "                    'args': [[None], {'frame': {'duration': 0, 'redraw': False}, 'mode': 'immediate',\n",
    "                                      'transition': {'duration': 0}}],\n",
    "                    'label': 'Pause',\n",
    "                    'method': 'animate'\n",
    "                }\n",
    "            ]}],\n",
    "        sliders=[sliders_dict],\n",
    "        width=1000,\n",
    "        height=600,\n",
    "        showlegend=True,\n",
    "        scene=go.Scene(\n",
    "            xaxis=go.XAxis(axis),\n",
    "            yaxis=go.YAxis(axis),\n",
    "            zaxis=go.ZAxis(axis),\n",
    "        ),\n",
    "        margin=go.Margin(\n",
    "            t=100\n",
    "        ),\n",
    "        hovermode='closest',\n",
    "        annotations=go.Annotations([\n",
    "            go.Annotation(\n",
    "                showarrow=False,\n",
    "                text=\"\",\n",
    "                xref='paper',\n",
    "                yref='paper',\n",
    "                x=0,\n",
    "                y=0.1,\n",
    "                xanchor='left',\n",
    "                yanchor='bottom',\n",
    "                font=go.Font(\n",
    "                    size=14\n",
    "                )\n",
    "            )\n",
    "        ]), )\n",
    "    py.plot(go.Figure(data=masterData[0]['data'], layout=masterLayout, frames=masterData), filename = './output_stats_project/classifier_results_%d.html'%j, auto_open = False)\n",
    "    \n",
    "print(accuracy)"
   ]
  },
  {
   "cell_type": "code",
   "execution_count": 4,
   "metadata": {},
   "outputs": [
    {
     "name": "stderr",
     "output_type": "stream",
     "text": [
      "/Users/JoshuaLevy/anaconda/envs/py36/lib/python3.6/site-packages/matplotlib/axes/_axes.py:545: UserWarning:\n",
      "\n",
      "No labelled objects found. Use label='...' kwarg on individual plots.\n",
      "\n"
     ]
    },
    {
     "data": {
      "text/plain": [
       "<matplotlib.figure.Figure at 0x1296aca90>"
      ]
     },
     "metadata": {},
     "output_type": "display_data"
    },
    {
     "data": {
      "image/png": "[encoded data removed]",
      "text/plain": [
       "<matplotlib.figure.Figure at 0x1186e2c50>"
      ]
     },
     "metadata": {},
     "output_type": "display_data"
    },
    {
     "data": {
      "image/png": "[encoded data removed]",
      "text/plain": [
       "<matplotlib.figure.Figure at 0x1299b9c18>"
      ]
     },
     "metadata": {},
     "output_type": "display_data"
    }
   ],
   "source": [
    "import seaborn as sns\n",
    "import pandas as pd\n",
    "sns.set(style=\"ticks\")\n",
    "import matplotlib.pyplot as plt\n",
    "model_names = ['Nearest Neighbors', 'Neural Network']\n",
    "plt.style.use('ggplot')\n",
    "plt.figure(figsize=[15,10])\n",
    "sns.boxplot(x='variable',y='value',data=pd.melt(pd.DataFrame({'Nearest Neighbors':accuracy[0],'Neural Network':accuracy[1]})))\n",
    "plt.xlabel('Classification Model')\n",
    "plt.ylabel('Accuracy for Run of 100 Digits')\n",
    "plt.title('Comparison of Classifier Accuracies')\n",
    "plt.legend()\n",
    "plt.savefig('Classifier_Boxplots.png')\n",
    "plt.show()\n",
    "plt.figure(figsize=[10,10])\n",
    "plt.title('Pairwise Differences in Classifier Accuracies')\n",
    "sns.boxplot(x='variable',y='value',data=pd.melt(pd.DataFrame({'Pairwise Differences':np.array(accuracy[0])-np.array(accuracy[1])})))\n",
    "plt.xlabel('')\n",
    "plt.ylabel('Difference in Accuracy Between Two Models')\n",
    "plt.savefig('Pair_Boxplots.png')\n",
    "plt.show()"
   ]
  },
  {
   "cell_type": "code",
   "execution_count": null,
   "metadata": {
    "collapsed": true
   },
   "outputs": [],
   "source": [
    "import pandas as pd\n",
    "final_data = pd.DataFrame({'Nearest Neighbors':accuracy[0],'Neural Network':accuracy[1],'Pairwise Accuracy Differences':np.array(accuracy[0])-np.array(accuracy[1])})\n",
    "final_data.to_csv('classifier_accuracy_out.csv',index=False)"
   ]
  },
  {
   "cell_type": "code",
   "execution_count": null,
   "metadata": {
    "collapsed": true
   },
   "outputs": [],
   "source": []
  }
 ],
 "metadata": {
  "kernelspec": {
   "display_name": "Python 3",
   "language": "python",
   "name": "python3"
  },
  "language_info": {
   "codemirror_mode": {
    "name": "ipython",
    "version": 3
   },
   "file_extension": ".py",
   "mimetype": "text/x-python",
   "name": "python",
   "nbconvert_exporter": "python",
   "pygments_lexer": "ipython3",
   "version": "3.6.2"
  }
 },
 "nbformat": 4,
 "nbformat_minor": 2
}
