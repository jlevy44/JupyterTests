{
 "cells": [
  {
   "cell_type": "code",
   "execution_count": 38,
   "metadata": {},
   "outputs": [],
   "source": [
    "parse_txt = \"\"\"A_acidus_CBS_106_47/       21-Nov-2013 06:33    -   \n",
    "[DIR] A_aculeatus_ATCC16872/     21-Nov-2013 06:33    -   \n",
    "[DIR] A_brasiliensis_CBS_101740/ 21-Nov-2013 06:33    -   \n",
    "[DIR] A_carbonarius_ITEM_5010/   21-Nov-2013 06:33    -   \n",
    "[DIR] A_clavatus_NRRL_1/         21-Nov-2013 06:33    -   \n",
    "[DIR] A_flavus_NRRL_3357/        21-Nov-2013 06:33    -   \n",
    "[DIR] A_fumigatus_A1163/         21-Nov-2013 06:33    -   \n",
    "[DIR] A_fumigatus_Af293/         11-Jan-2013 10:39    -   \n",
    "[DIR] A_glaucus_CBS_516_65/      21-Nov-2013 06:33    -   \n",
    "[DIR] A_kawachii/                21-Nov-2013 06:33    -   \n",
    "[DIR] A_nidulans_FGSC_A4/        12-Jul-2012 10:58    -   \n",
    "[DIR] A_niger_ATCC_1015/         21-Nov-2013 06:33    -   \n",
    "[DIR] A_niger_CBS_513_88/        12-Jul-2012 10:58    -   \n",
    "[DIR] A_oryzae_RIB40/            12-Jul-2012 10:58    -   \n",
    "[DIR] A_sydowii/                 21-Nov-2013 06:33    -   \n",
    "[DIR] A_terreus_NIH2624/         21-Nov-2013 06:33    -   \n",
    "[DIR] A_tubingensis_CBS_134_48/  21-Nov-2013 06:33    -   \n",
    "[DIR] A_versicolor/              21-Nov-2013 06:33    -   \n",
    "[DIR] A_wentii_DTO_134E9/        21-Nov-2013 06:33    -   \n",
    "[DIR] A_zonatus/                 21-Nov-2013 06:33    -   \n",
    "[DIR] NCBI/                      08-Nov-2013 13:29    -   \n",
    "[DIR] N_fischeri_NRRL_181/ \"\"\"\n",
    "\n",
    "folders = '\\n'.join(['wget http://www.aspergillusgenome.org/download/sequence/'+a+'current/'+'%s_chromosomes.fasta.gz && gzip -d %s_chromosomes.fasta.gz'%(a.strip('/'),a.strip('/')) for a in parse_txt.split() if a.startswith('A_')])"
   ]
  },
  {
   "cell_type": "code",
   "execution_count": 39,
   "metadata": {
    "scrolled": true
   },
   "outputs": [
    {
     "name": "stdout",
     "output_type": "stream",
     "text": [
      "wget http://www.aspergillusgenome.org/download/sequence/A_acidus_CBS_106_47/current/A_acidus_CBS_106_47_chromosomes.fasta.gz && gzip -d A_acidus_CBS_106_47_chromosomes.fasta.gz\n",
      "wget http://www.aspergillusgenome.org/download/sequence/A_aculeatus_ATCC16872/current/A_aculeatus_ATCC16872_chromosomes.fasta.gz && gzip -d A_aculeatus_ATCC16872_chromosomes.fasta.gz\n",
      "wget http://www.aspergillusgenome.org/download/sequence/A_brasiliensis_CBS_101740/current/A_brasiliensis_CBS_101740_chromosomes.fasta.gz && gzip -d A_brasiliensis_CBS_101740_chromosomes.fasta.gz\n",
      "wget http://www.aspergillusgenome.org/download/sequence/A_carbonarius_ITEM_5010/current/A_carbonarius_ITEM_5010_chromosomes.fasta.gz && gzip -d A_carbonarius_ITEM_5010_chromosomes.fasta.gz\n",
      "wget http://www.aspergillusgenome.org/download/sequence/A_clavatus_NRRL_1/current/A_clavatus_NRRL_1_chromosomes.fasta.gz && gzip -d A_clavatus_NRRL_1_chromosomes.fasta.gz\n",
      "wget http://www.aspergillusgenome.org/download/sequence/A_flavus_NRRL_3357/current/A_flavus_NRRL_3357_chromosomes.fasta.gz && gzip -d A_flavus_NRRL_3357_chromosomes.fasta.gz\n",
      "wget http://www.aspergillusgenome.org/download/sequence/A_fumigatus_A1163/current/A_fumigatus_A1163_chromosomes.fasta.gz && gzip -d A_fumigatus_A1163_chromosomes.fasta.gz\n",
      "wget http://www.aspergillusgenome.org/download/sequence/A_fumigatus_Af293/current/A_fumigatus_Af293_chromosomes.fasta.gz && gzip -d A_fumigatus_Af293_chromosomes.fasta.gz\n",
      "wget http://www.aspergillusgenome.org/download/sequence/A_glaucus_CBS_516_65/current/A_glaucus_CBS_516_65_chromosomes.fasta.gz && gzip -d A_glaucus_CBS_516_65_chromosomes.fasta.gz\n",
      "wget http://www.aspergillusgenome.org/download/sequence/A_kawachii/current/A_kawachii_chromosomes.fasta.gz && gzip -d A_kawachii_chromosomes.fasta.gz\n",
      "wget http://www.aspergillusgenome.org/download/sequence/A_nidulans_FGSC_A4/current/A_nidulans_FGSC_A4_chromosomes.fasta.gz && gzip -d A_nidulans_FGSC_A4_chromosomes.fasta.gz\n",
      "wget http://www.aspergillusgenome.org/download/sequence/A_niger_ATCC_1015/current/A_niger_ATCC_1015_chromosomes.fasta.gz && gzip -d A_niger_ATCC_1015_chromosomes.fasta.gz\n",
      "wget http://www.aspergillusgenome.org/download/sequence/A_niger_CBS_513_88/current/A_niger_CBS_513_88_chromosomes.fasta.gz && gzip -d A_niger_CBS_513_88_chromosomes.fasta.gz\n",
      "wget http://www.aspergillusgenome.org/download/sequence/A_oryzae_RIB40/current/A_oryzae_RIB40_chromosomes.fasta.gz && gzip -d A_oryzae_RIB40_chromosomes.fasta.gz\n",
      "wget http://www.aspergillusgenome.org/download/sequence/A_sydowii/current/A_sydowii_chromosomes.fasta.gz && gzip -d A_sydowii_chromosomes.fasta.gz\n",
      "wget http://www.aspergillusgenome.org/download/sequence/A_terreus_NIH2624/current/A_terreus_NIH2624_chromosomes.fasta.gz && gzip -d A_terreus_NIH2624_chromosomes.fasta.gz\n",
      "wget http://www.aspergillusgenome.org/download/sequence/A_tubingensis_CBS_134_48/current/A_tubingensis_CBS_134_48_chromosomes.fasta.gz && gzip -d A_tubingensis_CBS_134_48_chromosomes.fasta.gz\n",
      "wget http://www.aspergillusgenome.org/download/sequence/A_versicolor/current/A_versicolor_chromosomes.fasta.gz && gzip -d A_versicolor_chromosomes.fasta.gz\n",
      "wget http://www.aspergillusgenome.org/download/sequence/A_wentii_DTO_134E9/current/A_wentii_DTO_134E9_chromosomes.fasta.gz && gzip -d A_wentii_DTO_134E9_chromosomes.fasta.gz\n",
      "wget http://www.aspergillusgenome.org/download/sequence/A_zonatus/current/A_zonatus_chromosomes.fasta.gz && gzip -d A_zonatus_chromosomes.fasta.gz\n"
     ]
    }
   ],
   "source": [
    "print(folders)"
   ]
  },
  {
   "cell_type": "code",
   "execution_count": 24,
   "metadata": {},
   "outputs": [
    {
     "data": {
      "text/plain": [
       "['A_wentii/']"
      ]
     },
     "execution_count": 24,
     "metadata": {},
     "output_type": "execute_result"
    }
   ],
   "source": [
    "'A_wentii/'.rsplit('_',len('A_wentii/'.split('_'))-2)"
   ]
  },
  {
   "cell_type": "code",
   "execution_count": null,
   "metadata": {
    "collapsed": true
   },
   "outputs": [],
   "source": []
  }
 ],
 "metadata": {
  "kernelspec": {
   "display_name": "Python 3",
   "language": "python",
   "name": "python3"
  },
  "language_info": {
   "codemirror_mode": {
    "name": "ipython",
    "version": 3
   },
   "file_extension": ".py",
   "mimetype": "text/x-python",
   "name": "python",
   "nbconvert_exporter": "python",
   "pygments_lexer": "ipython3",
   "version": "3.6.2"
  }
 },
 "nbformat": 4,
 "nbformat_minor": 2
}
