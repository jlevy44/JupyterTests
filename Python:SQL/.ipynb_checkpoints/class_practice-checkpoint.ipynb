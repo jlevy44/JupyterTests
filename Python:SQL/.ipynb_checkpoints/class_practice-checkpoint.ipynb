{
 "cells": [
  {
   "cell_type": "code",
   "execution_count": 6,
   "metadata": {
    "collapsed": true
   },
   "outputs": [],
   "source": [
    "import numpy as np\n",
    "\n",
    "position_dict = {'r':np.array([1,0]),'l':np.array([-1,0]),'f':np.array([0,1]),'b':np.array([0,-1])}\n",
    "\n",
    "class dog:\n",
    "    \n",
    "    position = np.array([0,0])\n",
    "    \n",
    "    def __init__(self, name, owner, bark_type):\n",
    "        self.name = name\n",
    "        self.owner = owner\n",
    "        self.bark_type = bark_type\n",
    "        \n",
    "    def bark(self):\n",
    "        print(self.bark_type)\n",
    "        \n",
    "    def move(self,direction):\n",
    "        for d in direction:\n",
    "            self.position += position_dict[d]\n",
    "        \n",
    "    def print_position(self):\n",
    "        print(self.position)\n",
    "        \n",
    "    def distance(self, shelter):\n",
    "        self.distance = np.sqrt(np.sum(( shelter.position - self.position ) ** 2))\n",
    "        print('Distance to shelter is %f'%self.distance)\n",
    "        \n",
    "    def owner_status(self):\n",
    "        print(\"%s's owner is %s\"%(self.name,self.owner))\n",
    "        \n",
    "class shelter:\n",
    "    \n",
    "    def __init__(self, position):\n",
    "        self.position = position\n",
    "        \n",
    "        \n",
    "s = shelter(position = np.array([5,6]))\n",
    "\n",
    "d = dog('Rex','Tom','Bark')"
   ]
  },
  {
   "cell_type": "code",
   "execution_count": 7,
   "metadata": {},
   "outputs": [
    {
     "name": "stdout",
     "output_type": "stream",
     "text": [
      "[0 0]\n"
     ]
    }
   ],
   "source": [
    "d.print_position()"
   ]
  },
  {
   "cell_type": "code",
   "execution_count": 9,
   "metadata": {},
   "outputs": [
    {
     "name": "stdout",
     "output_type": "stream",
     "text": [
      "[-10  11]\n"
     ]
    }
   ],
   "source": [
    "d.move('rllllfffffffllllffff')\n",
    "d.print_position()"
   ]
  },
  {
   "cell_type": "code",
   "execution_count": 10,
   "metadata": {},
   "outputs": [
    {
     "name": "stdout",
     "output_type": "stream",
     "text": [
      "Distance to shelter is 15.811388\n"
     ]
    }
   ],
   "source": [
    "d.distance(s)"
   ]
  },
  {
   "cell_type": "code",
   "execution_count": 11,
   "metadata": {},
   "outputs": [
    {
     "name": "stdout",
     "output_type": "stream",
     "text": [
      "Rex's owner is Tom\n"
     ]
    }
   ],
   "source": [
    "d.owner_status()"
   ]
  },
  {
   "cell_type": "code",
   "execution_count": null,
   "metadata": {
    "collapsed": true
   },
   "outputs": [],
   "source": []
  }
 ],
 "metadata": {
  "kernelspec": {
   "display_name": "Python 3",
   "language": "python",
   "name": "python3"
  },
  "language_info": {
   "codemirror_mode": {
    "name": "ipython",
    "version": 3
   },
   "file_extension": ".py",
   "mimetype": "text/x-python",
   "name": "python",
   "nbconvert_exporter": "python",
   "pygments_lexer": "ipython3",
   "version": "3.6.2"
  }
 },
 "nbformat": 4,
 "nbformat_minor": 2
}
