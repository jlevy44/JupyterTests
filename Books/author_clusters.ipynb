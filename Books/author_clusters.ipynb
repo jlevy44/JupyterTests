{
 "cells": [
  {
   "cell_type": "code",
   "execution_count": 13,
   "metadata": {},
   "outputs": [],
   "source": [
    "from sklearn.feature_extraction.text import TfidfVectorizer as Tfi\n",
    "import pandas as pd, numpy as np\n",
    "import os\n",
    "#https://www.gutenberg.org/ebooks/158\n",
    "tfi = Tfi(([open(x,'r').read() for x in os.listdir('.') if x.endswith('.txt')]))\n",
    "out_data = tfi.fit_transform([open(x,'r').read() for x in os.listdir('.') if x.endswith('.txt')])"
   ]
  },
  {
   "cell_type": "code",
   "execution_count": 22,
   "metadata": {},
   "outputs": [],
   "source": [
    "books = [x for x in os.listdir('.') if x.endswith('.txt')]\n",
    "books\n",
    "authors = ['MT','JA','MT','SP','MT','SP','JA','JA','SP','SP']"
   ]
  },
  {
   "cell_type": "code",
   "execution_count": 17,
   "metadata": {},
   "outputs": [],
   "source": [
    "from sklearn.decomposition import KernelPCA\n",
    "\n",
    "t_data = KernelPCA(3,kernel='cosine').fit_transform(out_data)\n",
    "\n"
   ]
  },
  {
   "cell_type": "code",
   "execution_count": 18,
   "metadata": {},
   "outputs": [
    {
     "data": {
      "text/plain": [
       "array([[ 0.19908731,  0.24533266, -0.06270491],\n",
       "       [ 0.21171891, -0.20599843,  0.07463811],\n",
       "       [ 0.16792413,  0.29995588, -0.11528726],\n",
       "       [-0.26179003, -0.18570529, -0.42035902],\n",
       "       [ 0.15811505,  0.17188309, -0.00875883],\n",
       "       [-0.31914068,  0.0207941 ,  0.07746743],\n",
       "       [ 0.21601759, -0.22465133,  0.0741166 ],\n",
       "       [ 0.22524961, -0.21412399,  0.0573482 ],\n",
       "       [-0.30457945,  0.07730918,  0.18005943],\n",
       "       [-0.29260244,  0.01520413,  0.14348024]])"
      ]
     },
     "execution_count": 18,
     "metadata": {},
     "output_type": "execute_result"
    }
   ],
   "source": [
    "t_data"
   ]
  },
  {
   "cell_type": "code",
   "execution_count": 31,
   "metadata": {},
   "outputs": [
    {
     "data": {
      "text/plain": [
       "'file:///Users/JoshuaLevy/Documents/Repositories/Github/jupyter/Books/temp-plot.html'"
      ]
     },
     "execution_count": 31,
     "metadata": {},
     "output_type": "execute_result"
    }
   ],
   "source": [
    "import plotly\n",
    "import plotly.graph_objs as go\n",
    "import plotly.offline as py\n",
    "#plotly.offline.init_notebook_mode()\n",
    "N = 2\n",
    "c = ['hsl(' + str(h) + ',50%' + ',50%)' for h in np.linspace(0, 360, N + 1)]\n",
    "author_idx = {author:i for i,author in enumerate(set(authors))}\n",
    "colors = np.array([c[author_idx[author]] for author in authors])\n",
    "authors = np.array(['MT','JA','MT','SP','MT','SP','JA','JA','SP','SP'])\n",
    "names = np.array(books)\n",
    "plots = []\n",
    "for author in author_idx:\n",
    "    plots.append(go.Scatter3d(x=t_data[authors==author,0],y=t_data[authors==author,1],z=t_data[authors==author,2],mode='markers',name=author, marker = {'color':c[author_idx[author]]}, text=names[authors==author]))\n",
    "fig = go.Figure(data=plots)\n",
    "py.plot(fig,'out.html')"
   ]
  },
  {
   "cell_type": "code",
   "execution_count": null,
   "metadata": {
    "collapsed": true
   },
   "outputs": [],
   "source": []
  }
 ],
 "metadata": {
  "kernelspec": {
   "display_name": "Python 3",
   "language": "python",
   "name": "python3"
  },
  "language_info": {
   "codemirror_mode": {
    "name": "ipython",
    "version": 3
   },
   "file_extension": ".py",
   "mimetype": "text/x-python",
   "name": "python",
   "nbconvert_exporter": "python",
   "pygments_lexer": "ipython3",
   "version": "3.6.2"
  }
 },
 "nbformat": 4,
 "nbformat_minor": 2
}
