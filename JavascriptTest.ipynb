{
 "cells": [
  {
   "cell_type": "code",
   "execution_count": 73,
   "metadata": {
    "collapsed": true
   },
   "outputs": [],
   "source": [
    "//#var d3 = require(\"d3\");\n",
    "function rowSumOddNumbers(n) {\n",
    "    function add(a, b) {return a + b}\n",
    "    var startrow = 1 + 2* Array.apply(null, { length: n   }).map(eval.call, Number).reduce(add, 0); \n",
    "    return (n)*(startrow + startrow + 2*(n-1))/2  \n",
    "    }\n",
    "\n"
   ]
  },
  {
   "cell_type": "raw",
   "metadata": {
    "collapsed": true
   },
   "source": [
    "rowSumOddNumbers(1)"
   ]
  },
  {
   "cell_type": "code",
   "execution_count": 66,
   "metadata": {},
   "outputs": [
    {
     "data": {
      "text/plain": [
       "1"
      ]
     },
     "execution_count": 66,
     "metadata": {},
     "output_type": "execute_result"
    }
   ],
   "source": [
    "rowSumOddNumbers(1)\n",
    "//console.log(startrow);\n",
    "//+ n*(1 + startrow + 2*n)/2//Math.pow(2,n);\n",
    "//console.log(numArr);\n",
    "    //console.log(Array.apply(null, { length: n   }).map(eval.call, Number));"
   ]
  },
  {
   "cell_type": "code",
   "execution_count": 65,
   "metadata": {},
   "outputs": [
    {
     "data": {
      "text/plain": [
       "27"
      ]
     },
     "execution_count": 65,
     "metadata": {},
     "output_type": "execute_result"
    }
   ],
   "source": [
    "rowSumOddNumbers(3)"
   ]
  },
  {
   "cell_type": "code",
   "execution_count": 74,
   "metadata": {
    "collapsed": true
   },
   "outputs": [],
   "source": [
    "function rowSumOddNumbers2(n) {\n",
    "    return Math.pow(n,3) \n",
    "    }"
   ]
  },
  {
   "cell_type": "code",
   "execution_count": 83,
   "metadata": {},
   "outputs": [
    {
     "data": {
      "text/plain": [
       "true"
      ]
     },
     "execution_count": 83,
     "metadata": {},
     "output_type": "execute_result"
    }
   ],
   "source": [
    "var i = 4;\n",
    "rowSumOddNumbers(i) == rowSumOddNumbers2(i) \n",
    "// wow.... :/"
   ]
  },
  {
   "cell_type": "code",
   "execution_count": 84,
   "metadata": {},
   "outputs": [
    {
     "ename": "TypeError",
     "evalue": "Identifier 'rowSumOddNumbers3' has already been declared",
     "output_type": "error",
     "traceback": [
      "TypeError: Identifier 'rowSumOddNumbers3' has already been declared",
      "    at evalmachine.<anonymous>:1:1",
      "    at ContextifyScript.Script.runInThisContext (vm.js:25:33)",
      "    at Object.runInThisContext (vm.js:97:38)",
      "    at run ([eval]:775:15)",
      "    at onRunRequest ([eval]:620:18)",
      "    at onMessage ([eval]:588:13)",
      "    at emitTwo (events.js:106:13)",
      "    at process.emit (events.js:191:7)",
      "    at process.nextTick (internal/child_process.js:758:12)",
      "    at _combinedTickCallback (internal/process/next_tick.js:73:7)"
     ]
    }
   ],
   "source": [
    "let rowSumOddNumbers3 = n => Math.pow(n,3);"
   ]
  },
  {
   "cell_type": "code",
   "execution_count": 85,
   "metadata": {},
   "outputs": [
    {
     "data": {
      "text/plain": [
       "27"
      ]
     },
     "execution_count": 85,
     "metadata": {},
     "output_type": "execute_result"
    }
   ],
   "source": [
    "rowSumOddNumbers3(3)"
   ]
  },
  {
   "cell_type": "code",
   "execution_count": 86,
   "metadata": {
    "collapsed": true
   },
   "outputs": [],
   "source": [
    "const removeChar = str => str.slice(1,-1)"
   ]
  },
  {
   "cell_type": "code",
   "execution_count": null,
   "metadata": {
    "collapsed": true
   },
   "outputs": [],
   "source": [
    "function findNeedle(haystack) {\n",
    "  return 'found the needle at position ' + haystack.findIndex(a => a == 'needle').toString()\n",
    "}"
   ]
  },
  {
   "cell_type": "code",
   "execution_count": null,
   "metadata": {
    "collapsed": true
   },
   "outputs": [],
   "source": [
    "function even_or_odd(number) {\n",
    "  return number % 2 == 0 ? 'Even' : 'Odd'\n",
    "}\n",
    "\n",
    "const even_or_odd = number => number % 2 == 0 ? 'Even' : 'Odd'"
   ]
  },
  {
   "cell_type": "code",
   "execution_count": null,
   "metadata": {
    "collapsed": true
   },
   "outputs": [],
   "source": [
    "function positiveSum(arr) {\n",
    "  function add(a, b) {return a + b}\n",
    "  for (var i = 0; i < arr.length; i++) {\n",
    "      if (arr[i] < 0) {\n",
    "          arr[i] = 0\n",
    "      }\n",
    "  }\n",
    "  return arr.reduce(add, 0);\n",
    "}"
   ]
  },
  {
   "cell_type": "code",
   "execution_count": 9,
   "metadata": {},
   "outputs": [],
   "source": [
    "const findShort4 = s => Math.min(...s.split(\" \").map(a => a.length))//Math.min(...s.split(' ').apply(a => a.length))"
   ]
  },
  {
   "cell_type": "code",
   "execution_count": 10,
   "metadata": {},
   "outputs": [
    {
     "data": {
      "text/plain": [
       "5"
      ]
     },
     "execution_count": 10,
     "metadata": {},
     "output_type": "execute_result"
    }
   ],
   "source": [
    "findShort4(\"Example tests\")"
   ]
  },
  {
   "cell_type": "code",
   "execution_count": 27,
   "metadata": {
    "collapsed": true
   },
   "outputs": [],
   "source": [
    "function doubleChar(str) {\n",
    "  return str.split('').map(a => a == ' ' ? ' ' : a + a).join('')\n",
    "}\n",
    "const doubleChar = str => str.split('').map(a => a == ' ' ? ' ' : a + a).join('')"
   ]
  },
  {
   "cell_type": "code",
   "execution_count": 30,
   "metadata": {},
   "outputs": [
    {
     "data": {
      "text/plain": [
       "'aaaa'"
      ]
     },
     "execution_count": 30,
     "metadata": {},
     "output_type": "execute_result"
    }
   ],
   "source": [
    "doubleChar('hello ')\n",
    "'a'.repeat(4)"
   ]
  },
  {
   "cell_type": "code",
   "execution_count": 48,
   "metadata": {
    "collapsed": true
   },
   "outputs": [],
   "source": [
    "function towerBuilder(nFloors) {\n",
    "  var startArr = []\n",
    "  for (var i = 0; i < nFloors ; i ++){\n",
    "      startArr.push(' '.repeat((nFloors - i - 1)) + '*'.repeat(1 + 2*i) + ' '.repeat((nFloors - i - 1)))\n",
    "  }\n",
    "    return startArr\n",
    "}"
   ]
  },
  {
   "cell_type": "code",
   "execution_count": 50,
   "metadata": {},
   "outputs": [
    {
     "data": {
      "text/plain": [
       "[ '                               *                               ',\n",
       "  '                              ***                              ',\n",
       "  '                             *****                             ',\n",
       "  '                            *******                            ',\n",
       "  '                           *********                           ',\n",
       "  '                          ***********                          ',\n",
       "  '                         *************                         ',\n",
       "  '                        ***************                        ',\n",
       "  '                       *****************                       ',\n",
       "  '                      *******************                      ',\n",
       "  '                     *********************                     ',\n",
       "  '                    ***********************                    ',\n",
       "  '                   *************************                   ',\n",
       "  '                  ***************************                  ',\n",
       "  '                 *****************************                 ',\n",
       "  '                *******************************                ',\n",
       "  '               *********************************               ',\n",
       "  '              ***********************************              ',\n",
       "  '             *************************************             ',\n",
       "  '            ***************************************            ',\n",
       "  '           *****************************************           ',\n",
       "  '          *******************************************          ',\n",
       "  '         *********************************************         ',\n",
       "  '        ***********************************************        ',\n",
       "  '       *************************************************       ',\n",
       "  '      ***************************************************      ',\n",
       "  '     *****************************************************     ',\n",
       "  '    *******************************************************    ',\n",
       "  '   *********************************************************   ',\n",
       "  '  ***********************************************************  ',\n",
       "  ' ************************************************************* ',\n",
       "  '***************************************************************' ]"
      ]
     },
     "execution_count": 50,
     "metadata": {},
     "output_type": "execute_result"
    }
   ],
   "source": [
    "towerBuilder(32)"
   ]
  },
  {
   "cell_type": "code",
   "execution_count": null,
   "metadata": {
    "collapsed": true
   },
   "outputs": [],
   "source": [
    "function isIsogram(str){\n",
    "  previousLetters = []\n",
    "  for (var i = 0; i < str.length; i ++){\n",
    "    if (previousLetters.indexOf(str[i].toLowerCase()) != -1) {\n",
    "    return(false)\n",
    "    }\n",
    "    previousLetters.push(str[i].toLowerCase())\n",
    "  }\n",
    "  return(true)\n",
    "}"
   ]
  }
 ],
 "metadata": {
  "kernelspec": {
   "display_name": "Javascript (Node.js)",
   "language": "javascript",
   "name": "javascript"
  },
  "language_info": {
   "file_extension": ".js",
   "mimetype": "application/javascript",
   "name": "javascript",
   "version": "6.11.0"
  }
 },
 "nbformat": 4,
 "nbformat_minor": 2
}
